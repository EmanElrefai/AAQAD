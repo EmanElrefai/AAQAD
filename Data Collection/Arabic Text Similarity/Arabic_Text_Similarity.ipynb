{
  "nbformat": 4,
  "nbformat_minor": 0,
  "metadata": {
    "colab": {
      "name": "Arabic_Text_Similarity.ipynb",
      "provenance": [],
      "collapsed_sections": [
        "rk0cng5MCkeV",
        "o9KXZx83jr6U",
        "QjIfLSyDbK92",
        "ux7McW7AdaxZ",
        "6gxprIQVgQoE",
        "i3QgPHbeimuk",
        "9VR2SngthMzv",
        "w1knHpmsf3gn",
        "IIfE5-rk1kXk",
        "9rXLezHR18iM",
        "bMOujxU9dFHd",
        "f5zGO9SKcYko",
        "PN6ZzqdCpjGZ",
        "5EQ03KCavrbe"
      ],
      "toc_visible": true
    },
    "kernelspec": {
      "name": "python3",
      "display_name": "Python 3"
    },
    "accelerator": "GPU"
  },
  "cells": [
    {
      "cell_type": "markdown",
      "metadata": {
        "id": "rk0cng5MCkeV",
        "colab_type": "text"
      },
      "source": [
        "# **Model 1: Using Difflib Function**"
      ]
    },
    {
      "cell_type": "code",
      "metadata": {
        "id": "RSXeFeJUCqHw",
        "colab_type": "code",
        "colab": {}
      },
      "source": [
        "import difflib\n",
        "\n",
        "\n",
        "def calculate_similarity(paragraph1, paragraph2):\n",
        "  \n",
        "  sequence = difflib.SequenceMatcher(a = paragraph1, b = paragraph2, autojunk= False)\n",
        "  difference = sequence.ratio() * 100\n",
        "  \n",
        "  return difference  "
      ],
      "execution_count": 0,
      "outputs": []
    },
    {
      "cell_type": "code",
      "metadata": {
        "id": "_G8nwRWDlhzK",
        "colab_type": "code",
        "outputId": "b9d24752-ba09-43ae-a1ab-4c9fa88c99be",
        "colab": {
          "base_uri": "https://localhost:8080/",
          "height": 34
        }
      },
      "source": [
        "###Testing\n",
        "\n",
        "# sent1 = u'الإرهابي الصالح هي رواية خيال سياسي للكاتبة دوريس ليسينج. ظهرت أول طبعة للرواية في سبتمبر من عام 1985 للناشرين جوناثان كيب في المملكة المتحدة وألفريد أ'\n",
        "# sent2 = u'روايه الكاتبه دوريس ليسينج هي روايه خيال سياسي ظهرت في سبتمبر 1985 بعنوان الارهابي الصالح وتم نشرها عن طريق جوناثان كيب والفريد أ في انجلترا'\n",
        "\n",
        "\n",
        "sent1 = u'ذهب يوسف الى الكليه'\n",
        "sent2 = u'يوسف يمضى مسرعا للجامعه'\n",
        "\n",
        "# print(calculate_similarity(\"في هيوستن بولاية تكساس\", \"هيوستن، تكساس\"))\n",
        "\n",
        "print(calculate_similarity(sent1,sent2))"
      ],
      "execution_count": 0,
      "outputs": [
        {
          "output_type": "stream",
          "text": [
            "52.38095238095239\n"
          ],
          "name": "stdout"
        }
      ]
    },
    {
      "cell_type": "code",
      "metadata": {
        "id": "OLag4DWIy9e8",
        "colab_type": "code",
        "outputId": "c0fdd73f-f6fb-489d-972e-17150ec6f07d",
        "colab": {
          "base_uri": "https://localhost:8080/",
          "height": 34
        }
      },
      "source": [
        "print(calculate_similarity(\"غرفة\",\"حجرة\"))"
      ],
      "execution_count": 0,
      "outputs": [
        {
          "output_type": "stream",
          "text": [
            "50.0\n"
          ],
          "name": "stdout"
        }
      ]
    },
    {
      "cell_type": "code",
      "metadata": {
        "id": "3ovPPV4MhN8B",
        "colab_type": "code",
        "outputId": "6efb2ffc-bc0c-488f-daa3-dcfd65e6de2e",
        "colab": {
          "base_uri": "https://localhost:8080/",
          "height": 34
        }
      },
      "source": [
        "print(calculate_similarity(\"adel\",\"adddddddddddddel\"))"
      ],
      "execution_count": 0,
      "outputs": [
        {
          "output_type": "stream",
          "text": [
            "40.0\n"
          ],
          "name": "stdout"
        }
      ]
    },
    {
      "cell_type": "code",
      "metadata": {
        "id": "5Ovs0uL_RKvG",
        "colab_type": "code",
        "outputId": "1bec732c-6d74-4a26-c3c7-2e4a3f4f6e7b",
        "colab": {
          "base_uri": "https://localhost:8080/",
          "height": 188
        }
      },
      "source": [
        "## testing\n",
        "\n",
        "translated_ar = translate_to_arabic(\"Beyoncé Giselle Knowles-Carter (/bi?'j?nse?/ bee-YON-say) (born September 4, 1981) is an American singer, songwriter, record producer and actress.Born and raised in Houston, Texas, she performed in various singing and dancing competitions as a child, and rose to fame in the late 1990s as lead singer of R&B girl-group Destiny's Child. Managed by her father, Mathew Knowles, the group became one of the world's best-selling girl groups of all time. Their hiatus saw the release of Beyoncé's debut album, Dangerously in Love (2003), which established her as a solo artist worldwide, earned five Grammy Awards and featured the Billboard Hot 100 number-one singles 'Crazy in Love' and 'Baby Boy'.\") \n",
        "\n",
        "print(\"translated paragraph\")\n",
        "print(translated_ar.text)\n",
        "\n",
        "print(\"#############################\")\n",
        "\n",
        "print(\"Original paragraph\")\n",
        "print(ar_parag[0])\n",
        "\n",
        "print(\"#############################\")\n",
        "\n",
        "print(\"Similarity between paragraphs\")\n",
        "x = calculate_similarity(paragraph1= translated_ar.text, paragraph2= ar_parag[4])\n",
        "print(x)\n",
        "\n"
      ],
      "execution_count": 0,
      "outputs": [
        {
          "output_type": "stream",
          "text": [
            "translated paragraph\n",
            "بيونسي جيزيل نولز-كارتر (/ bi؟ 'j؟ nse؟ / bee-YON-say) (من مواليد 4 سبتمبر 1981) هي مغنية أمريكية وكاتبة أغاني ومنتجة تسجيل وممثلة. ولدت ونشأت في هيوستن ، تكساس في مختلف مسابقات الغناء والرقص كطفل ، واشتهرت في أواخر التسعينيات كمغنية رائدة في مجموعة ديستينيز تشايلد للبنات. أصبحت هذه المجموعة ، التي يديرها والدها ، ماثيو نولز ، واحدة من أفضل مجموعات الفتيات مبيعًا في العالم على الإطلاق. شهدت فترة توقفهم إطلاق ألبوم بيونسي لأول مرة ، Dangerious in Love (2003) ، الذي أسسها كفنانة منفردة في جميع أنحاء العالم ، وحصلت على خمس جوائز Grammy وعرضت أغنية Billboard Hot 100 الفردية الأولى \"Crazy in Love\" و \"Baby Boy\" .\n",
            "#############################\n",
            "Original paragraph\n",
            "بيونسي جيزيل نولز-كارتر (من مواليد 4 سبتمبر، 1981)، المعروفة باسم بيونسي. ولدت ونشأت في هيوستن بولاية تكساس، هي مغنية وممثلة أميركية حائزة على 23 جائزة غرامي.غنت في مسابقات غناء ورقص مختلفة عندما كانت طفلة، أصبحت مشهورة في أواخر التسعينات كمغنية آر أند بي (رئيسية) للفرقة الغنائية النسائية دستنيز تشايلد. والتي أديرت من قِبل والدها ماثيو نولز، وأصبحت الفرقة واحدة من الأكثر مبيعاً في العالم من الفرق النسائية على الإطلاق. وقد شهد إنفصال الفرقة المؤقت صدور ألبوم بيونسي الأول  Dangerously in Love دانجيروسلي إن لوف  (2003)، والذي أنشأها بأن تكون فنان منفرد ناجح في العالم؛ بيعت منه 16 مليون نسخة، حصل على خمسة جوائز غرامي وتضمن الأغاني التي وصلت إلى قمة الرسم البياني الأمريكي بيلبورد هوت 100 \"كريزي إن لوف\" و\"بيبي بوي\". \n",
            "\n",
            "#############################\n",
            "Similarity between paragraphs\n",
            "14.020371479928102\n"
          ],
          "name": "stdout"
        }
      ]
    },
    {
      "cell_type": "markdown",
      "metadata": {
        "id": "o9KXZx83jr6U",
        "colab_type": "text"
      },
      "source": [
        "## **Plotting Histogram [Statistics]**"
      ]
    },
    {
      "cell_type": "code",
      "metadata": {
        "id": "lPYWfjmTqzza",
        "colab_type": "code",
        "colab": {}
      },
      "source": [
        "import matplotlib.pyplot as plt\n",
        "import numpy as np\n",
        "\n",
        "%matplotlib inline"
      ],
      "execution_count": 0,
      "outputs": []
    },
    {
      "cell_type": "code",
      "metadata": {
        "id": "WifLh1uGqzTP",
        "colab_type": "code",
        "colab": {}
      },
      "source": [
        "### Collecting data (Similarities) to plot\n",
        "\n",
        "# x = np.random.normal(size = 1000)\n",
        "\n",
        "x = [0.3602150537634409, 0.42028985507246375, \n",
        "  0.373117033603708, 0.36813186813186816, 0.32517482517482516, \n",
        "  0.4175257731958763, 0.41025641025641024, 0.39408866995073893, \n",
        "  0.4143222506393862, 0.34, 0.391025641025641, 0.3130841121495327, \n",
        "  0.35398230088495575]\n"
      ],
      "execution_count": 0,
      "outputs": []
    },
    {
      "cell_type": "code",
      "metadata": {
        "id": "uozKBX6JCrGE",
        "colab_type": "code",
        "outputId": "3f231a2e-571f-4dca-b8ab-b7a03c75590b",
        "colab": {
          "base_uri": "https://localhost:8080/",
          "height": 362
        }
      },
      "source": [
        "### Plotting\n",
        "\n",
        "n, bins, patches = plt.hist(x, bins='auto', color='#0504aa',alpha=0.7, rwidth=0.85)\n",
        "\n",
        "plt.grid(axis='y', alpha=0.75)\n",
        "\n",
        "plt.xlabel('Similarity Values')\n",
        "plt.ylabel('Count of Appearance')\n",
        "\n",
        "maxfreq = n.max()\n",
        "# Set a clean upper y-axis limit.\n",
        "plt.ylim(ymax=np.ceil(maxfreq / 10) * 10 if maxfreq % 10 else maxfreq + 10)\n"
      ],
      "execution_count": 0,
      "outputs": [
        {
          "output_type": "stream",
          "text": [
            "/usr/local/lib/python3.6/dist-packages/matplotlib/axes/_base.py:3610: MatplotlibDeprecationWarning: \n",
            "The `ymax` argument was deprecated in Matplotlib 3.0 and will be removed in 3.2. Use `top` instead.\n",
            "  alternative='`top`', obj_type='argument')\n"
          ],
          "name": "stderr"
        },
        {
          "output_type": "execute_result",
          "data": {
            "text/plain": [
              "(0.0, 10.0)"
            ]
          },
          "metadata": {
            "tags": []
          },
          "execution_count": 17
        },
        {
          "output_type": "display_data",
          "data": {
            "image/png": "[encoded data removed]",
            "text/plain": [
              "<Figure size 432x288 with 1 Axes>"
            ]
          },
          "metadata": {
            "tags": []
          }
        }
      ]
    },
    {
      "cell_type": "markdown",
      "metadata": {
        "id": "QjIfLSyDbK92",
        "colab_type": "text"
      },
      "source": [
        "# **Model 2: Using Pretrained Arabic Word Embedding Model**"
      ]
    },
    {
      "cell_type": "markdown",
      "metadata": {
        "id": "UudQa98qrh2v",
        "colab_type": "text"
      },
      "source": [
        "**This Source Code is taken from:**\n",
        "1. https://github.com/bakrianoo/aravec\n",
        "2. https://github.com/adhaamehab/textblob-ar"
      ]
    },
    {
      "cell_type": "markdown",
      "metadata": {
        "id": "ux7McW7AdaxZ",
        "colab_type": "text"
      },
      "source": [
        "## **Download Pretrained Word Embedding Model**"
      ]
    },
    {
      "cell_type": "code",
      "metadata": {
        "id": "d-OgzgZwb84O",
        "colab_type": "code",
        "colab": {}
      },
      "source": [
        "### downloading a pretrained arabic word embedding model\n",
        "!wget -qq https://bakrianoo.sfo2.digitaloceanspaces.com/aravec/full_grams_cbow_300_twitter.zip -P ./data\n",
        "\n",
        "  \n",
        "### unzip the pretrained model  \n",
        "!unzip -qq data/full_grams_cbow_300_twitter.zip -d ./data"
      ],
      "execution_count": 0,
      "outputs": []
    },
    {
      "cell_type": "code",
      "metadata": {
        "id": "xnEox3wWzj1U",
        "colab_type": "code",
        "colab": {}
      },
      "source": [
        "### downloading a pretrained arabic word embedding model\n",
        "!wget -qq https://bakrianoo.sfo2.digitaloceanspaces.com/aravec/full_grams_cbow_300_wiki.zip -P ./data\n",
        "\n",
        "### unzip the pretrained model  \n",
        "!unzip -qq data/full_grams_cbow_300_wiki.zip -d ./data"
      ],
      "execution_count": 0,
      "outputs": []
    },
    {
      "cell_type": "markdown",
      "metadata": {
        "id": "6gxprIQVgQoE",
        "colab_type": "text"
      },
      "source": [
        "## **utilities.py Module**"
      ]
    },
    {
      "cell_type": "code",
      "metadata": {
        "id": "K6uQKloDgVAE",
        "colab_type": "code",
        "colab": {}
      },
      "source": [
        "# =========================\n",
        "# ==== Helper Methods =====\n",
        "import re\n",
        "import numpy as np\n",
        "from nltk import ngrams\n",
        "\n",
        "# Clean/Normalize Arabic Text\n",
        "def clean_str(text):\n",
        "    search = [\"أ\",\"إ\",\"آ\",\"ة\",\"_\",\"-\",\"/\",\".\",\"،\",\" و \",\" يا \",'\"',\"ـ\",\"'\",\"ى\",\"\\\\\",'\\n', '\\t','&quot;','?','؟','!']\n",
        "    replace = [\"ا\",\"ا\",\"ا\",\"ه\",\" \",\" \",\"\",\"\",\"\",\" و\",\" يا\",\"\",\"\",\"\",\"ي\",\"\",' ', ' ',' ',' ? ',' ؟ ',' ! ']\n",
        "    \n",
        "    #remove tashkeel\n",
        "    p_tashkeel = re.compile(r'[\\u0617-\\u061A\\u064B-\\u0652]')\n",
        "    text = re.sub(p_tashkeel,\"\", text)\n",
        "    \n",
        "    #remove longation\n",
        "    p_longation = re.compile(r'(.)\\1+')\n",
        "    subst = r\"\\1\\1\"\n",
        "    text = re.sub(p_longation, subst, text)\n",
        "    \n",
        "    text = text.replace('وو', 'و')\n",
        "    text = text.replace('يي', 'ي')\n",
        "    text = text.replace('اا', 'ا')\n",
        "    \n",
        "    for i in range(0, len(search)):\n",
        "        text = text.replace(search[i], replace[i])\n",
        "    \n",
        "    #trim    \n",
        "    text = text.strip()\n",
        "\n",
        "    return text\n",
        "\n",
        "def get_vec(n_model,dim, token):\n",
        "    vec = np.zeros(dim)\n",
        "    exist = False\n",
        "    is_vec = False\n",
        "    if token not in n_model.wv:\n",
        "        _count = 0\n",
        "        is_vec = True\n",
        "        for w in token.split(\"_\"):\n",
        "            if w in n_model.wv:\n",
        "                _count += 1\n",
        "                vec += n_model.wv[w]\n",
        "        if _count > 0:\n",
        "            vec = vec / _count\n",
        "            exist = True\n",
        "    else:\n",
        "        vec = n_model.wv[token]\n",
        "        exist = True\n",
        "    \n",
        "    return vec,exist\n",
        "\n",
        "def calc_vec(pos_tokens, neg_tokens, n_model, dim):\n",
        "    vec = np.zeros(dim)\n",
        "    for p in pos_tokens:\n",
        "        vec += get_vec(n_model,dim,p)\n",
        "    for n in neg_tokens:\n",
        "        vec -= get_vec(n_model,dim,n)\n",
        "    \n",
        "    return vec   \n",
        "\n",
        "## -- Retrieve all ngrams for a text in between a specific range\n",
        "def get_all_ngrams(text, nrange=3):\n",
        "    text = re.sub(r'[\\,\\.\\;\\(\\)\\[\\]\\_\\+\\#\\@\\!\\?\\؟\\^]', ' ', text)\n",
        "    tokens = [token for token in text.split(\" \") if token.strip() != \"\"]\n",
        "    ngs = []\n",
        "    for n in range(2,nrange+1):\n",
        "        ngs += [ng for ng in ngrams(tokens, n)]\n",
        "    return [\"_\".join(ng) for ng in ngs if len(ng)>0 ]\n",
        "\n",
        "## -- Retrieve all ngrams for a text in a specific n\n",
        "def get_ngrams(text, n=2):\n",
        "    text = re.sub(r'[\\,\\.\\;\\(\\)\\[\\]\\_\\+\\#\\@\\!\\?\\؟\\^]', ' ', text)\n",
        "    tokens = [token for token in text.split(\" \") if token.strip() != \"\"]\n",
        "    ngs = [ng for ng in ngrams(tokens, n)]\n",
        "    return [\"_\".join(ng) for ng in ngs if len(ng)>0 ]\n",
        "\n",
        "## -- filter the existed tokens in a specific model\n",
        "def get_existed_tokens(tokens, n_model):\n",
        "    return [tok for tok in tokens if tok in n_model.wv ]\n"
      ],
      "execution_count": 0,
      "outputs": []
    },
    {
      "cell_type": "markdown",
      "metadata": {
        "id": "i3QgPHbeimuk",
        "colab_type": "text"
      },
      "source": [
        "## **tokenizer.py Module**"
      ]
    },
    {
      "cell_type": "code",
      "metadata": {
        "id": "R18iBlqNir2N",
        "colab_type": "code",
        "colab": {}
      },
      "source": [
        "from nltk import TreebankWordTokenizer\n",
        "from nltk import WordPunctTokenizer\n",
        "from nltk import WhitespaceTokenizer\n",
        "\n",
        "from textblob.base import BaseTokenizer\n",
        "\n",
        "\n",
        "        \n",
        "class NLTKTreebankWordTokenizer(BaseTokenizer):\n",
        "\n",
        "    def tokenize(self, text):\n",
        "\n",
        "        return TreebankWordTokenizer().tokenize(text)\n",
        "\n",
        "class NLTKWordPunctTokenizer(BaseTokenizer):\n",
        "\n",
        "    def tokenize(self, text):\n",
        "\n",
        "        return WordPunctTokenizer().tokenize(text)\n",
        "\n",
        "\n",
        "class NLTKWhitespaceTokenizer(BaseTokenizer):\n",
        "\n",
        "    def tokenize(self, text):\n",
        "        return WhitespaceTokenizer().tokenize(text)\n"
      ],
      "execution_count": 0,
      "outputs": []
    },
    {
      "cell_type": "markdown",
      "metadata": {
        "id": "9VR2SngthMzv",
        "colab_type": "text"
      },
      "source": [
        "## **similarity.py Module**"
      ]
    },
    {
      "cell_type": "code",
      "metadata": {
        "id": "WZR4AbBNhMJH",
        "colab_type": "code",
        "colab": {}
      },
      "source": [
        "import numpy as np\n",
        "import gensim\n",
        "#from gensim.models.KeyedVectors import load_word2vec_format\n",
        "from scipy import spatial\n",
        "\n",
        "import re\n",
        "from nltk import ngrams\n",
        "\n",
        "\n",
        "# from textblob_ar.tokenizer import NLTKWordPunctTokenizer\n",
        "# from textblob_ar.utils import clean_str\n",
        "\n",
        "\n",
        "class TextSimilarity:\n",
        "\n",
        "    def __init__(self):\n",
        "        try:\n",
        "            #self.model = gensim.models.Word2Vec.load('data/full_grams_cbow_300_twitter.mdl')\n",
        "            self.model = gensim.models.Word2Vec.load('data/full_grams_cbow_300_wiki.mdl')\n",
        "        except FileNotFoundError:\n",
        "            raise FileNotFoundError\n",
        "            \n",
        "    def avg_feature_vector(self, sentence, num_features=300):\n",
        "        words = NLTKWordPunctTokenizer().tokenize(clean_str(sentence))\n",
        "        feature_vec = np.zeros((num_features, ), dtype='float32')\n",
        "        n_words = 0\n",
        "        for word in words:\n",
        "            word_vect,exist = get_vec(n_model=self.model, dim=num_features, token=word)\n",
        "            feature_vec = np.add(feature_vec, word_vect)\n",
        "            if exist:\n",
        "              n_words += 1\n",
        "        if (n_words > 0):\n",
        "            feature_vec = np.divide(feature_vec, n_words)\n",
        "        return feature_vec\n",
        "\n",
        "    def similarity(self, sentence1, sentence2):\n",
        "        vec1, vec2 = self.avg_feature_vector(sentence1), self.avg_feature_vector(sentence2)\n",
        "        return self.cosine_similarity(vec1, vec2)\n",
        "\n",
        "    def cosine_similarity(self, vec1, vec2):\n",
        "        return 1 - spatial.distance.cosine(vec1, vec2)"
      ],
      "execution_count": 0,
      "outputs": []
    },
    {
      "cell_type": "markdown",
      "metadata": {
        "id": "w1knHpmsf3gn",
        "colab_type": "text"
      },
      "source": [
        "## **Main Function [Run Here]**"
      ]
    },
    {
      "cell_type": "code",
      "metadata": {
        "id": "XS0OhM8PwGiW",
        "colab_type": "code",
        "outputId": "0d1af67d-ccd5-4a6e-98d1-a6096e80bf02",
        "colab": {
          "base_uri": "https://localhost:8080/",
          "height": 71
        }
      },
      "source": [
        "sim = TextSimilarity()\n",
        "# takes around 12 second (macbook pro 2017) to load the pretrained word2vec"
      ],
      "execution_count": 0,
      "outputs": [
        {
          "output_type": "stream",
          "text": [
            "/usr/local/lib/python3.6/dist-packages/smart_open/smart_open_lib.py:398: UserWarning: This function is deprecated, use smart_open.open instead. See the migration notes for details: https://github.com/RaRe-Technologies/smart_open/blob/master/README.rst#migrating-to-the-new-open-function\n",
            "  'See the migration notes for details: %s' % _MIGRATION_NOTES_URL\n"
          ],
          "name": "stderr"
        }
      ]
    },
    {
      "cell_type": "code",
      "metadata": {
        "id": "n20ahM_QmYHH",
        "colab_type": "code",
        "outputId": "81aeafcb-bae9-4e5a-e31d-a4e26c5ab08d",
        "colab": {
          "base_uri": "https://localhost:8080/",
          "height": 34
        }
      },
      "source": [
        "## testing similarity\n",
        "\n",
        "sent1 = u'الإرهابي الصالح هي رواية خيال سياسي للكاتبة دوريس ليسينج. ظهرت أول طبعة للرواية في سبتمبر من عام 1985 للناشرين جوناثان كيب في المملكة المتحدة وألفريد أ'\n",
        "\n",
        "sent2 = u'روايه الكاتبه دوريس ليسينج هي روايه خيال سياسي ظهرت في سبتمبر 1985 بعنوان الارهابي الصالح وتم نشرها عن طريق جوناثان كيب والفريد أ في انجلترا'\n",
        "\n",
        "#sent2 = u'الكوكبة هي مجموعة من النجوم التي تكون شكلا أو صورة، وهي تدل على المنطقة التي تظهر فيها مجموعة محدودة من النجوم. وقد قسم الاتحاد الفلكي الدولي في عام 1930 السماء إلى 88 كوكبة، وذلك لتوحيد أشكال الكوكبات وعددها بعد أن كانت تتخيلها كل من الحضارات القديمة بشكل مختلف.'\n",
        "\n",
        "\n",
        "sim.similarity(sent1, sent2)"
      ],
      "execution_count": 0,
      "outputs": [
        {
          "output_type": "execute_result",
          "data": {
            "text/plain": [
              "0.8327577541896245"
            ]
          },
          "metadata": {
            "tags": []
          },
          "execution_count": 13
        }
      ]
    },
    {
      "cell_type": "code",
      "metadata": {
        "id": "puDAnExE0MJp",
        "colab_type": "code",
        "outputId": "0306578d-2fe1-45f9-b724-f998a6597a8e",
        "colab": {
          "base_uri": "https://localhost:8080/",
          "height": 34
        }
      },
      "source": [
        "sent1 = u'حجرة'\n",
        "sent2 = u'غرفة'\n",
        "sim.similarity(sent1, sent2)"
      ],
      "execution_count": 0,
      "outputs": [
        {
          "output_type": "execute_result",
          "data": {
            "text/plain": [
              "0.7528035640716553"
            ]
          },
          "metadata": {
            "tags": []
          },
          "execution_count": 12
        }
      ]
    },
    {
      "cell_type": "code",
      "metadata": {
        "id": "OPxteRod2yCg",
        "colab_type": "code",
        "outputId": "d8aaf44f-5114-40d9-ce49-2a3aad09f192",
        "colab": {
          "base_uri": "https://localhost:8080/",
          "height": 34
        }
      },
      "source": [
        "\n",
        "sent1 = u'ذهب يوسف الى الكليه'\n",
        "sent2 = u'يوسف يمضى مسرعا للجامعه'\n",
        "sim.similarity(sent1, sent2)"
      ],
      "execution_count": 0,
      "outputs": [
        {
          "output_type": "execute_result",
          "data": {
            "text/plain": [
              "0.6535407900810242"
            ]
          },
          "metadata": {
            "tags": []
          },
          "execution_count": 14
        }
      ]
    },
    {
      "cell_type": "markdown",
      "metadata": {
        "id": "IIfE5-rk1kXk",
        "colab_type": "text"
      },
      "source": [
        "# **Model 3: Using Pretrained Arabic Word Embedding Model**"
      ]
    },
    {
      "cell_type": "markdown",
      "metadata": {
        "colab_type": "text",
        "id": "y1QnuJqO145r"
      },
      "source": [
        "**This Source Code is taken from:**\n",
        "1. https://github.com/rozester/Arabic-Word-Embeddings-Word2vec\n",
        "2. https://github.com/adhaamehab/textblob-ar"
      ]
    },
    {
      "cell_type": "markdown",
      "metadata": {
        "id": "9rXLezHR18iM",
        "colab_type": "text"
      },
      "source": [
        "## **Download Pretrained Arabic Word Embedding Model**"
      ]
    },
    {
      "cell_type": "code",
      "metadata": {
        "id": "MIMvgcr316KB",
        "colab_type": "code",
        "outputId": "38a2f963-9e92-4891-d618-2d3511a507ba",
        "colab": {
          "base_uri": "https://localhost:8080/",
          "height": 34
        }
      },
      "source": [
        "### downloading a pretrained arabic word embedding model\n",
        "##import it from google drive\n",
        "from google.colab import drive\n",
        "\n",
        "drive.mount('/content/drive')\n",
        "src = '/content/drive/My Drive/MRQA_Arabic Research - Adel Atef/Data Set Collection/Arabic Text Similarity/'\n"
      ],
      "execution_count": 0,
      "outputs": [
        {
          "output_type": "stream",
          "text": [
            "Drive already mounted at /content/drive; to attempt to forcibly remount, call drive.mount(\"/content/drive\", force_remount=True).\n"
          ],
          "name": "stdout"
        }
      ]
    },
    {
      "cell_type": "code",
      "metadata": {
        "id": "gmUBFyJNVoak",
        "colab_type": "code",
        "outputId": "0b722b94-d2f2-45a1-a08c-1f5c9883f32b",
        "colab": {
          "base_uri": "https://localhost:8080/",
          "height": 84
        }
      },
      "source": [
        "### unzip the pretrained model  \n",
        "!pip install rarfile\n",
        "import os, rarfile\n",
        "\n",
        "def unrar(src_path, dest_path):\n",
        "      \n",
        "  filepath = src_path\n",
        "  opened_rar = rarfile.RarFile(filepath)\n",
        "\n",
        "  for f in opened_rar.infolist():\n",
        "      print (f.filename, f.file_size)\n",
        "  \n",
        "  opened_rar.extractall(dest_path)\n",
        "        \n",
        "\n",
        "unrar(src+'ar_wiki_word2vec-300.rar',\"./data\")"
      ],
      "execution_count": 0,
      "outputs": [
        {
          "output_type": "stream",
          "text": [
            "Requirement already satisfied: rarfile in /usr/local/lib/python3.6/dist-packages (3.0)\n",
            "ar_wiki_word2vec 27957375\n",
            "ar_wiki_word2vec.trainables.syn1neg.npy 475852928\n",
            "ar_wiki_word2vec.wv.vectors.npy 475852928\n"
          ],
          "name": "stdout"
        }
      ]
    },
    {
      "cell_type": "markdown",
      "metadata": {
        "colab_type": "text",
        "id": "bMOujxU9dFHd"
      },
      "source": [
        "## **utilities.py Module**"
      ]
    },
    {
      "cell_type": "code",
      "metadata": {
        "colab_type": "code",
        "id": "0lpIKsHPdFHe",
        "colab": {}
      },
      "source": [
        "# =========================\n",
        "# ==== Helper Methods =====\n",
        "import re\n",
        "import numpy as np\n",
        "from nltk import ngrams\n",
        "\n",
        "# Clean/Normalize Arabic Text\n",
        "def clean_str(text):\n",
        "    search = [\"أ\",\"إ\",\"آ\",\"ة\",\"_\",\"-\",\"/\",\".\",\"،\",\" و \",\" يا \",'\"',\"ـ\",\"'\",\"ى\",\"\\\\\",'\\n', '\\t','&quot;','?','؟','!']\n",
        "    replace = [\"ا\",\"ا\",\"ا\",\"ه\",\" \",\" \",\"\",\"\",\"\",\" و\",\" يا\",\"\",\"\",\"\",\"ي\",\"\",' ', ' ',' ',' ? ',' ؟ ',' ! ']\n",
        "    \n",
        "    #remove tashkeel\n",
        "    p_tashkeel = re.compile(r'[\\u0617-\\u061A\\u064B-\\u0652]')\n",
        "    text = re.sub(p_tashkeel,\"\", text)\n",
        "    \n",
        "    #remove longation\n",
        "    p_longation = re.compile(r'(.)\\1+')\n",
        "    subst = r\"\\1\\1\"\n",
        "    text = re.sub(p_longation, subst, text)\n",
        "    \n",
        "    text = text.replace('وو', 'و')\n",
        "    text = text.replace('يي', 'ي')\n",
        "    text = text.replace('اا', 'ا')\n",
        "    \n",
        "    for i in range(0, len(search)):\n",
        "        text = text.replace(search[i], replace[i])\n",
        "    \n",
        "    #trim    \n",
        "    text = text.strip()\n",
        "\n",
        "    return text\n",
        "\n",
        "def get_vec(n_model,dim, token):\n",
        "    vec = np.zeros(dim)\n",
        "    exist = False\n",
        "    is_vec = False\n",
        "    if token not in n_model.wv:\n",
        "        _count = 0\n",
        "        is_vec = True\n",
        "        for w in token.split(\"_\"):\n",
        "            if w in n_model.wv:\n",
        "                _count += 1\n",
        "                vec += n_model.wv[w]\n",
        "        if _count > 0:\n",
        "            vec = vec / _count\n",
        "            exist = True\n",
        "    else:\n",
        "        vec = n_model.wv[token]\n",
        "        exist = True\n",
        "    \n",
        "    return vec,exist\n",
        "\n",
        "def calc_vec(pos_tokens, neg_tokens, n_model, dim):\n",
        "    vec = np.zeros(dim)\n",
        "    for p in pos_tokens:\n",
        "        vec += get_vec(n_model,dim,p)\n",
        "    for n in neg_tokens:\n",
        "        vec -= get_vec(n_model,dim,n)\n",
        "    \n",
        "    return vec   \n",
        "\n",
        "## -- Retrieve all ngrams for a text in between a specific range\n",
        "def get_all_ngrams(text, nrange=3):\n",
        "    text = re.sub(r'[\\,\\.\\;\\(\\)\\[\\]\\_\\+\\#\\@\\!\\?\\؟\\^]', ' ', text)\n",
        "    tokens = [token for token in text.split(\" \") if token.strip() != \"\"]\n",
        "    ngs = []\n",
        "    for n in range(2,nrange+1):\n",
        "        ngs += [ng for ng in ngrams(tokens, n)]\n",
        "    return [\"_\".join(ng) for ng in ngs if len(ng)>0 ]\n",
        "\n",
        "## -- Retrieve all ngrams for a text in a specific n\n",
        "def get_ngrams(text, n=2):\n",
        "    text = re.sub(r'[\\,\\.\\;\\(\\)\\[\\]\\_\\+\\#\\@\\!\\?\\؟\\^]', ' ', text)\n",
        "    tokens = [token for token in text.split(\" \") if token.strip() != \"\"]\n",
        "    ngs = [ng for ng in ngrams(tokens, n)]\n",
        "    return [\"_\".join(ng) for ng in ngs if len(ng)>0 ]\n",
        "\n",
        "## -- filter the existed tokens in a specific model\n",
        "def get_existed_tokens(tokens, n_model):\n",
        "    return [tok for tok in tokens if tok in n_model.wv ]\n"
      ],
      "execution_count": 0,
      "outputs": []
    },
    {
      "cell_type": "markdown",
      "metadata": {
        "colab_type": "text",
        "id": "f5zGO9SKcYko"
      },
      "source": [
        "## **tokenizer.py Module**"
      ]
    },
    {
      "cell_type": "code",
      "metadata": {
        "colab_type": "code",
        "id": "bZa19NNFcYko",
        "colab": {}
      },
      "source": [
        "from nltk import TreebankWordTokenizer\n",
        "from nltk import WordPunctTokenizer\n",
        "from nltk import WhitespaceTokenizer\n",
        "\n",
        "from textblob.base import BaseTokenizer\n",
        "\n",
        "\n",
        "        \n",
        "class NLTKTreebankWordTokenizer(BaseTokenizer):\n",
        "\n",
        "    def tokenize(self, text):\n",
        "\n",
        "        return TreebankWordTokenizer().tokenize(text)\n",
        "\n",
        "class NLTKWordPunctTokenizer(BaseTokenizer):\n",
        "\n",
        "    def tokenize(self, text):\n",
        "\n",
        "        return WordPunctTokenizer().tokenize(text)\n",
        "\n",
        "\n",
        "class NLTKWhitespaceTokenizer(BaseTokenizer):\n",
        "\n",
        "    def tokenize(self, text):\n",
        "        return WhitespaceTokenizer().tokenize(text)\n"
      ],
      "execution_count": 0,
      "outputs": []
    },
    {
      "cell_type": "markdown",
      "metadata": {
        "colab_type": "text",
        "id": "j9ARHK6scYkr"
      },
      "source": [
        "## **similarity.py Module**"
      ]
    },
    {
      "cell_type": "code",
      "metadata": {
        "colab_type": "code",
        "id": "oBNUhPrTcYkr",
        "colab": {}
      },
      "source": [
        "import numpy as np\n",
        "import gensim\n",
        "from gensim.models import Word2Vec\n",
        "#from gensim.models.KeyedVectors import load_word2vec_format\n",
        "from scipy import spatial\n",
        "\n",
        "import re\n",
        "from nltk import ngrams\n",
        "\n",
        "\n",
        "# from textblob_ar.tokenizer import NLTKWordPunctTokenizer\n",
        "# from textblob_ar.utils import clean_str\n",
        "\n",
        "\n",
        "class TextSimilarity:\n",
        "\n",
        "    def __init__(self):\n",
        "        try:\n",
        "            self.model = Word2Vec.load('/content/data/ar_wiki_word2vec')\n",
        "        except FileNotFoundError:\n",
        "            raise FileNotFoundError\n",
        "            \n",
        "    def avg_feature_vector(self, sentence, num_features=300):\n",
        "        words = NLTKWordPunctTokenizer().tokenize(clean_str(sentence))\n",
        "        feature_vec = np.zeros((num_features, ), dtype='float32')\n",
        "        n_words = 0\n",
        "        for word in words:\n",
        "            if word in self.model.wv.index2word:\n",
        "                n_words += 1\n",
        "                feature_vec = np.add(feature_vec, self. model.wv.get_vector(word))\n",
        "        if (n_words > 0):\n",
        "            feature_vec = np.divide(feature_vec, n_words)\n",
        "        return feature_vec\n",
        "\n",
        "    def similarity(self, sentence1, sentence2):\n",
        "        vec1, vec2 = self.avg_feature_vector(sentence1), self.avg_feature_vector(sentence2)\n",
        "        return self.cosine_similarity(vec1, vec2)\n",
        "\n",
        "    def cosine_similarity(self, vec1, vec2):\n",
        "        return 1 - spatial.distance.cosine(vec1, vec2)"
      ],
      "execution_count": 0,
      "outputs": []
    },
    {
      "cell_type": "markdown",
      "metadata": {
        "colab_type": "text",
        "id": "UyZwJMgSgHsK"
      },
      "source": [
        "## **Main Function [Run Here]**"
      ]
    },
    {
      "cell_type": "code",
      "metadata": {
        "colab_type": "code",
        "outputId": "4936fdab-0262-4edf-d6c7-f0688944a15f",
        "id": "1QqQ5bhEgHsL",
        "colab": {
          "base_uri": "https://localhost:8080/",
          "height": 70
        }
      },
      "source": [
        "sim = TextSimilarity()\n",
        "# takes around 12 second (macbook pro 2017) to load the pretrained word2vec"
      ],
      "execution_count": 0,
      "outputs": [
        {
          "output_type": "stream",
          "text": [
            "/usr/local/lib/python3.6/dist-packages/smart_open/smart_open_lib.py:398: UserWarning: This function is deprecated, use smart_open.open instead. See the migration notes for details: https://github.com/RaRe-Technologies/smart_open/blob/master/README.rst#migrating-to-the-new-open-function\n",
            "  'See the migration notes for details: %s' % _MIGRATION_NOTES_URL\n"
          ],
          "name": "stderr"
        }
      ]
    },
    {
      "cell_type": "code",
      "metadata": {
        "colab_type": "code",
        "outputId": "ec2d0777-6e40-47ea-8479-8cb138c01940",
        "id": "XnbJ7N9OgHsS",
        "colab": {
          "base_uri": "https://localhost:8080/",
          "height": 34
        }
      },
      "source": [
        "## testing similarity\n",
        "\n",
        "sent1 = u'الإرهابي الصالح هي رواية خيال سياسي للكاتبة دوريس ليسينج. ظهرت أول طبعة للرواية في سبتمبر من عام 1985 للناشرين جوناثان كيب في المملكة المتحدة وألفريد أ'\n",
        "\n",
        "# sent2 = u'روايه الكاتبه دوريس ليسينج هي روايه خيال سياسي ظهرت في سبتمبر 1985 بعنوان الارهابي الصالح وتم نشرها عن طريق جوناثان كيب والفريد أ في انجلترا'\n",
        "\n",
        "sent2 = u'الكوكبة هي مجموعة من النجوم التي تكون شكلا أو صورة، وهي تدل على المنطقة التي تظهر فيها مجموعة محدودة من النجوم. وقد قسم الاتحاد الفلكي الدولي في عام 1930 السماء إلى 88 كوكبة، وذلك لتوحيد أشكال الكوكبات وعددها بعد أن كانت تتخيلها كل من الحضارات القديمة بشكل مختلف.'\n",
        "\n",
        "\n",
        "sim.similarity(sent1, sent2)"
      ],
      "execution_count": 0,
      "outputs": [
        {
          "output_type": "execute_result",
          "data": {
            "text/plain": [
              "0.361736536026001"
            ]
          },
          "metadata": {
            "tags": []
          },
          "execution_count": 27
        }
      ]
    },
    {
      "cell_type": "code",
      "metadata": {
        "id": "D3XL9T80aYiA",
        "colab_type": "code",
        "outputId": "b3063dba-2ded-4110-a193-64b5e68d9e4d",
        "colab": {
          "base_uri": "https://localhost:8080/",
          "height": 910
        }
      },
      "source": [
        "from gensim.models import Word2Vec\n",
        "\n",
        "\n",
        "model = Word2Vec.load('/content/data/ar_wiki_word2vec')\n",
        "\n",
        "vect = model.wv.get_vector(\"رجل\")\n",
        "\n",
        "model.wv.index2word\n",
        "\n",
        "print(vect)"
      ],
      "execution_count": 0,
      "outputs": [
        {
          "output_type": "stream",
          "text": [
            "/usr/local/lib/python3.6/dist-packages/smart_open/smart_open_lib.py:398: UserWarning: This function is deprecated, use smart_open.open instead. See the migration notes for details: https://github.com/RaRe-Technologies/smart_open/blob/master/README.rst#migrating-to-the-new-open-function\n",
            "  'See the migration notes for details: %s' % _MIGRATION_NOTES_URL\n"
          ],
          "name": "stderr"
        },
        {
          "output_type": "stream",
          "text": [
            "[ 0.70933926  1.6758744  -2.0177283  -2.287776   -0.66750157  0.7170446\n",
            "  0.071481   -1.4619255   0.21177964  0.22337808  0.94279325 -0.6316072\n",
            "  2.0944529  -1.3444842  -0.6554014  -0.5909346   1.2950468  -0.83343464\n",
            " -0.9116404   0.45140773  0.47047284  0.9050848   0.2667748   0.62309843\n",
            " -2.6521347   0.7090384  -0.07575558  0.35158888  1.5436819  -1.070083\n",
            "  0.66652447  0.51938707 -2.5155685   1.7519431  -1.6448225   0.8491222\n",
            " -0.3094619  -0.9348833  -0.69085413  1.9852207   0.37713364 -0.9455683\n",
            "  1.2246424   2.251706   -0.02447991  0.22986542 -1.0113153   0.835321\n",
            "  0.05838422  1.0707288   1.1919398   0.7460119  -0.665824    2.2015731\n",
            " -0.37558514  0.24406007 -1.0983775   0.41535237  1.3599147   0.98963827\n",
            "  3.5553837   0.5395637  -1.3958766  -0.27381644  1.9121065  -0.11486519\n",
            "  0.9175941   1.698632   -1.3750905  -1.3026408  -1.4859278   1.3537221\n",
            "  1.2675775   1.2366757   0.06650401  0.21044146  0.17471632  0.10288763\n",
            "  1.0461459   0.80179656  0.07638447 -2.170064    1.7969513  -0.581386\n",
            " -0.267394   -0.06671401  0.49413523  0.12862648 -0.35311973  2.4261117\n",
            " -2.1400988   1.1176984   1.3788463   1.3383888  -0.289866    0.81809205\n",
            " -2.0553997  -0.5176512  -0.09087183 -1.9024825  -0.8511112  -0.95715773\n",
            "  2.3337424  -1.746627   -1.8178391  -0.51669353  2.5293982   0.9499722\n",
            "  0.33365497 -1.8833545  -2.1137214  -2.0532277   0.40017185  0.12512517\n",
            " -0.9337512  -0.3875837  -1.8773887   0.7031289   0.41184348 -2.6907115\n",
            " -1.1031455   1.1360013   0.02914998 -2.6513426  -0.25919837  1.8257151\n",
            " -0.10496403  0.1805142   2.2953985   1.1894313   0.7541363  -0.48705018\n",
            " -1.0919766   0.0097319   0.95915616  2.0437417  -0.32632306  2.1986017\n",
            " -1.908684    2.4699042  -1.675772   -1.4422464  -1.3342296   1.5881982\n",
            "  0.3528341  -0.9869849   0.9025919   0.35844123  0.38560623  0.4185982\n",
            "  0.08688162 -0.11275675 -0.65133226  0.2807148   0.2195023  -0.26745376\n",
            "  0.8416577   0.45196116  1.5207819   0.16697964  2.0467577   0.43121502\n",
            "  0.15804    -0.8565737  -0.33340064  0.66046864 -1.5080782  -0.8675367\n",
            " -0.1983994   2.4065819  -0.99344623  1.4885191  -2.2853794  -0.89002645\n",
            " -3.4815934   0.94059557  1.7997475   1.2187157  -2.5291903   0.9088285\n",
            " -0.13840461 -0.04617021  0.7321731   1.6726011  -2.2347627  -0.7920373\n",
            " -0.81644887 -0.02220558 -1.717234    0.85907364 -1.6036509  -2.0851617\n",
            "  0.7241057  -0.49408877 -2.1979136  -0.7905677  -0.785598    0.7344134\n",
            "  0.18711506  1.5156382  -0.31819504  1.0057062  -0.24519403 -1.82608\n",
            "  0.04933396  0.79868376 -1.5549865   0.2984749  -3.1490042  -2.1715858\n",
            " -0.8501871   2.1273167   0.57453334  2.7639482  -2.6171913  -1.4629625\n",
            " -1.1990012  -0.6604621   0.1919422   0.0579854  -1.7902739   0.28885898\n",
            " -0.91777784  1.1301141   0.7199945   2.4980054  -0.62922484 -2.658908\n",
            " -0.02858045  2.753113   -1.247475    1.8650591   0.17402953 -0.19183175\n",
            "  1.5057507  -0.0095922  -0.35373068 -1.7299781  -0.7685651   2.4940608\n",
            " -0.58875006  0.7178655  -1.0898511   0.27536604  0.57914704  1.428609\n",
            "  1.5293144   0.42045808 -0.78355914 -1.8969012   1.4367639   0.93227077\n",
            " -0.18392923 -1.6102262  -2.3314245   1.6828201   0.19478369 -0.42206085\n",
            "  0.36657092 -0.8897443  -0.8027735  -2.7100883   0.11787444  2.0280375\n",
            "  0.03339171 -1.6194613   2.7452285  -0.20485339 -0.6540654   0.6147169\n",
            "  1.3630139   1.711494    0.24821468 -0.82586926 -2.6348171   1.4202961\n",
            "  0.2904576  -2.406978   -1.8102909  -1.759415    2.4059083   0.40867022\n",
            " -1.9188792  -0.96458644  1.8443434  -0.60772556  2.1170776   2.4713466\n",
            "  2.1571665   1.2449569  -1.3648092  -0.22243194  0.11019452  0.93600494\n",
            " -1.8541125  -0.75645304 -1.8456558  -2.0789044   0.85303676  1.1757436 ]\n"
          ],
          "name": "stdout"
        }
      ]
    },
    {
      "cell_type": "markdown",
      "metadata": {
        "id": "PN6ZzqdCpjGZ",
        "colab_type": "text"
      },
      "source": [
        "# Model 4: Using Pretrained Arabic Word Embedding Model"
      ]
    },
    {
      "cell_type": "markdown",
      "metadata": {
        "colab_type": "text",
        "id": "_yxfV2LArRYA"
      },
      "source": [
        "**This Source Code is taken from:**\n",
        "1. https://github.com/rozester/Arabic-Word-Embeddings-Word2vec\n",
        "2. https://github.com/adhaamehab/textblob-ar"
      ]
    },
    {
      "cell_type": "markdown",
      "metadata": {
        "colab_type": "text",
        "id": "S4t2r3lurXPw"
      },
      "source": [
        "## **Download Pretrained Word Embedding Model**"
      ]
    },
    {
      "cell_type": "code",
      "metadata": {
        "colab_type": "code",
        "id": "EGpXWBD5rXP1",
        "colab": {}
      },
      "source": [
        "### downloading a pretrained arabic word embedding model\n",
        "!wget -qq https://dl.fbaipublicfiles.com/fasttext/vectors-wiki/wiki.ar.zip -P ./data\n",
        "  "
      ],
      "execution_count": 0,
      "outputs": []
    },
    {
      "cell_type": "code",
      "metadata": {
        "id": "mIA7SYzLsAAY",
        "colab_type": "code",
        "colab": {}
      },
      "source": [
        "### unzip the pretrained model  \n",
        "!unzip -qq data/wiki.ar.zip -d ./data"
      ],
      "execution_count": 0,
      "outputs": []
    },
    {
      "cell_type": "markdown",
      "metadata": {
        "colab_type": "text",
        "id": "ADrI3a58rXP4"
      },
      "source": [
        "## **utils.py Module**"
      ]
    },
    {
      "cell_type": "code",
      "metadata": {
        "colab_type": "code",
        "id": "J4Y2C9i3rXP5",
        "colab": {}
      },
      "source": [
        "import re\n",
        "\n",
        "\n",
        "'''\n",
        "Code snippet from https://github.com/bakrianoo/aravec\n",
        "'''\n",
        "\n",
        "\n",
        "def clean_str(text):\n",
        "    search = [\"أ\", \"إ\", \"آ\", \"ة\", \"_\", \"-\", \"/\", \".\", \"،\", \" و \", \" يا \",\n",
        "              '\"', \"ـ\", \"'\", \"ى\", \"\\\\\", '\\n', '\\t', '&quot;', '?', '؟', '!']\n",
        "    replace = [\"ا\", \"ا\", \"ا\", \"ه\", \" \", \" \", \"\", \"\", \"\", \" و\",\n",
        "               \" يا\", \"\", \"\", \"\", \"ي\", \"\", ' ', ' ', ' ', ' ? ', ' ؟ ', ' ! ']\n",
        "\n",
        "    p_tashkeel = re.compile(r'[\\u0617-\\u061A\\u064B-\\u0652]')\n",
        "    text = re.sub(p_tashkeel, \"\", text)\n",
        "    p_longation = re.compile(r'(.)\\1+')\n",
        "    subst = r\"\\1\\1\"\n",
        "    text = re.sub(p_longation, subst, text)\n",
        "    text = text.replace('وو', 'و')\n",
        "    text = text.replace('يي', 'ي')\n",
        "    text = text.replace('اا', 'ا')\n",
        "\n",
        "    for i in range(0, len(search)):\n",
        "        text = text.replace(search[i], replace[i])\n",
        "    text = text.strip()\n",
        "\n",
        "    return text"
      ],
      "execution_count": 0,
      "outputs": []
    },
    {
      "cell_type": "markdown",
      "metadata": {
        "colab_type": "text",
        "id": "--3wWEAQrXP8"
      },
      "source": [
        "## **tokenizer.py Module**"
      ]
    },
    {
      "cell_type": "code",
      "metadata": {
        "colab_type": "code",
        "id": "pgid3eGUrXP8",
        "colab": {}
      },
      "source": [
        "from nltk import TreebankWordTokenizer\n",
        "from nltk import WordPunctTokenizer\n",
        "from nltk import WhitespaceTokenizer\n",
        "\n",
        "from textblob.base import BaseTokenizer\n",
        "\n",
        "\n",
        "        \n",
        "class NLTKTreebankWordTokenizer(BaseTokenizer):\n",
        "\n",
        "    def tokenize(self, text):\n",
        "\n",
        "        return TreebankWordTokenizer().tokenize(text)\n",
        "\n",
        "class NLTKWordPunctTokenizer(BaseTokenizer):\n",
        "\n",
        "    def tokenize(self, text):\n",
        "\n",
        "        return WordPunctTokenizer().tokenize(text)\n",
        "\n",
        "\n",
        "class NLTKWhitespaceTokenizer(BaseTokenizer):\n",
        "\n",
        "    def tokenize(self, text):\n",
        "        return WhitespaceTokenizer().tokenize(text)\n"
      ],
      "execution_count": 0,
      "outputs": []
    },
    {
      "cell_type": "markdown",
      "metadata": {
        "colab_type": "text",
        "id": "kzPMJYdtrXP_"
      },
      "source": [
        "## **similarity.py Module**"
      ]
    },
    {
      "cell_type": "code",
      "metadata": {
        "colab_type": "code",
        "id": "u6DayI9yrXP_",
        "colab": {}
      },
      "source": [
        "import numpy as np\n",
        "import gensim\n",
        "#from gensim.models.KeyedVectors import load_word2vec_format\n",
        "from scipy import spatial\n",
        "\n",
        "import re\n",
        "from nltk import ngrams\n",
        "\n",
        "\n",
        "# from textblob_ar.tokenizer import NLTKWordPunctTokenizer\n",
        "# from textblob_ar.utils import clean_str\n",
        "\n",
        "\n",
        "class TextSimilarity:\n",
        "\n",
        "    def __init__(self):\n",
        "        try:\n",
        "            self.model = gensim.models.KeyedVectors.load_word2vec_format('./data/wiki.ar.vec')\n",
        "            self.index2word_set = set(self.model.wv.index2word)\n",
        "        except FileNotFoundError:\n",
        "            raise FileNotFoundError\n",
        "    def avg_feature_vector(self, sentence, num_features=300):\n",
        "        words = NLTKWordPunctTokenizer().tokenize(clean_str(sentence))\n",
        "        feature_vec = np.zeros((num_features, ), dtype='float32')\n",
        "        n_words = 0\n",
        "        for word in words:\n",
        "            if word in self.index2word_set:\n",
        "                n_words += 1\n",
        "                feature_vec = np.add(feature_vec, self.model[word])\n",
        "        if (n_words > 0):\n",
        "            feature_vec = np.divide(feature_vec, n_words)\n",
        "        return feature_vec\n",
        "\n",
        "    def similarity(self, sentence1, sentence2):\n",
        "        vec1, vec2 = self.avg_feature_vector(sentence1), self.avg_feature_vector(sentence2)\n",
        "        return self.cosine_similarity(vec1, vec2)\n",
        "\n",
        "    def cosine_similarity(self, vec1, vec2):\n",
        "        return 1 - spatial.distance.cosine(vec1, vec2)"
      ],
      "execution_count": 0,
      "outputs": []
    },
    {
      "cell_type": "markdown",
      "metadata": {
        "colab_type": "text",
        "id": "YAr8OXltrXQB"
      },
      "source": [
        "## **Main Function [Run Here]**"
      ]
    },
    {
      "cell_type": "code",
      "metadata": {
        "colab_type": "code",
        "outputId": "6c863001-4a4a-427a-ebf7-5c59f176a7e2",
        "id": "E-EqtXWZrXQC",
        "colab": {
          "base_uri": "https://localhost:8080/",
          "height": 87
        }
      },
      "source": [
        "sim = TextSimilarity()\n",
        "# takes around 12 second (macbook pro 2017) to load the pretrained word2vec"
      ],
      "execution_count": 0,
      "outputs": [
        {
          "output_type": "stream",
          "text": [
            "/usr/local/lib/python3.6/dist-packages/smart_open/smart_open_lib.py:398: UserWarning: This function is deprecated, use smart_open.open instead. See the migration notes for details: https://github.com/RaRe-Technologies/smart_open/blob/master/README.rst#migrating-to-the-new-open-function\n",
            "  'See the migration notes for details: %s' % _MIGRATION_NOTES_URL\n",
            "/usr/local/lib/python3.6/dist-packages/ipykernel_launcher.py:19: DeprecationWarning: Call to deprecated `wv` (Attribute will be removed in 4.0.0, use self instead).\n"
          ],
          "name": "stderr"
        }
      ]
    },
    {
      "cell_type": "code",
      "metadata": {
        "colab_type": "code",
        "outputId": "f8835008-8dc8-4c17-9531-79a184ea2f9a",
        "id": "z_8GQwr3rXQG",
        "colab": {
          "base_uri": "https://localhost:8080/",
          "height": 34
        }
      },
      "source": [
        "## testing similarity\n",
        "\n",
        "sent1 = u'الإرهابي الصالح هي رواية خيال سياسي للكاتبة دوريس ليسينج. ظهرت أول طبعة للرواية في سبتمبر من عام 1985 للناشرين جوناثان كيب في المملكة المتحدة وألفريد أ'\n",
        "\n",
        "sent2 = u'روايه الكاتبه دوريس ليسينج هي روايه خيال سياسي ظهرت في سبتمبر 1985 بعنوان الارهابي الصالح وتم نشرها عن طريق جوناثان كيب والفريد أ في انجلترا'\n",
        "\n",
        "#sent2 = u'الكوكبة هي مجموعة من النجوم التي تكون شكلا أو صورة، وهي تدل على المنطقة التي تظهر فيها مجموعة محدودة من النجوم. وقد قسم الاتحاد الفلكي الدولي في عام 1930 السماء إلى 88 كوكبة، وذلك لتوحيد أشكال الكوكبات وعددها بعد أن كانت تتخيلها كل من الحضارات القديمة بشكل مختلف.'\n",
        "\n",
        "\n",
        "sim.similarity(sent1, sent2)"
      ],
      "execution_count": 0,
      "outputs": [
        {
          "output_type": "execute_result",
          "data": {
            "text/plain": [
              "0.9611366391181946"
            ]
          },
          "metadata": {
            "tags": []
          },
          "execution_count": 12
        }
      ]
    },
    {
      "cell_type": "markdown",
      "metadata": {
        "id": "5EQ03KCavrbe",
        "colab_type": "text"
      },
      "source": [
        "# **Statistics**"
      ]
    },
    {
      "cell_type": "markdown",
      "metadata": {
        "colab_type": "text",
        "id": "-RXi5Cfa4S0Y"
      },
      "source": [
        "---\n",
        "\n",
        "**Statistcis are Helpful for us  to decide:**\n",
        "\n",
        "**1. Best Pretrained Model to pick**\n",
        "\n",
        "**2. Thresholds for paragraphs similarity & answer Similarity**\n",
        "\n",
        "---"
      ]
    },
    {
      "cell_type": "code",
      "metadata": {
        "id": "z-bLO05SVqfg",
        "colab_type": "code",
        "colab": {}
      },
      "source": [
        "import random\n",
        "import numpy as np\n",
        "import matplotlib.pyplot as plt\n",
        "import pandas as pd\n",
        "import requests\n"
      ],
      "execution_count": 0,
      "outputs": []
    },
    {
      "cell_type": "code",
      "metadata": {
        "id": "yUebRDE0R0Fm",
        "colab_type": "code",
        "colab": {}
      },
      "source": [
        "def AQQAD_generators():\n",
        "  \n",
        "  #### dictionary dataset declartion \n",
        "  #Will be used to store final JSON format of the dataset\n",
        "  AAQAD_dic = {}\n",
        "  AAQAD_dic['version'] = \"v1.0\"\n",
        "  x = AAQAD_dic['data'] = []\n",
        "  paragraphs1 = []\n",
        "  article = {}\n",
        "  \n",
        "  \n",
        "  #### Imitate training set\n",
        "  with open('./data/train-v2.0.json') as json_file:  \n",
        "    file = json.load(json_file)\n",
        "\n",
        "    article_count = 0\n",
        "    countexist = 0\n",
        "    df = pd.DataFrame({}) \n",
        "    \n",
        "    for i in range(0, 20):\n",
        "      index = random.randrange(440)\n",
        "      item = file[\"data\"][index]\n",
        "      print(\"index\",index)       \n",
        "      print(\"##################################################\")\n",
        "      print(\"Article no \",article_count, \" : \",item[\"title\"])\n",
        "\n",
        "      article_count += 1\n",
        "\n",
        "      #extract arrabic paragraphs(if exists) from article title\n",
        "      arabic_exist, ar_paragraphs  = get_arabic_paragraphs(item[\"title\"])\n",
        "\n",
        "      if arabic_exist:\n",
        "          \n",
        "          paragraphs1 = []\n",
        "          print(\"Arabic page exits !\")\n",
        "\n",
        "          if(len(item[\"paragraphs\"])*len(ar_paragraphs)) < 700:\n",
        "              Z = []\n",
        "\n",
        "              ar = titlefind(item[\"title\"])\n",
        "\n",
        "\n",
        "              countexist += 1\n",
        "              print(countexist)\n",
        "              already_initiazlized = False\n",
        "\n",
        "              #loop on each paragraph (context section + QAS sections)\n",
        "              for parag in item[\"paragraphs\"]: \n",
        "\n",
        "                #translate current english paragraph in SQUAD 2.0 into arabic\n",
        "                translated_ar_paragraph = translate_to_arabic(parag[\"context\"])\n",
        "                translated_ar_paragraph = translated_ar_paragraph.text\n",
        "                #print(translated_ar_paragraph)\n",
        "                #find a similarity between translated paragraph and the arabic paragraphs\n",
        "                #Similarity must be the max & above 50 %\n",
        "                similar_exist, correct_ar_parag = get_max_similarity(translated_ar_paragraph,ar_paragraphs,Z)\n",
        "\n",
        "              print(len(Z))\n",
        "              print(Z)\n",
        "\n",
        "              #### Imitate dev set\n",
        "              ### Plotting\n",
        "              print(item[\"title\"])\n",
        "              \n",
        "              \n",
        "              df1 = pd.DataFrame({item[\"title\"]: Z }) \n",
        "              df = df.append(df1) \n",
        "              \n",
        "             \n",
        "\n",
        "\n",
        "          else :\n",
        "            print(\"big article sim\")\n",
        "\n",
        "\n",
        "\n",
        "\n",
        "\n",
        "\n",
        "\n",
        "      else:\n",
        "        print(\"Arabic page do not exist\")\n",
        "\n",
        "\n",
        "      print(\"##################################################\")\n",
        "        \n",
        "\n",
        "#             n, bins, patches = plt.hist(Z, bins='auto', color='#0504aa',alpha=0.7, rwidth=0.85)\n",
        "\n",
        "#               plt.grid(axis='y', alpha=0.75)\n",
        "\n",
        "#               plt.xlabel('Similarity Values')\n",
        "#               plt.ylabel('Count of Appearance')\n",
        "\n",
        "#               maxfreq = n.max()\n",
        "#               # Set a clean upper y-axis limit.\n",
        "#               plt.ylim(ymax=np.ceil(maxfreq / 10) * 10 if maxfreq % 10 else maxfreq + 10)\n",
        "    \n",
        "\n",
        "    # Generically define how many plots along and across\n",
        "    ncols = 2\n",
        "    nrows = int(np.ceil(len(df.columns) / (1.0*ncols)))\n",
        "    fig, axes = plt.subplots(nrows=nrows, ncols=ncols, figsize=(10, 10) ,squeeze=False)\n",
        "\n",
        "    # Lazy counter so we can remove unwated axes\n",
        "    counter = 0\n",
        "    \n",
        "    for k in range(nrows):\n",
        "        for j in range(ncols):\n",
        "\n",
        "            ax = axes[k][j]\n",
        "\n",
        "            # Plot when we have data\n",
        "            if counter < len(df.columns):\n",
        "\n",
        "                n, bins, patches = ax.hist(df[df.columns[counter]], bins=10, color='blue', alpha=0.5, label='{}'.format(df.columns[counter]))\n",
        "                ax.set_xlabel('sim')\n",
        "                ax.set_ylabel('count')\n",
        "                maxfreq = n.max()\n",
        "                ax.set_ylim([0, (np.ceil(maxfreq / 10) * 10 if maxfreq % 10 else maxfreq + 10)])\n",
        "                \n",
        "                # Set a clean upper y-axis limit.\n",
        "#                 ax.set.ylim(ymax=np.ceil(maxfreq / 10) * 10 if maxfreq % 10 else maxfreq + 10)\n",
        "    \n",
        "                leg = ax.legend(loc='upper left')\n",
        "                leg.draw_frame(False)\n",
        "\n",
        "            # Remove axis when we no longer have data\n",
        "            else:\n",
        "                ax.set_axis_off()\n",
        "\n",
        "            counter += 1\n",
        "\n",
        "    plt.show()  \n",
        "\n",
        "\n",
        "\n",
        "\n",
        "  \n",
        "  return"
      ],
      "execution_count": 0,
      "outputs": []
    },
    {
      "cell_type": "code",
      "metadata": {
        "id": "GNKk5zvGUh7J",
        "colab_type": "code",
        "outputId": "f6739664-28ff-4614-e794-f4f2ac28b4f0",
        "colab": {
          "base_uri": "https://localhost:8080/",
          "height": 1000
        }
      },
      "source": [
        "#testing \n",
        "\n",
        "AQQAD_generators()"
      ],
      "execution_count": 0,
      "outputs": [
        {
          "output_type": "stream",
          "text": [
            "index 282\n",
            "##################################################\n",
            "Article no  0  :  Strasbourg\n",
            "Arabic page exits !\n",
            "1\n",
            "680\n",
            "[0.8134765932174031, 0.5526475544647331, 0.5793377717204617, 0.5467182285093066, 0.47804557829978434, 0.4378127137987935, 0.5276902827355083, 0.5601659376790803, 0.6418157794355372, 0.5606876196920221, 0.41168258072050756, 0.4854160583479602, 0.31700809545702113, 0.4693720205061296, 0.09064838865469405, 0.18983955522178741, 0.48565887304956146, 0.3019597341792055, 0.15681551392684423, 0.04246475761840485, 0.6042384557108618, 0.6846101201855654, 0.7101673383986966, 0.6293721298662428, 0.6891928121737008, 0.6433880744517158, 0.3572538302342362, 0.5399385565360081, 0.7456506201411295, 0.5774385065035459, 0.45439494281483594, 0.47217701862815176, 0.28100889064926027, 0.48294924165750563, 0.031180174001507632, 0.14562115788840535, 0.532251972963301, 0.29458636502589397, 0.27717489331439804, 0.16073404435572236, 0.5827204245556132, 0.5275342565855539, 0.5426940326080227, 0.5037292780143375, 0.5200561577696164, 0.43703244638778016, 0.7690434432682901, 0.5775516546891827, 0.6414705019527808, 0.3275529148947862, 0.41685392171513724, 0.372978084710465, 0.29520037496381546, 0.5943010518325962, -0.03003506605298556, 0.01425063652925529, 0.46963117284735667, 0.16257729149081723, 0.09751493862784599, -0.019759207213017937, 0.5819407210568868, 0.6246120384720173, 0.8442253961685628, 0.6868175661182685, 0.6928745072864657, 0.606349942592072, 0.4128154278370276, 0.4644616806004801, 0.5745189764201004, 0.4181339664760385, 0.37141192491682207, 0.404328688750931, 0.28719012193551907, 0.48978800571269576, -0.08179634426245208, 0.02407648235316362, 0.4062296735519493, 0.2264597210309265, 0.187433309149729, 0.08016161644176545, 0.5659090083184519, 0.6408371908853195, 0.7171386527372696, 0.5394902789424273, 0.5673104060415718, 0.6593075308267888, 0.44947438251738037, 0.5350764086705434, 0.6687521275413526, 0.41185296729919796, 0.47692133163887696, 0.4230878018590962, 0.25389228616823645, 0.5305736478377608, -0.0900811507650554, -0.057268057368330405, 0.5321712951770089, 0.21991456935895481, 0.15735382047849444, 0.0672252626969102, 0.5572788583152971, 0.5591359112024632, 0.7013335180496512, 0.5080489035048605, 0.5460151102058378, 0.5889410458817956, 0.3312969992067105, 0.45945715109269514, 0.6137030752677451, 0.4540262659859935, 0.3989877107113382, 0.4696572645490318, 0.24454995039850358, 0.40585535039162945, 0.05760861552833829, 0.10164367554191389, 0.45752157101452284, 0.28364882001424174, 0.2615975349144475, 0.15722097902105758, 0.5955776299879977, 0.6190867240512489, 0.7605068584768636, 0.7270901286528485, 0.7232697365378511, 0.5053762373409183, 0.35440184158403665, 0.5080279312280129, 0.6339847689433777, 0.39687771665046223, 0.3657267178493375, 0.39952179567053214, 0.3642305625384843, 0.5069108336143665, -0.0938150813381633, 0.001052301426090252, 0.4090489998803033, 0.19211315912793503, 0.21799777267628817, 0.03722150404024416, 0.5088370623979754, 0.5464356602222341, 0.7616162212605777, 0.6854907616272857, 0.6858744482718315, 0.5764889915252456, 0.2548425027327411, 0.4481536543055924, 0.6420792723669403, 0.4345578344164722, 0.39706448558264906, 0.3969148837188683, 0.3114920075138643, 0.3895802252481927, 0.02324952083682308, 0.15048999837279853, 0.5020694251589509, 0.31806114297251353, 0.32242944181595323, 0.16499354486445217, 0.5257847210173554, 0.5547612927394182, 0.75035807463826, 0.7254673454994772, 0.747166899501464, 0.4640695150912926, 0.415296979530585, 0.5048220258633117, 0.659720543124772, 0.3050834655328629, 0.3308605813713996, 0.3690654835525977, 0.297252898509366, 0.49628897380603143, -0.044715823411343614, 0.035754961742990976, 0.5061616581971035, 0.23845752869242232, 0.20355628942124104, 0.004942159731583962, 0.5560635020674252, 0.49775299640774107, 0.7076506994802619, 0.6650091106107382, 0.717120160101766, 0.47060404636654396, 0.2899650604736064, 0.46344273469364716, 0.7027253050629693, 0.41189141550132524, 0.3720368203234258, 0.40910214479224116, 0.22981008879232157, 0.3375324871025811, 0.055939630344806646, 0.15814712526499364, 0.5078444355651742, 0.32583499996225274, 0.2845663770829425, 0.08720737465790496, 0.4831611610412716, 0.5952814118203384, 0.7641759953239846, 0.7110829989043742, 0.753945893580321, 0.5274250070366105, 0.28913768350110824, 0.4774067645183908, 0.633601865659734, 0.3529483544162737, 0.3477107092628555, 0.363116048588344, 0.26570339648156993, 0.4522224224632013, -0.08526959563208991, 0.04114699805286426, 0.4375648668023683, 0.20929637694256598, 0.21194247611072659, 0.027326234822743878, 0.5510992638355953, 0.6933608107586215, 0.6738977222641193, 0.6737868542413911, 0.5862124756819993, 0.6792761972524831, 0.32318136092537797, 0.4878164532244629, 0.6700911915583925, 0.3984764456788028, 0.4928637120701731, 0.500643108055148, 0.40886345213573594, 0.519292359789828, -0.015792599366996285, 0.07586387370670655, 0.47993072523183633, 0.2760553351259396, 0.17535203121357767, 0.09768340216490423, 0.47848372552887297, 0.5743321954854942, 0.7269286807600555, 0.7013462904623595, 0.736323886629788, 0.4995934675966973, 0.282715142379766, 0.4200177610289155, 0.5976422463603674, 0.42507352508405516, 0.3896029094123663, 0.4183455750104894, 0.2887707846946448, 0.4466894226834479, 0.07251569737683583, 0.20552466034448602, 0.47060666837991616, 0.3609935846509661, 0.3040230000209856, 0.13553528669530435, 0.6057670750728488, 0.5112864300691037, 0.6233070430483035, 0.4616471039096919, 0.5014612868640316, 0.43199680708115673, 0.46011397448249614, 0.40000199782258905, 0.5299250195676429, 0.36031484639930955, 0.35283320484140135, 0.37556289272117804, 0.2399204533439595, 0.46366814986989535, -0.009255258797632449, 0.01531326126428989, 0.38427916694970776, 0.13908514128364724, 0.16475934505442869, 0.07866083655798428, 0.5757770854640977, 0.5221640431873409, 0.7667062239384592, 0.773856772872705, 0.7543125558504609, 0.4693298580862728, 0.36470862449129227, 0.4407696719222436, 0.6137614160517699, 0.3698507254919223, 0.2608581835826269, 0.4111458948309279, 0.38541711278055524, 0.49137978263577753, 0.03196080504730392, 0.18066070286669178, 0.423781439666833, 0.22621379666954544, 0.20233322865516068, 0.03626770620675912, 0.5261020439420802, 0.5904203464921361, 0.7195791470343786, 0.6825042974931382, 0.7451488660946856, 0.49836621590675434, 0.317606436242142, 0.49508913155164325, 0.6894606159183084, 0.36580824222804553, 0.3755421632790187, 0.35468331384992946, 0.261011520887112, 0.45325417737199947, -0.07802331757472203, 0.02365385636441064, 0.5074462357347226, 0.27610727620221676, 0.216877876832116, 0.012024399121778329, 0.5448911737276241, 0.5127531621767621, 0.6998554543562835, 0.7237964491604871, 0.6987696015726105, 0.40991654486210183, 0.3333059439627797, 0.4530918668643541, 0.5678997508938687, 0.33999562105113745, 0.3183811888279823, 0.3299585940432268, 0.3412441473403527, 0.4649386359504246, -0.05401509479887889, 0.09884005116149996, 0.41163419869303497, 0.20005824664879646, 0.17696049255846702, 0.023815082937176157, 0.43176538229012673, 0.5275789955667555, 0.6774902804002384, 0.6415442286517166, 0.7207210734832943, 0.39330903490956226, 0.31025523854058434, 0.40541838884806525, 0.4936473474546106, 0.3177792273312796, 0.26810133856663343, 0.2965353516814484, 0.23226453286886195, 0.3925611528363959, -0.10979825356790451, 0.06696746489489591, 0.33893264172699644, 0.17171992692832616, 0.18991740727196182, 0.02567507928331947, 0.5291055689319322, 0.5358246228123709, 0.7460244059219848, 0.7251972408338416, 0.7618139856307351, 0.4571605689464777, 0.3664726415274905, 0.4840285898693206, 0.6249680577997587, 0.3337893290240501, 0.3047992401428057, 0.3565416241984096, 0.29505700676078395, 0.47517728510612023, -0.0808607266760546, 0.01655600600478313, 0.37892150413243353, 0.19695362282825724, 0.16345208073170325, 0.010155062852088892, 0.3977848153620859, 0.4697965823994078, 0.6136247577892384, 0.5937797063924103, 0.6561811604396063, 0.40272455645810024, 0.28731142039545143, 0.44850685505409904, 0.605951890433346, 0.26281513752541175, 0.33062389047266727, 0.2562319208171777, 0.21583123259258497, 0.3840193470284541, -0.10938002026609905, -0.07515545786047473, 0.36561308816005844, 0.18665022364263262, 0.16275020476877045, -0.0013446233129081886, 0.49626933636057746, 0.5390990075454196, 0.6852488765565067, 0.60065805618703, 0.7253115564982885, 0.5147729619103601, 0.2496019396120096, 0.4014213888572862, 0.6555414326416592, 0.40602760992283204, 0.3859834995968431, 0.37978779557465303, 0.2378269900666593, 0.3642819828119992, 0.02237964781503421, 0.195284154845891, 0.535968018650542, 0.3315853165090712, 0.34264673126907375, 0.15271905818399434, 0.5447238394325548, 0.6380518363207469, 0.692170534706341, 0.5949947352857706, 0.5367025637333142, 0.7004531955703587, 0.36995897935270383, 0.47336370564245045, 0.6520225549202424, 0.3864933745182588, 0.4706622936836793, 0.41496356318919314, 0.26976166819821956, 0.43990589428612525, -0.04156295486114914, 0.002483898552970265, 0.542553757992381, 0.19215564620452985, 0.13331714574541698, 0.04863319914753739, 0.6837137082580438, 0.6062647541728049, 0.6232750454069951, 0.49350397331612417, 0.5189785825053894, 0.5372321678188331, 0.39107646346905445, 0.4844306673545844, 0.6905506197914689, 0.43474111382171476, 0.49703648894930186, 0.5689820239383955, 0.33514650761675235, 0.48304543996961247, 0.002049868066940519, 0.03349863908647566, 0.5049653970773901, 0.3068520222214254, 0.1965305276070075, 0.09313879168544337, 0.48425211863662465, 0.5619875399819915, 0.53318477955004, 0.46268726669976745, 0.5030503344670006, 0.5799640482974208, 0.2904081354942558, 0.47240428777417587, 0.6920571403251156, 0.3849042292165049, 0.515339900851419, 0.455477423553009, 0.23323087319147962, 0.39996056027027227, -0.05038773682687192, -0.0374427716644512, 0.6233455873184949, 0.39170499689585303, 0.23478792108550517, 0.128470026379076, 0.4676263541687209, 0.5098476541144205, 0.5102630895372776, 0.38501415684709983, 0.487392482418622, 0.5335076862039335, 0.27132408860243884, 0.45992849070295416, 0.6635315532045086, 0.35807391609950256, 0.48796309890521616, 0.40656722221924246, 0.19057787306436336, 0.4002108290362789, -0.051133094159908854, -0.08939603308087007, 0.5685084879302703, 0.3448602761086026, 0.21553631200512602, 0.1113234587270785, 0.5710076814166486, 0.6760387540685107, 0.6618909952457995, 0.5647183200578526, 0.6112290974914357, 0.6175074530335151, 0.4542956434120713, 0.509300472063413, 0.6800591083430678, 0.46323992407472137, 0.5054364557559831, 0.4672287548230285, 0.26169180376765855, 0.5279534190203361, -0.059779990909377245, 0.028665708116090705, 0.5103562780980986, 0.2528374230607643, 0.21252905462344363, 0.09990638101632343, 0.49836545003618193, 0.5990198422227241, 0.590420894178437, 0.4771330614113849, 0.5370058323061515, 0.6846585854568157, 0.3029696144460561, 0.47179542200007396, 0.6214385067519779, 0.43823757401008456, 0.48701851747672575, 0.40106570426632615, 0.2520062948246098, 0.40114262887429764, -0.0069361108279339945, 0.028388797967097812, 0.4789240324523847, 0.27539280049376247, 0.22505079188791433, 0.14289694928977692, 0.5119279265946377, 0.577002436874364, 0.7074932613967031, 0.6244526802746688, 0.6650644494891524, 0.6499988188356957, 0.28161066539445456, 0.5251241113327579, 0.739869517384462, 0.5217159410244991, 0.4966324335245039, 0.4460682484893608, 0.23445941842726126, 0.37095988040042926, 0.0433090620581329, 0.13106251737977792, 0.5347326128241857, 0.35465865150632014, 0.32376680386289713, 0.20936626472907038, 0.5085023270372716, 0.5891931620887474, 0.670620376106435, 0.6084164137008644, 0.6793258624681318, 0.4866840255531739, 0.2883670772315565, 0.4612918343363257, 0.6559152394730958, 0.4759522454063363, 0.43621158139307203, 0.5176845878454113, 0.28391402171728686, 0.48980333157776446, -6.048554592164024e-05, 0.11268350633200275, 0.42227016079413926, 0.357291404624111, 0.31696096967082354, 0.18391855625836917, 0.4704652884877185, 0.5544135985993842, 0.6172569798270715, 0.48944943520616147, 0.57108718853992, 0.5527446766845071, 0.2638860413454046, 0.4783325449037117, 0.6344343759685347, 0.3996869754382857, 0.46565688733734434, 0.3879052734809816, 0.19519676873141023, 0.41540332149877, -0.09995463885300304, -0.1217361367755121, 0.4734885723062199, 0.22611999576170594, 0.21619636455362434, 0.09116192755392061, 0.5851168950363611, 0.5253266896497759, 0.5160667642663512, 0.40208145017154995, 0.4723041572552187, 0.390140042803347, 0.4417911706745741, 0.5434604170277991, 0.6043515257537001, 0.3935516749340131, 0.45714378996708904, 0.4274308312498316, 0.2716306650165248, 0.4940402528858143, -0.11183168723130188, -0.06695047886153493, 0.5095588577960035, 0.23530288654244802, 0.1822524655673876, 0.040638207915079105, 0.539291744971521, 0.6313073468913638, 0.6017679840975338, 0.5394520254732569, 0.577330245528501, 0.5177630161928046, 0.43499958527869065, 0.5437871308715446, 0.6841677178892998, 0.3781975603411698, 0.476842452563792, 0.4084744503790909, 0.2969591009957797, 0.5846797344410805, -0.020774728128460263, -0.02102828742316265, 0.5035880404443807, 0.19305713989068618, 0.1112209267096671, 0.008218829244538983, 0.3760803907787633, 0.4538098063410967, 0.4033176664339928, 0.3207691252993967, 0.4450685458531538, 0.37140977254049967, 0.29411434998995334, 0.47766640459428134, 0.5875681438230799, 0.20467366392115083, 0.43140457910880825, 0.3029498833814013, 0.17814290523529053, 0.45713943243026733, -0.1706300510674219, -0.25132137537002563, 0.4806246757507324, 0.21885304152965546, 0.14075471460819244, -0.031231513246893883, 0.5518039906141863, 0.5786149636957707, 0.5772279094291084, 0.517749340139915, 0.552291761052105, 0.4638993038526349, 0.6009029751835614, 0.5489695467333618, 0.5847159912355244, 0.34907757346553325, 0.4108388723906139, 0.3611063355384643, 0.3030461370438322, 0.5388602171173227, -0.08447534995478301, -0.046989540158219434, 0.4469725026448247, 0.16392701358794903, 0.1288619270405209, 0.018250517988909976]\n",
            "Strasbourg\n",
            "##################################################\n",
            "index 275\n",
            "##################################################\n",
            "Article no  1  :  London\n",
            "Arabic page exits !\n",
            "2\n",
            "77\n",
            "[0.47609423260442285, 0.4167771394186406, 0.32199131642717094, 0.39001749579764455, 0.5051411893521621, 0.34173217696690306, 0.3370392533039823, 0.4183203571029588, 0.4128220092391235, 0.4508554436618393, 0.31373893977318357, 0.43669440646643043, 0.46058495426040447, 0.43231192583244593, 0.41675620203970465, 0.43485661703168166, 0.405992915741181, 0.39761559986581996, 0.412918272071668, 0.4535742278888948, 0.4445847863070198, 0.45524115034192025, 0.4132450178665541, 0.4540455814645845, 0.46530289369066424, 0.24785883029450884, 0.5031156106040627, 0.43457699831820584, 0.45456305598116, 0.5532584969080181, 0.5244924330144555, 0.5226620676639585, 0.5171887618956427, 0.42492705595763136, 0.38034688613964773, 0.39568987706713654, 0.4209915923537765, 0.4473874640808466, 0.3264329676688825, 0.45236885219227796, 0.510127659160609, 0.4851958643471246, 0.46192951166782037, 0.39483888125341493, 0.45973838292946057, 0.41225903712172274, 0.3694313875017192, 0.41466863101096085, 0.33471701475908766, 0.45371225110485935, 0.454228230954308, 0.42474827367649937, 0.43261152166298333, 0.3239961334536019, 0.36281011766691107, 0.3668249990231527, 0.3274740369912029, 0.31237586296178643, 0.355526981703413, 0.2981160590745775, 0.3939279317855835, 0.312659455789267, 0.2976899499517236, 0.46868849695250325, 0.41810517731167873, 0.4257427449704786, 0.34066116316771766, 0.2799110040563966, 0.39227342130859255, 0.40535149720895913, 0.4395167599926836, 0.3779714418205484, 0.42084055805404386, 0.43415146792417003, 0.3797565239279499, 0.40891991759281354, 0.40743417949097127]\n",
            "London\n",
            "##################################################\n",
            "index 232\n",
            "##################################################\n",
            "Article no  2  :  Nutrition\n"
          ],
          "name": "stdout"
        },
        {
          "output_type": "stream",
          "text": [
            "/usr/local/lib/python3.6/dist-packages/pandas/core/frame.py:6692: FutureWarning: Sorting because non-concatenation axis is not aligned. A future version\n",
            "of pandas will change to not sort by default.\n",
            "\n",
            "To accept the future behavior, pass 'sort=False'.\n",
            "\n",
            "To retain the current behavior and silence the warning, pass 'sort=True'.\n",
            "\n",
            "  sort=sort)\n"
          ],
          "name": "stderr"
        },
        {
          "output_type": "stream",
          "text": [
            "Arabic page exits !\n",
            "big article sim\n",
            "##################################################\n",
            "index 333\n",
            "##################################################\n",
            "Article no  3  :  Diarrhea\n",
            "Arabic page exits !\n",
            "3\n"
          ],
          "name": "stdout"
        },
        {
          "output_type": "stream",
          "text": [
            "/usr/local/lib/python3.6/dist-packages/scipy/spatial/distance.py:720: RuntimeWarning: invalid value encountered in float_scalars\n",
            "  dist = 1.0 - uv / np.sqrt(uu * vv)\n",
            "/usr/local/lib/python3.6/dist-packages/scipy/spatial/distance.py:720: RuntimeWarning: invalid value encountered in double_scalars\n",
            "  dist = 1.0 - uv / np.sqrt(uu * vv)\n"
          ],
          "name": "stderr"
        },
        {
          "output_type": "stream",
          "text": [
            "441\n",
            "[0.772331711477856, 0.697874292224776, 0.8142843132514698, 0.5350791490976311, 0.3185088503580966, 0.7149829586222904, 0.8034810706331258, 0.6973676604958918, 0.4716289919200576, 0.6205707974359294, 0.32752828154742564, 0.6185259412775435, 0.607342181377322, 0.4336624411559107, 0.6737683820073679, 0.7595407962799072, 0.6349240396841181, 0.7623550393494627, 0.7141651492921441, 0.6652119274195096, nan, 0.7626513398966556, 0.6825149253589541, 0.7902913503287291, 0.5472258641978076, 0.32414231785207304, 0.7736050170604121, 0.7972339960269527, 0.7427357408586261, 0.4488875312809034, 0.6107769845760399, 0.33143532564943845, 0.6715470139848896, 0.5712600494789337, 0.4458128209153487, 0.6966618646462351, 0.7731997966766357, 0.6439276901167266, 0.7544169179774075, 0.7040771168490138, 0.7104207486875802, nan, 0.7693003972091675, 0.7038233510076164, 0.7875130036682199, 0.5315727369304373, 0.2964875430435786, 0.7752891843128098, 0.7910492261966172, 0.6876994316640512, 0.4207450355346902, 0.5959201472689746, 0.2769290857556259, 0.6632680126984445, 0.5850233437524582, 0.44629341299572656, 0.6931006958059848, 0.7565789961777545, 0.6563530212435432, 0.7143839906721298, 0.7430133379334848, 0.7420949532512128, nan, 0.7477763575647923, 0.673488413740041, 0.7002713916431025, 0.5083160544648389, 0.2876762449071215, 0.7013707198510917, 0.6665518513603289, 0.7166414804206135, 0.3939265768265492, 0.5347604655389451, 0.2630386169444858, 0.5215046253624914, 0.5128802280444643, 0.3692885846386629, 0.5594476057132485, 0.553455948720702, 0.49948342627425113, 0.6107145472373127, 0.6824458662651581, 0.6639244764817176, nan, 0.7539285977382888, 0.7176553294637944, 0.8137188211652499, 0.521607826844245, 0.3077689862007882, 0.7312201667182454, 0.8516283113518307, 0.690096190473903, 0.47574056568541034, 0.6096480136437773, 0.3095082017806028, 0.6292992563171923, 0.6051531185345999, 0.42221181596632695, 0.6462121487364487, 0.809316098690033, 0.6281325560118728, 0.7779133060109562, 0.724169279262098, 0.7228248102304167, nan, 0.7924744295507838, 0.7262585891818333, 0.8183710380743343, 0.5456291768399959, 0.31443945039359344, 0.7657464692413106, 0.848984618451199, 0.7064954198357022, 0.43990348999644246, 0.6540223264252293, 0.3071329480596582, 0.6850467783311024, 0.6315010583604642, 0.4615719072365627, 0.6653224704226793, 0.8058151301095312, 0.6497430909845497, 0.7745463698744957, 0.748387326095024, 0.6898800575492587, nan, 0.6976632727944502, 0.6385893858874264, 0.7750040111610893, 0.4759315590218465, 0.27575286054212755, 0.7164446946753548, 0.7830061486324353, 0.6818410700446133, 0.4100344843251773, 0.6367850945390506, 0.2872518038602512, 0.6535376820754385, 0.6174247870135371, 0.45143819198296264, 0.6511734556756872, 0.7628617882728577, 0.6201497326623977, 0.7301816372631001, 0.6769993267063666, 0.6963065879554072, nan, 0.726658301036055, 0.6652321557345041, 0.7619910379698335, 0.5217494837724347, 0.31002202857607153, 0.7137455800185447, 0.7457020996538055, 0.6761579561439439, 0.43668014445801717, 0.5847702106495755, 0.31574425767234104, 0.6160030474217146, 0.6038621921122161, 0.42135352799787884, 0.6898671047615769, 0.7221773266789824, 0.6451608504951627, 0.675967108678216, 0.7381534764337752, 0.7305463714613294, nan, 0.7705560283463757, 0.6937151268346594, 0.7705742747459061, 0.5257496144021416, 0.3245454263309644, 0.7994436099092569, 0.7714550042287328, 0.7484506750856356, 0.45947033331129705, 0.6490463932201271, 0.30789336845879134, 0.7041387709833055, 0.5918284148978966, 0.46659610703620236, 0.665066676872573, 0.7172472158567539, 0.6386596050160025, 0.7350255440122382, 0.720798196331033, 0.7135455019277177, nan, 0.7977819118702598, 0.6784019591727689, 0.7756184093543258, 0.5141905532349151, 0.28195085905176676, 0.7308388722320756, 0.7710166692402838, 0.6648447757612582, 0.44971198094267917, 0.5574558802550186, 0.28343943235885494, 0.6179773658834044, 0.588654942797442, 0.396620912336746, 0.6273566216352229, 0.7129266262054443, 0.6086349037630293, 0.6608710656960822, 0.7144940503657105, 0.7418165988055024, nan, 0.7903160431527011, 0.7240530694261964, 0.8104177862415713, 0.564532712115225, 0.35563464007087087, 0.7934816744671178, 0.7880491257003057, 0.7502771659450432, 0.5210406359737647, 0.6398891584195942, 0.3362648444828986, 0.6751455273603816, 0.6269580418238527, 0.4971783617235217, 0.7312953018526066, 0.7562558847589812, 0.6753215133660739, 0.723483519539582, 0.7557396414779614, 0.7755708126347746, nan, 0.6881195732052697, 0.6311286597665398, 0.6527404750151247, 0.5574298144855261, 0.3716040996934524, 0.6782199558758284, 0.6769828615881662, 0.591923994115295, 0.4643663477186398, 0.5441966260462061, 0.3018038196341176, 0.5659476979408138, 0.5387752181951785, 0.46090704621725065, 0.6872140317864053, 0.6342115109981794, 0.6177007428928492, 0.6261189223763897, 0.7116389549782886, 0.7100625974626344, nan, 0.7646056698412852, 0.7075275503048489, 0.767806110963198, 0.5229273510219741, 0.30569938818936515, 0.7117475840863222, 0.7812743287116036, 0.6557264055701497, 0.4559224525313337, 0.5793094779337786, 0.29159437361722484, 0.6087822125011247, 0.6112548034932884, 0.40156879096600684, 0.6163368859949575, 0.7240773060792567, 0.6103684989490822, 0.6777613414940936, 0.7424579982715648, 0.7251571796376932, nan, 0.6595912591402889, 0.5425143414755431, 0.6777783007117247, 0.3269427443323205, 0.15407340912509782, 0.6021281486231146, 0.6416823251010758, 0.5802632906932893, 0.3049357658672074, 0.4292663078647647, 0.16554073437742112, 0.49345208425613163, 0.42125396567441276, 0.3383620344077827, 0.5547131693355203, 0.6554704012335109, 0.4976204483887996, 0.5799575116536105, 0.6009655021737734, 0.6606157011184431, nan, 0.7139037545527448, 0.632537890724325, 0.7380978382677446, 0.46914924177612316, 0.24117027508748534, 0.74574978545367, 0.7139179782463465, 0.7073849905520284, 0.4152718972813606, 0.5402386210342909, 0.22507654321734394, 0.5700050347200102, 0.5109553067156488, 0.40832892078961225, 0.6163654483518831, 0.6560967347036475, 0.5625436069735171, 0.6356960845577764, 0.7125780950752665, 0.7927978292914796, nan, 0.7814136976470586, 0.7361539133038169, 0.7926606681119114, 0.5797300158564053, 0.39296273691360684, 0.7905724021032787, 0.7769583297892428, 0.722166859548286, 0.5555796277303519, 0.7013523644184377, 0.336801221597977, 0.7113980703046681, 0.6464719949141474, 0.5521683520624167, 0.7091815822381905, 0.7091397643089294, 0.6769699745990784, 0.717671764617378, 0.796349518750219, 0.7641489371075991, nan, 0.7519925317288276, 0.7142853635247502, 0.7939870869297581, 0.560779952170787, 0.3024339846019728, 0.7273574440710989, 0.7973517519122598, 0.6444231458446928, 0.4340452355932405, 0.5593268670416449, 0.2833298702057889, 0.6588671777815016, 0.5870349226950222, 0.4111504740986551, 0.6817930410958999, 0.7655483050333912, 0.6628647101695474, 0.6907182955574405, 0.7438315646256015, 0.7333126487125194, nan, 0.7837028637583876, 0.7255229766841128, 0.7263733622090636, 0.472060930866135, 0.34426609644849915, 0.7278495085001748, 0.7752776367539467, 0.6649573627632336, 0.424556679572865, 0.5997712895995398, 0.30089536888139157, 0.6628116457961022, 0.5720924721629544, 0.4353377720295959, 0.5491188343308142, 0.6804159144473009, 0.5372230978368513, 0.7519083737348913, 0.6730485282960134, 0.6361295573635091, nan, 0.7857369203959652, 0.7261237786838802, 0.780639874264955, 0.5372723411831083, 0.3072642442624921, 0.7207786410984391, 0.8330158608697802, 0.6580789129099801, 0.4302434907569679, 0.606448175363241, 0.30744735904291876, 0.6552287915122745, 0.6113010550141, 0.4447910327869302, 0.6525387666512531, 0.7737878916316252, 0.6321960792897223, 0.7693076877337393, 0.7225749306744693, 0.6625959045210634, nan, 0.7226221299532569, 0.6786325419990539, 0.7793805598522635, 0.5250850834451808, 0.2819691913573401, 0.7025961204137092, 0.752371299983599, 0.6105383088232448, 0.4145327337428393, 0.54002478705232, 0.2670028665487838, 0.6212080237335387, 0.5684488795281695, 0.39411087471066253, 0.7102082147347313, 0.7313457665933044, 0.6833140142965594, 0.6862767898461923, 0.6967186870821153, 0.6996252851871729, nan, 0.7173590736542925, 0.6522948658683785, 0.7554479003671416, 0.5229032250506284, 0.2933137549454943, 0.7451737387774042, 0.7717562403125086, 0.7011997104589746, 0.45099397567710287, 0.6272380103460344, 0.3415191057635425, 0.6282631033465637, 0.6301956543630716, 0.45028645528954625, 0.6591809900850876, 0.7187074379655757, 0.6299865566982088, 0.6792364778543608, 0.7407139685143913, 0.7479134459114882, nan]\n",
            "Diarrhea\n",
            "##################################################\n",
            "index 217\n",
            "##################################################\n",
            "Article no  4  :  Yale_University\n",
            "Arabic page exits !\n",
            "4\n",
            "414\n",
            "[0.6959563453278431, 0.5616513985348285, 0.8007277997471552, 0.6174155619966091, 0.5296960364947374, 0.4849976952550624, 0.5041073683296259, 0.496907613490122, 0.6116058159801833, 0.7780965242591825, 0.570588396554338, 0.7086427609587909, 0.7999929980700815, 0.6763409612025503, 0.6753718001454845, 0.6476182486203944, 0.5898741772991236, 0.7238328797189667, 0.5002386918678088, 0.6250395799122885, 0.6161062992602643, 0.5363556553182316, 0.44630867436534893, 0.43605502855171285, 0.49666709976766843, 0.389647584004597, 0.5343048711739455, 0.5612706577659508, 0.6840291898883986, 0.6680122421052358, 0.6340882826423391, 0.5471526330157754, 0.5464718366399371, 0.6284308892488699, 0.482547337600979, 0.6418647333759278, 0.6266127301332713, 0.6636545773370279, 0.7084627505271187, 0.663480723767862, 0.5781318486343718, 0.6151162766383769, 0.6457471765310974, 0.5363396223310162, 0.6696553700764618, 0.6258899544918509, 0.6086484249417945, 0.5760416300670828, 0.7207350813444457, 0.6343713404626204, 0.6499973586897075, 0.7025317490158361, 0.6292926587961434, 0.7616731990910186, 0.5526170595333874, 0.6701579631614235, 0.5794219139327543, 0.6277733504121694, 0.5876273428694091, 0.5809376901430789, 0.681480928345992, 0.525681774570806, 0.666451144725969, 0.5100486443355855, 0.6011804332962423, 0.5339819162374354, 0.6385797814483121, 0.5457391818740726, 0.6032075423258526, 0.6734716192106115, 0.5321018464313612, 0.688841037979265, 0.48623933966829846, 0.5094190155776738, 0.5181348220998975, 0.5960193503048146, 0.5031940368658668, 0.4927150654704733, 0.5674638187621491, 0.493545894090075, 0.6440568394216456, 0.6499301500206085, 0.4569658178420879, 0.5965853993329572, 0.537391039492404, 0.5112728270044705, 0.4444097433639078, 0.4058927805513681, 0.4433478100184369, 0.47325327676240414, 0.477214388148796, 0.5985303606022381, 0.5102248986096242, 0.6196440636125483, 0.5590677218797095, 0.5607784058234092, 0.6593035908241007, 0.5255697152011457, 0.6583036565495747, 0.5820469378173502, 0.4945900063457913, 0.5213292827026186, 0.6358925581696558, 0.6147861422200267, 0.5908943868426679, 0.6231872835460329, 0.6603720547416408, 0.7052913947617149, 0.6052570207986891, 0.5259839698755396, 0.5075667196856862, 0.7126386153211909, 0.6377538437991565, 0.6437561558454045, 0.695102044837074, 0.634389515932226, 0.712754070412095, 0.6699962197925695, 0.580025214649994, 0.6959713517358376, 0.7114613702250603, 0.6198971540898788, 0.569713613941998, 0.6159945706057393, 0.6033310197042787, 0.7001127755130007, 0.5920199073072296, 0.5692599325554796, 0.6489025743779829, 0.6282334637266541, 0.5609775301109428, 0.5416589036725641, 0.6075738428305387, 0.5533665612899265, 0.6902242557216702, 0.671623834474962, 0.6237694827008003, 0.7305822843184686, 0.6927514748557122, 0.5805306630316575, 0.5702991428908905, 0.6250747231910306, 0.5203377121528526, 0.7077724924836241, 0.6135080779412674, 0.6354296267674582, 0.6371225762483644, 0.6719036863382534, 0.5650659460137771, 0.5803839629739787, 0.6245948877341778, 0.5450157851392587, 0.7281270407358779, 0.5124796039002054, 0.5734559122144541, 0.5294001968284417, 0.7012416585514438, 0.6057875902430939, 0.5782623797432052, 0.6492108289172959, 0.5313857247111577, 0.6996916496802288, 0.56957975795919, 0.5987729043177961, 0.5505753856131956, 0.5586791311522369, 0.5007020227483725, 0.49484895334124923, 0.5360476410382049, 0.4476382856853711, 0.5969055977635378, 0.6070664842792609, 0.6068762709858793, 0.6239102448202956, 0.6458532998247324, 0.5744032539821532, 0.5592685342370923, 0.6033111960482227, 0.545811223791872, 0.6825292222816577, 0.5192621732414108, 0.6242727647849565, 0.5230491813470418, 0.607391047803125, 0.5412675432350383, 0.5680519848213382, 0.6392915839642215, 0.522578160565586, 0.663406537907918, 0.5929232253037551, 0.5011506377672907, 0.6132391365213077, 0.5983390072318178, 0.4910780151521257, 0.467815544704124, 0.49775569844779466, 0.4843766126309942, 0.6033501286893097, 0.5315790101344833, 0.427844429301542, 0.6572827828323194, 0.41217632282380445, 0.3394102996775512, 0.2973140166162347, 0.31948453012176636, 0.32315671460340534, 0.4213215990153921, 0.5917706131755003, 0.5333172045455671, 0.5847690701479152, 0.6904098038403991, 0.5663639284902935, 0.5445603449341108, 0.5918185045270902, 0.5277742493622406, 0.6952041535629939, 0.5555637644076117, 0.5912861849445357, 0.6278722801496083, 0.6451824585746326, 0.5303676169023851, 0.5515644399798731, 0.5916517444658362, 0.4854518257737499, 0.6983473761092099, 0.5439061549809464, 0.4188601776755291, 0.43697254913266736, 0.5778199250162682, 0.5809683265916601, 0.4973810419074154, 0.48282725652150804, 0.4255814296165935, 0.44835493395404435, 0.6026998204870865, 0.6023813761981307, 0.6459132713777918, 0.6821337900774682, 0.6290246850068368, 0.5958206284484064, 0.6847433286033756, 0.498002135669944, 0.6251359015706123, 0.4661062827076511, 0.6060136100790317, 0.4487262069801321, 0.6786105836744392, 0.6243170201357341, 0.6314647411402232, 0.7233107413622961, 0.4494629621310895, 0.5730826009705176, 0.6534848296286425, 0.5846633043099994, 0.6186139376461511, 0.6654065828306469, 0.6042477115371715, 0.5602401217402778, 0.5811925254223417, 0.5209068216492576, 0.5790216102606411, 0.4956565299205863, 0.4763463917623978, 0.4575793255245132, 0.6157319734743782, 0.587050810454025, 0.5426762901683156, 0.60766557341283, 0.44973651535018, 0.5071054306622073, 0.7419613914583781, 0.487142679963928, 0.6413672215085665, 0.7505762242544383, 0.6451963559036861, 0.6166878940543576, 0.5628288421041634, 0.6130180161200688, 0.7065974999397309, 0.4526207693987623, 0.6452706738472762, 0.526225539406444, 0.606167802240555, 0.6007591196826755, 0.5818879695168793, 0.6814176823570088, 0.4126593894182886, 0.5359019620573398, 0.657504092178547, 0.565948060247621, 0.659719353472542, 0.7648998540246156, 0.6441309151002812, 0.6192283475158912, 0.6155149955408301, 0.5524525305279163, 0.7147732781087646, 0.5733409487501, 0.4480045979796572, 0.45202837324432765, 0.6293432706988834, 0.531368403279275, 0.5309121145919645, 0.5383357470601684, 0.5351487746884083, 0.6732177911813061, 0.5479318884359202, 0.5269855932706995, 0.47760477705645465, 0.6695963756237004, 0.5728569794282475, 0.7178795495034774, 0.6953818345964761, 0.5164409089747337, 0.6101652475900919, 0.5676296750720603, 0.5811772051310771, 0.5850414696856846, 0.6387056504112326, 0.6029459533748918, 0.6076209273907529, 0.7113767040842339, 0.48934787300030624, 0.590500864098753, 0.6293431678038304, 0.6675219151955687, 0.6853724312851255, 0.6620065125458796, 0.6207449629178841, 0.6201808721048583, 0.688229132023641, 0.593134564697176, 0.6831062754348842, 0.842552078803697, 0.5656207211109363, 0.7187300478127993, 0.8368115486718656, 0.679845221929477, 0.6819973974857733, 0.6306019553192797, 0.6684379197564552, 0.7680968688850766, 0.6332977067151793, 0.5821290581479923, 0.615758208802156, 0.8008270586870615, 0.6513053914870586, 0.6539794590769131, 0.6848052056995332, 0.5166498029403916, 0.6785092334013294, 0.5362349900679786, 0.6784607332760312, 0.594747915652616, 0.6477365493163684, 0.5521128773534758, 0.5804840138791943, 0.6662753457462322, 0.5077650446834645, 0.6737913723468857, 0.670087356398946, 0.5328489903131002, 0.596289021161748, 0.7738365018570215, 0.6405141878620675, 0.6933238285404859, 0.6878171690319574, 0.5810459039766421, 0.758230799467735, 0.6419216570632433, 0.6900575245254472, 0.6478820737762204, 0.7691600788764412, 0.6675977572809153, 0.6761631906088543, 0.7373390465858998, 0.560198927351168, 0.7520585236743619, 0.5237174487086126, 0.5368788636270114, 0.517516561800077, 0.5946335970936298, 0.5473961454935952, 0.5191648780709676, 0.5867132991896465, 0.45941804708797285, 0.5804106782290643, 0.4823705977720786, 0.6285042944533225, 0.511557553135969, 0.5095863348572459, 0.4911853391331764, 0.47753155335452013, 0.5254215154475849, 0.42930181353821095, 0.542090102269388, 0.20682417399983266, 0.2930036112464319, 0.2599740749780476, 0.12292293869821702, 0.11262393155215167, 0.11291620897938615, 0.177919172556106, 0.16351434409704024, 0.17927252796974125, 0.6246171302850141, 0.5928453379066095, 0.5705330432486428, 0.6640121159072889, 0.5880031366970379, 0.645234238017803, 0.695790782387108, 0.5721621116203192, 0.6826039805786864]\n",
            "Yale_University\n",
            "##################################################\n",
            "index 149\n",
            "##################################################\n",
            "Article no  5  :  United_States_Army\n",
            "Arabic page exits !\n",
            "5\n",
            "374\n",
            "[0.6204018259971803, 0.807323167192815, 0.7331258418838993, 0.7764561094900423, 0.7805836307520577, 0.752727448424868, 0.7211542387147969, 0.3948188321405681, 0.3981534456162835, 0.5115924281837725, 0.40276110797171916, 0.6855593308640507, 0.794382437585646, 0.691603307400947, 0.7272013012917623, 0.7718012756631086, 0.7448145226475266, 0.7816642508408916, 0.48207315578339605, 0.3716071393491198, 0.4337868802592968, 0.4874529563534701, 0.5890445428870483, 0.7497938464934827, 0.6923148295794089, 0.689341851275205, 0.7196326236598343, 0.7342720266282501, 0.7016377987786135, 0.36999924098673664, 0.33838173171642383, 0.44100097048591613, 0.35856707363341234, 0.674835945957469, 0.7082837890175108, 0.800812245670408, 0.6502247395931314, 0.5832629949147039, 0.6511232645255419, 0.6756633660024035, 0.4513810177165527, 0.5196206860710927, 0.6396237289313331, 0.4489846540070277, 0.7390485319013216, 0.7819602695033907, 0.8125012570707576, 0.7534249283864373, 0.6761611119942851, 0.6852392545303633, 0.753913777873445, 0.6346816054544675, 0.40825399681221963, 0.47342364738359655, 0.5192461122458155, 0.6709041035358698, 0.8237166346276887, 0.7122348477648808, 0.8083425090066925, 0.8204687642874123, 0.8144794038075934, 0.7739032753422699, 0.5407729406922256, 0.3454894732983774, 0.4321099918238125, 0.4779590587252993, 0.7250099651389128, 0.8766697920619059, 0.7842368272462987, 0.8060268675374861, 0.8020885398245119, 0.8782123604208123, 0.77607459158654, 0.5483529148845072, 0.3437539540883008, 0.4508358902953473, 0.4982502407219347, 0.6203055487133907, 0.6264312178004523, 0.6680168386619187, 0.5798656351002013, 0.5751995237706246, 0.6605968104381793, 0.6092241908694531, 0.44141578297759887, 0.35290523241796545, 0.5008339843481464, 0.3844418751304406, 0.7108707272052969, 0.7891895881308927, 0.6960806214503185, 0.7668161986138813, 0.8307664822378826, 0.7840639128368825, 0.7841002649238099, 0.5294877420562996, 0.28698914389519525, 0.3940663013700918, 0.448506306835743, 0.6457209333563341, 0.7400346119062443, 0.6399514054662927, 0.7189640084131114, 0.7451251830505654, 0.7281523617658456, 0.7620670551508818, 0.4927239061066071, 0.32465183183581314, 0.37307003762667845, 0.4320646134523495, 0.6798054256980602, 0.8544458327169621, 0.7455195947935128, 0.7897343483400289, 0.8369541874462765, 0.7608874459188134, 0.8456241483028559, 0.4596243576043504, 0.31559354652577665, 0.42967881782230966, 0.41149344317315006, 0.6704802686984045, 0.824579676534958, 0.8017295379005736, 0.7229352455268319, 0.7064860453335644, 0.7363109898460863, 0.6861197489994995, 0.44539919181932186, 0.4399357736110687, 0.5764530301094055, 0.46315125048570205, 0.6938565695848504, 0.7718292887701796, 0.7190522825289031, 0.7135566896180926, 0.7641779615987625, 0.7342040456424285, 0.806154778641652, 0.4441560664169748, 0.37499968852495735, 0.4493173576735956, 0.4178296980026903, 0.648959406138825, 0.772033017144439, 0.8096855504378042, 0.6843890910766052, 0.6621746529979045, 0.706455281498517, 0.6641206191421389, 0.4699652466001468, 0.41928757316620524, 0.5449572711554047, 0.41402244032969504, 0.6415581230292874, 0.7970143052052618, 0.7754910694423184, 0.6861874258428672, 0.6986841490383968, 0.7492967212788886, 0.7077143288131735, 0.3706231126354762, 0.3087031144974468, 0.46453267378139806, 0.3536002466007597, 0.5885674894240576, 0.5821524780473061, 0.6336410534798973, 0.48740522986929746, 0.49622086892558814, 0.6042286845481737, 0.531457089470607, 0.35865866066391616, 0.25691185820417894, 0.4322513094555678, 0.31662163425820244, 0.5047680058306362, 0.46251379884424537, 0.5156704776239475, 0.39005008433405386, 0.44316828784980866, 0.5543236636873455, 0.4475030731602583, 0.3212655822129822, 0.26892949909871966, 0.43124187919509827, 0.26220466988176283, 0.5401979409730443, 0.5163255893510642, 0.5427485865114927, 0.4557926452517276, 0.47315422315483613, 0.6077507335440983, 0.4681466674733723, 0.33067717603985547, 0.23947921070708456, 0.4198682214833015, 0.3052914904957855, 0.6115210641916605, 0.6782477898493686, 0.6655174179959357, 0.5872301713767618, 0.6185658554780644, 0.7087555040537197, 0.6058402497994367, 0.38412687362506936, 0.33431261248410626, 0.4930696368099421, 0.36476571186503826, 0.7623511783894148, 0.8177903754990561, 0.8613734690761982, 0.7234441845274793, 0.7125275968542215, 0.707429634924893, 0.7793108040576532, 0.4598222892308743, 0.44338808569932864, 0.5607643161234341, 0.45220679748732406, 0.605760733563264, 0.7241506413262442, 0.597067701035188, 0.6863214690228989, 0.7269365410816485, 0.743237285508427, 0.6429057458333304, 0.4967488796862931, 0.30436060450840174, 0.34764719947072664, 0.4296604173330536, 0.6924169382832684, 0.8203462206952497, 0.6946559052898504, 0.7676034040612779, 0.7764670552791724, 0.7579374129248883, 0.8303816261448853, 0.5459641376499653, 0.3515588827902878, 0.4316314202439495, 0.49498512849090437, 0.724611279674004, 0.8203844937624281, 0.7676665450530572, 0.7775093525668486, 0.802323030556555, 0.7836685929291016, 0.82081989772729, 0.49529718762520325, 0.3800339497123737, 0.5137204054013699, 0.4486439616672986, 0.6871586608788374, 0.7311917922146495, 0.7305558999187024, 0.716286419135715, 0.6844156811938291, 0.7543620481043468, 0.7058498041562193, 0.5094260311493857, 0.44271736904942616, 0.5067650137293344, 0.4707515807208218, 0.6943445760922653, 0.7644925365836432, 0.8241589240586361, 0.692305156217695, 0.6369945431977876, 0.7431515281728099, 0.6429434467386014, 0.5378554324456901, 0.44046580702407434, 0.5802673618107311, 0.4840865760851988, 0.5390248329895666, 0.5845288479505258, 0.6250109210598008, 0.5242162578390203, 0.5126467895377516, 0.6382875274178459, 0.5077038352251668, 0.3657467070606131, 0.3303349504160358, 0.5005637265268863, 0.33777330726628907, 0.529235017266028, 0.48684278638773937, 0.5755944058046699, 0.4211016727992205, 0.40729120935486507, 0.5498020350303339, 0.4938543322091866, 0.3551110239306212, 0.3474923799769081, 0.5056567462238966, 0.28206577592358706, 0.7852074484187939, 0.7910718198696011, 0.7749134192830316, 0.7491259257278653, 0.7144846007463709, 0.7361046621609009, 0.7860476313013466, 0.6434957914466235, 0.370662659406662, 0.4364292025566101, 0.5337602872542202, 0.6706685175040245, 0.8030878312637807, 0.7064734747879463, 0.7711104009997837, 0.8271335279203407, 0.7773155871136936, 0.819900734593153, 0.48712166308504345, 0.31761764494361266, 0.4239810023138353, 0.423285075423645, 0.6982873198274383, 0.7885919397834665, 0.7785725245321773, 0.7338502947078832, 0.726120662790355, 0.8048778160351049, 0.7142105244739035, 0.4938882595861833, 0.38360204828360944, 0.5592927428664676, 0.4499377209093872, 0.6035336341367756, 0.7542036943315433, 0.7077913417925521, 0.6509713947745828, 0.7398739730929443, 0.6370362261517243, 0.7146573085580449, 0.3277984011180264, 0.23115286648403688, 0.37022082611649076, 0.3026256773338094, 0.6092444949715363, 0.6178493845644616, 0.5867900072071137, 0.5338676956926312, 0.47046492775961535, 0.6258570547567304, 0.479036009838544, 0.4044976700170887, 0.32701278106113374, 0.4746536148078817, 0.4127464588009484, 0.48777423896773464, 0.5307684795225017, 0.5692271596878009, 0.4278184542556944, 0.4685411435562781, 0.5255348569785582, 0.4324990760786743, 0.2628365292128565, 0.20039910078155643, 0.3824424804238824, 0.21913666778339058, 0.6096628983890774, 0.5510265945407755, 0.5534825329414549, 0.4656743829652661, 0.4720881850416023, 0.542339701407519, 0.526617068227478, 0.3599076321085075, 0.27235704091630253, 0.3909558407948084, 0.32612964137340916]\n",
            "United_States_Army\n",
            "##################################################\n",
            "index 252\n",
            "##################################################\n",
            "Article no  6  :  Carnival\n",
            "Arabic page do not exist\n",
            "##################################################\n",
            "index 145\n",
            "##################################################\n",
            "Article no  7  :  Anti-aircraft_warfare\n",
            "Arabic page exits !\n",
            "big article sim\n",
            "##################################################\n",
            "index 300\n",
            "##################################################\n",
            "Article no  8  :  God\n",
            "Arabic page exits !\n",
            "6\n",
            "384\n",
            "[0.9053431392845155, 0.8467668342316741, 0.6028560656694263, 0.7299413246996656, 0.7105625443513135, 0.7163032189555053, 0.8141967041021443, 0.681761006869394, 0.6894260234184294, 0.7316388681764014, 0.7301390441333939, 0.7326454239487376, 0.7062817736802283, 0.6281884082106564, 0.7816526949736328, 0.7996045329832419, 0.8514391224413778, 0.8340011291615211, 0.6162377918700513, 0.6685679349695371, 0.6354030402911321, 0.6813383815154901, 0.7854557772516833, 0.6897159261460187, 0.665233881368575, 0.7363538082815705, 0.7391153615084091, 0.7433182590944952, 0.7095453355789652, 0.6090525529158719, 0.7650217574729665, 0.743499092294015, 0.8479213893321074, 0.7800029184992028, 0.6748278460225167, 0.7451915207417379, 0.6593575869539533, 0.667931753847929, 0.8115067457073443, 0.6639754401140495, 0.6528275280524192, 0.6382455115329432, 0.63523195454881, 0.7027143369615995, 0.673860165073906, 0.5892703529056217, 0.7386609863614008, 0.7319257316659649, 0.7544643865326995, 0.6781656798030224, 0.5924021196560263, 0.7138779879295959, 0.6657367986343486, 0.5953208961802727, 0.7238359147803081, 0.5195825406964105, 0.5526805089206163, 0.49934118354810786, 0.5159327277148409, 0.5267962274702459, 0.5565601958489059, 0.47506147690668254, 0.5839535193122364, 0.6502368691798773, 0.8333937791170632, 0.7351811866590378, 0.6156073153892317, 0.7490138267517639, 0.6624761463112173, 0.6187781513021929, 0.7711135370549269, 0.597552464972946, 0.6203540938903722, 0.5836972133445057, 0.583901346806702, 0.6244846187631644, 0.6321331470875863, 0.5243344336879606, 0.6692145982431463, 0.7184648756540479, 0.84277986056685, 0.7773724062137217, 0.6713101871339467, 0.6833936254564015, 0.5738366773994132, 0.6345470674013399, 0.7756861042734639, 0.6420366208481348, 0.6107819008701242, 0.6476222110858619, 0.6253361479876689, 0.6775553777532963, 0.6842410445766118, 0.5429817026604794, 0.7164706196800762, 0.7541546650984423, 0.8652325295857789, 0.8629408756067366, 0.6225649502955872, 0.7385984477030797, 0.6595995892292912, 0.7333200723951446, 0.8416319966441599, 0.714861090076356, 0.7146160113308776, 0.7830608778552048, 0.7638325161396525, 0.7604207658014313, 0.7360504929462719, 0.6737634971012071, 0.802046577722331, 0.7879408461098906, 0.8807992211776479, 0.853319913476938, 0.6093762595167588, 0.7115935839049997, 0.6183519562081569, 0.7110192829521031, 0.8171403839176746, 0.6977588913629847, 0.6821199868683496, 0.7769313562822606, 0.734294277774481, 0.7607180125175248, 0.7602490002478893, 0.6258788736777303, 0.7925843601183616, 0.8143614950416176, 0.8676521363727085, 0.8601125453435686, 0.5857987980828132, 0.6907018022475204, 0.6136235427316974, 0.7234052337602573, 0.7976794486327777, 0.7007866531549394, 0.7126137123641363, 0.8091600060671951, 0.7735087440980771, 0.7540949001526059, 0.7390550853488114, 0.6387944924883074, 0.8045716605804881, 0.7877035183228367, 0.8334486926316237, 0.8158809224269126, 0.6518073579439877, 0.7036733360375295, 0.5960180227031278, 0.6766243116518229, 0.8102720196312048, 0.6650633831700847, 0.6582817419099227, 0.7194639858158355, 0.6840425305798556, 0.718128020263939, 0.7143489147049011, 0.5861222263788661, 0.7588158247738588, 0.7760701995222278, 0.8384983972297269, 0.7819233059212443, 0.6163862081921098, 0.680137810859862, 0.6006889954056203, 0.6516137795105226, 0.7743444732344285, 0.6216429471841117, 0.6168209948467595, 0.6670147649712543, 0.6536053108071653, 0.6482441185538274, 0.6856591533802441, 0.5508255161421092, 0.7220986516671813, 0.7767299957525218, 0.759297662188369, 0.7604295858126966, 0.5581208087846826, 0.5916917859099626, 0.5187476747218237, 0.6376739328772432, 0.7355981929895465, 0.5810071575179395, 0.6090167237302613, 0.6727485947321145, 0.685713872642346, 0.6235526524000037, 0.6394822521398735, 0.5335228013265104, 0.7257089538786758, 0.7178682642246733, 0.7832241366409053, 0.7787536151565757, 0.5975645852332208, 0.641203666184169, 0.5553382764499081, 0.6517235158073158, 0.7628305757132873, 0.6062764130850702, 0.6317049603296807, 0.6670031497058143, 0.6710445249874842, 0.6536492618068738, 0.6615197311458445, 0.5576923468462907, 0.7280699458932749, 0.7594218522266589, 0.7815852560643517, 0.6937851856437343, 0.6291432519038291, 0.5944831019340678, 0.5055867830062101, 0.5861973020907825, 0.7040080527903426, 0.4953117672280578, 0.49268320488348794, 0.5519340564746743, 0.5054115369674446, 0.536517729932029, 0.5803454885326104, 0.42272545053232446, 0.6385366786250305, 0.7459160978940539, 0.7048387834983133, 0.6387032473313383, 0.5749086294851337, 0.5391626439277935, 0.44446505538097725, 0.557686607696154, 0.6524739225713986, 0.4336618107120489, 0.4392140655279051, 0.47926302022796197, 0.4646881172083519, 0.48029490226889127, 0.5249036794067645, 0.35798303665054987, 0.5822825265647148, 0.7021363151940866, 0.8438326659502666, 0.8141452860375451, 0.5894853216043823, 0.669613848358751, 0.588398976985299, 0.6879720222247183, 0.7874377751704743, 0.660865210708526, 0.6669810540289222, 0.7609299864744784, 0.7240744504477173, 0.7242189952020253, 0.6925612431544422, 0.6233139535627675, 0.7472479391221661, 0.7849806115254315, 0.7904611886316648, 0.7409899881184584, 0.6063855796166637, 0.6044340920685188, 0.5429087737820346, 0.6111186955336522, 0.7282565949313178, 0.528374524943595, 0.5455433564768735, 0.5894099384119286, 0.5720369938794582, 0.5711177728142546, 0.6160949802400671, 0.46306897578275064, 0.6623212050041052, 0.7254333175905158, 0.7520732194133739, 0.7900762986762742, 0.4672624066743736, 0.590159159355628, 0.5338666619394429, 0.6882883319288514, 0.730481674570868, 0.5915706665481932, 0.6357771193741467, 0.7499907235982748, 0.7284591518946592, 0.6496963655341926, 0.6412514252985583, 0.5586554277205069, 0.7065958955861837, 0.7190347766867027, 0.8076677946586724, 0.706973833587835, 0.64269458075946, 0.646442185487235, 0.5287465690622454, 0.5601598599471781, 0.7213198057644339, 0.5818869149689727, 0.5355996297897361, 0.5774546152507903, 0.5380830112305154, 0.6212936534145282, 0.6246671905769705, 0.4870243772976619, 0.6720019051528761, 0.7145883907581612, 0.8517558745570232, 0.8084945618436298, 0.625104145650351, 0.7160839472145708, 0.6212803619385313, 0.7054441855515029, 0.8191428818497519, 0.6290283344372624, 0.6470525109350503, 0.6825525605577375, 0.6734557965694871, 0.6786335457814627, 0.6801568694845275, 0.5705011463771401, 0.7712127661516632, 0.7921663365338614, 0.8504221477409876, 0.8488958644041023, 0.582747438521486, 0.7030397000213876, 0.6073648057245393, 0.7138158855722603, 0.8074222166912894, 0.6814411878517272, 0.6943029311036744, 0.7904611358165884, 0.7454747562277302, 0.7430732727512427, 0.7328724185193611, 0.626558000919765, 0.8021577037380182, 0.807306385679706, 0.821348361851756, 0.7744582048863627, 0.6139819310146533, 0.6603471467367936, 0.5452960643789964, 0.650598342073274, 0.7701866119287837, 0.5763899096151347, 0.5869129721683201, 0.6643181904811792, 0.6306262546095963, 0.621711326827704, 0.6494497429184127, 0.5192723618810715, 0.7066730046961726, 0.7668016935331121, 0.8083224860312813, 0.8082893820982365, 0.6008089470148985, 0.6739882928295317, 0.5906990269853185, 0.6749039861827328, 0.7302015082714461, 0.6814755205630884, 0.6625525650612365, 0.7373786798605119, 0.7068514334060997, 0.7538689373416108, 0.7475018871953311, 0.6209295655106837, 0.7413877164930264, 0.7636467045326721, 0.7754907307574964, 0.7896836429401323, 0.5981290335364018, 0.6616852051576129, 0.5653482561085809, 0.6581757816885626, 0.7359982680152659, 0.6039003552953249, 0.6160473066440375, 0.6782811667305575, 0.6530129650884545, 0.638191338747992, 0.6645926931121036, 0.5380119197872126, 0.7134816980897146, 0.7795289187130804]\n",
            "God\n",
            "##################################################\n",
            "index 103\n",
            "##################################################\n",
            "Article no  9  :  Chihuahua_(state)\n",
            "Arabic page do not exist\n",
            "##################################################\n",
            "index 162\n",
            "##################################################\n",
            "Article no  10  :  Nintendo_Entertainment_System\n",
            "Arabic page exits !\n",
            "7\n",
            "308\n",
            "[0.6536957726528329, 0.7338941527326349, 0.5711256095152298, 0.6108510508954232, 0.560709824966645, 0.5375250717790472, 0.6674223592913477, 0.7047415002880951, 0.7899354165333897, 0.7062893301529862, 0.673191816381235, 0.6898493805545002, 0.5865284443007135, 0.5900699872377522, 0.610481841297989, 0.7750073047347883, 0.5938548891362234, 0.6393346236106071, 0.5809030455753105, 0.49374999328735747, 0.47699466530458956, 0.574974019157101, 0.7184270831318325, 0.5257625653850342, 0.5827941327478908, 0.5700739253834781, 0.5195728718454451, 0.6092444086173463, 0.6391552619860315, 0.6887291073503629, 0.5260833156798528, 0.6214641751713381, 0.5943178393155563, 0.42739214955562854, 0.6258154584662672, 0.6319377537940027, 0.7857404026027792, 0.5732571592561648, 0.6150135969250777, 0.6262532440895325, 0.5893872022469917, 0.5774545056831263, 0.607119023557894, 0.7702544441307096, 0.6171110160574927, 0.6038515295698869, 0.5995199597280818, 0.44722615571722557, 0.528072190376434, 0.6189459985042096, 0.727912195901652, 0.5315486819331394, 0.5829559959532561, 0.5817970100731328, 0.510237553000506, 0.6609817391487619, 0.6827963428465981, 0.7656323023578309, 0.6358530456758296, 0.638931660952093, 0.6082180346825927, 0.5472093019125955, 0.6510626830935611, 0.5842662423635603, 0.6804402594327945, 0.6148369744266942, 0.6114720400024793, 0.5574818213053581, 0.4918952506379035, 0.4086934057294538, 0.6125402265705984, 0.7458537702309835, 0.5613390388297493, 0.6108296170120542, 0.5693697462021206, 0.40385089802882046, 0.5007561609221352, 0.6479743781552422, 0.7777888679528367, 0.6038939149561489, 0.6849393635613372, 0.6296729796965327, 0.5253709135566839, 0.5237250599823542, 0.6706267946465033, 0.7565255282921425, 0.5549294319164343, 0.6379436057970639, 0.6277248594364381, 0.5274142238348012, 0.6268332064196754, 0.5983487810114395, 0.7455116398017454, 0.5413038647190266, 0.5994896051504376, 0.5562733986972992, 0.4573882374590935, 0.5870186349409371, 0.6179553983844039, 0.6351500965216763, 0.6452898307626959, 0.5717964160528186, 0.6249332084746625, 0.5002681088946693, 0.4507513435257525, 0.6267325129544941, 0.6866895523204236, 0.5120731523710312, 0.5912162720943583, 0.5327666332078566, 0.4299039006355294, 0.6480863738886904, 0.717396081238786, 0.8094201457884326, 0.684335702304244, 0.6932682074843008, 0.6832699175433117, 0.5666293783858374, 0.5929780101174698, 0.649890671370737, 0.7047000746262397, 0.588586660001599, 0.6043174569095758, 0.5476231080187834, 0.485711287428481, 0.6748864034908205, 0.6384944204038989, 0.7553165653821996, 0.5945143454793564, 0.662384883050349, 0.6049907008319592, 0.5367356570303242, 0.4854277842036814, 0.671238681209512, 0.7806475442925879, 0.5877087474499908, 0.6472937813692996, 0.6231294705624666, 0.4843767588414777, 0.6659324240365737, 0.6859895362933236, 0.7834752399348066, 0.6007274868637862, 0.6674041225210811, 0.690984019988143, 0.505987003784141, 0.6211206359716697, 0.6569179226136509, 0.7809350016341831, 0.6212342507063289, 0.6295444666776263, 0.6294856781462298, 0.5658786321183387, 0.6475927465946353, 0.5718279985772787, 0.6933518397671865, 0.5452052110834219, 0.5925123925123829, 0.5713815455520458, 0.41275219885349035, 0.4768181494101169, 0.6413264715379828, 0.7563344797463957, 0.5879790326527029, 0.6082248400088687, 0.5815640632496795, 0.5216889334635825, 0.6067135190930141, 0.6987411609091078, 0.7985674608700921, 0.5904753781297235, 0.6498708824146523, 0.6316353436103871, 0.46309443858000754, 0.6632343113294711, 0.6773578098318063, 0.7569661488769506, 0.5973185027336477, 0.6407161414423428, 0.6196365140098475, 0.5971228694202303, 0.6511789134326823, 0.5955869513982137, 0.7014868083704787, 0.5420387749977812, 0.5929334646398557, 0.5190769986048815, 0.49006664287019075, 0.6440393973296823, 0.6547997584807581, 0.7604094170384526, 0.5761003736896559, 0.6244776517734335, 0.6106048010578397, 0.5888681074229904, 0.5980408911293722, 0.649199752845357, 0.788368910253608, 0.6575138991230142, 0.6551100474255145, 0.6220207730590603, 0.5975389257725889, 0.5753776393119266, 0.6656045020492973, 0.7076788111717435, 0.5550382561169324, 0.6110183875470068, 0.5711292453941847, 0.5035986219602128, 0.6398587481568135, 0.6650078542481026, 0.7600649136550778, 0.5763987085809948, 0.6387070643340429, 0.6497303378011731, 0.6283002480298999, 0.5710748959203268, 0.5818048332271027, 0.6833828474221141, 0.5279896893592996, 0.5607380307531113, 0.6147483563710938, 0.4153384323374525, 0.5201252995515634, 0.6555394228255148, 0.7506935864136506, 0.5427870494742196, 0.6060815459000294, 0.5747808504352635, 0.5027816321329204, 0.6798463428870998, 0.6171176889971268, 0.6852414556043872, 0.5771489219144118, 0.5556131849969295, 0.5285150701672082, 0.47888268320465355, 0.625649888695482, 0.6537416058824248, 0.7370254889659413, 0.6274859499047938, 0.6582938485105895, 0.7059280401346322, 0.5710194813768048, 0.5335572100840991, 0.6604471952723456, 0.7624311171112919, 0.587569142796087, 0.610810570620217, 0.6438662890870319, 0.6304957265631399, 0.6168314914322109, 0.63369274255612, 0.715910062066279, 0.5563918601249269, 0.5972810317616672, 0.534765854911879, 0.5142750773309477, 0.6503536201260316, 0.6724597054365058, 0.7712582115663948, 0.5467838891529183, 0.6508316972512319, 0.6077958028292247, 0.44004539980642154, 0.6230584423469779, 0.664787412564043, 0.7294527654871428, 0.5698265226812873, 0.6245277629106217, 0.5845708213040111, 0.4983582014796013, 0.680128543302476, 0.6000546740974082, 0.7068900393052093, 0.5347798086947236, 0.5683691380841918, 0.5602773509172907, 0.4538837082498781, 0.541703843104699, 0.6890211169953541, 0.7533288625322265, 0.6380541450053413, 0.6208236398954551, 0.5927287888885604, 0.5946072654429779, 0.636034154363421, 0.5689240645078137, 0.6555524193521521, 0.4680292630418684, 0.5376576923530086, 0.4617943022738229, 0.4127806824095095, 0.6484600490820225, 0.7031242311759542, 0.7930915665308788, 0.6610147662303295, 0.680604323088278, 0.6568119979979492, 0.5715419243969474, 0.5847363568738916, 0.6524874336525487, 0.6669806094739114, 0.609976677700733, 0.5611076529257872, 0.5674142997802414, 0.5272222635189974, 0.655019151290472]\n",
            "Nintendo_Entertainment_System\n",
            "##################################################\n",
            "index 107\n",
            "##################################################\n",
            "Article no  11  :  Houston\n",
            "Arabic page exits !\n",
            "8\n",
            "576\n",
            "[0.6707069943766859, 0.5204186985989828, 0.6771682624267644, 0.5053140303453969, 0.4126685621527141, 0.12962827171961733, 0.13245197857936475, 0.1227469488506997, -0.1617889746373189, -0.197360072706944, -0.012339490454876145, -0.17517002358975442, 0.46820255652494225, 0.46070734520873513, 0.520263001339886, 0.43941775102072744, 0.49978027055973007, 0.07727381562368174, 0.02537474279701002, 0.10508116629133357, -0.06401829990641827, -0.1303266418238651, -0.00923185059855225, -0.10834125744985523, 0.4742413651772932, 0.441684503153174, 0.47594630895256373, 0.4487035174199926, 0.5156212486252929, 0.05556399996799588, -0.011685873677137026, 0.05601157366238707, -0.056883673252792644, -0.12617163048982238, -0.0448262274948632, -0.1096192897676731, 0.4571853035315061, 0.3492873384371722, 0.3680772230368583, 0.3436709713911703, 0.3369029011353255, 0.09342439776276357, 0.00442933701414272, 0.12079293759257925, 0.03289975575031279, -0.02917160769196414, 0.017655161499003924, -0.04390652614099966, 0.6933083556475744, 0.6586936201358954, 0.6172794113205231, 0.4209821930161297, 0.3477463094753629, 0.23520604838301706, 0.23235279180242174, 0.17867434804347804, -0.0958538585062707, -0.09576505249939338, 0.09398466892289159, -0.07568990266231657, 0.6241658948317721, 0.5957891170642752, 0.42480642860861617, 0.33576424793062065, 0.4688851610957976, 0.1106591611625527, 0.16595818340433988, 0.08475474145415318, -0.08036622599917442, -0.10242655001183465, 0.015346577841469311, -0.08986643440449216, 0.4676491674101413, 0.5533887087093021, 0.39604265454010346, 0.3382636074406916, 0.3373000820016203, 0.1604547175274592, 0.23424948966174652, 0.10957410523267375, -0.08864365583016598, -0.10694183020284753, 0.05791696907216137, -0.07789018710410178, 0.7878850653694356, 0.6569013839811562, 0.49362486618636314, 0.3483599951268719, 0.37796044202514745, 0.2197753707572484, 0.27420164851031603, 0.15977915910427698, -0.04495927583544246, -0.05867384991408997, 0.0845477330821709, -0.05606550764734752, 0.5277997297221584, 0.4998311318425235, 0.4551842535189079, 0.24938721786477525, 0.406532089091019, 0.12327046189298363, 0.21136204720629015, 0.17242811198867503, -0.16081953223362144, -0.15767064821700716, 0.003551247964738047, -0.1300806946341002, 0.5917629867410505, 0.6592353303739533, 0.4917457880322079, 0.32308949275878396, 0.3355928572800042, 0.25154850377227034, 0.29561244410388854, 0.22050648996831357, -0.0801009751403492, -0.07803765641052807, 0.10926262921001861, -0.03931234702413544, 0.8409188550307612, 0.6237998901718669, 0.47992582399003825, 0.3043763363479779, 0.33254588118580775, 0.20303372101940909, 0.2719181814492172, 0.11803260568118967, -0.12824408492313388, -0.12096432815535452, 0.03943285934418117, -0.12613684995703967, 0.5850443068756318, 0.6003487487063237, 0.5693165423706954, 0.35669174683351135, 0.42631679154089064, 0.10478773360076976, 0.17873745621782433, 0.0548461431727566, -0.10302057665765219, -0.12154992716620017, 0.01184881705423757, -0.10555379380995733, 0.6462067524362994, 0.4788728477767712, 0.6183603706320757, 0.44383591008388923, 0.2566708516087355, 0.12953608313923692, 0.18077607913830884, 0.11907066990266912, -0.21055878476761158, -0.23827980058971066, -0.03170666968383973, -0.20996615871976054, 0.53068034838533, 0.44654899187395036, 0.48630712237895546, 0.4309971778399956, 0.5315978231343697, 0.08052162220152981, 0.03229736833668739, 0.14191958406315086, -0.12237856609737374, -0.18927152701963612, -0.0668767614491168, -0.17168031602666156, 0.6116541552914511, 0.5990487312687873, 0.42851898901099195, 0.3836260160185052, 0.5044491941530481, 0.12052373977594888, 0.10377694906846202, 0.10611031337015142, -0.07768970489193538, -0.12638332268745955, -0.01890119564231285, -0.12194634329602194, 0.5974090658141079, 0.6069318981682197, 0.42332163166239023, 0.3792428187642618, 0.4418569558412805, 0.21024227642461113, 0.27223384605616907, 0.16923748189242005, -0.06841134092031353, -0.07490802287501941, 0.10237705225851634, -0.051268383035946385, 0.5813206205278688, 0.7163273767042939, 0.37912393514775555, 0.3125859845333504, 0.3259440027765229, 0.24384199736623213, 0.32865609479250635, 0.1641684620410967, -0.0003785159386222592, -0.014970746662549494, 0.12127684083212542, 0.008849513211168003, 0.552449770554113, 0.6513807104720551, 0.495200165960309, 0.3110199102115354, 0.23314609212628867, 0.24140142048980096, 0.3430546811208419, 0.15512247966636572, -0.08056550603290535, -0.0646794905694612, 0.11893898495154298, -0.02423584764636244, 0.5395220837178293, 0.6019478514734219, 0.40178076714311106, 0.36670289420055713, 0.462834811869257, 0.17586239351164223, 0.23596181989110443, 0.1333725920634381, -0.02912189168535151, -0.03678405291362674, 0.10072679294079612, -0.012727550510413632, 0.4520653433063203, 0.6230933260819947, 0.3818890713360559, 0.4104590570202966, 0.44495668261243604, 0.15451843092218898, 0.13434830919406515, 0.17415661765636714, 0.0033489352991904475, -0.05901744138432474, 0.0518259828486064, -0.028539369895664857, 0.5667786545962631, 0.6730447420099869, 0.5492293179022261, 0.37515710592274387, 0.3454989210110835, 0.17281235231065284, 0.2580271535304838, 0.11253691404579458, -0.07573730768372555, -0.08756359530079916, 0.06677614371404905, -0.05111232419264966, 0.6529818208751469, 0.6494411615540598, 0.3849629552934427, 0.39621479465565435, 0.6046862290802968, 0.10451023947025417, 0.10413609215198127, 0.11272505235993957, -0.03204038077314353, -0.0852468347149693, 0.012295813836506575, -0.08637048877037201, 0.6038745988567553, 0.46834787454117777, 0.5307461073457296, 0.4294847979133777, 0.3563700629458171, 0.16518132803593621, 0.0777962347568808, 0.1829752983251678, -0.06569359335202685, -0.11470567071856386, 0.03969913888995902, -0.10257147987516313, 0.636997607922758, 0.5638645139167505, 0.573848201657186, 0.4877022118634593, 0.4773482083843854, 0.13466067231905032, 0.12692259692258534, 0.15894938009318027, -0.10427096166622696, -0.16057046633469874, -0.01081146543422662, -0.1359421640651326, 0.7082406894715966, 0.7392770837398001, 0.6287009626426387, 0.37690941769192277, 0.3565109498948793, 0.21781438517592533, 0.2987610191354737, 0.1226297130556172, -0.1192264578784259, -0.10984818986066602, 0.09384058194869849, -0.08600921621000901, 0.7493182979297457, 0.53537055947784, 0.5061188716108868, 0.43674170355605546, 0.44396447077770207, 0.11493161987596012, 0.08599110210511007, 0.13659710198325337, -0.136761117900146, -0.18290607344051102, -0.05370389148616894, -0.18739392088134843, 0.6892437748456229, 0.5411979574093574, 0.6255008864193382, 0.4369019444591221, 0.4223548041700499, 0.11984966765268656, 0.10933198720214576, 0.09868686270861071, -0.1495872460090204, -0.19392540233658484, -0.04560397779248082, -0.17479283181532357, 0.6907319054339831, 0.5464629910902148, 0.4920793361011657, 0.3228925553853639, 0.37189372843203894, 0.17989358761447405, 0.1400223657401869, 0.17115510830391023, -0.008341288095836896, -0.04802015718760866, 0.05309969447885088, -0.060623497591983044, 0.5317077249502351, 0.41963825001554966, 0.5118844477731742, 0.4373711788554129, 0.3456067887258931, 0.15274396180200778, 0.046865557097324984, 0.20063783210190744, -0.023041087947435424, -0.08247084994626808, 0.04643444556246901, -0.06645324720530321, 0.709949160316281, 0.5000486577624802, 0.5899354551516596, 0.47199459364518714, 0.46116319784511217, 0.1415341792006961, 0.10177941781712008, 0.18737722592526174, -0.16562852164967445, -0.21139876654612633, -0.03428528032785527, -0.1917703446441521, 0.551455205560701, 0.3537433803703175, 0.41280150976436836, 0.32047316101358303, 0.31077176344440427, 0.11007141765254169, 0.091351705844673, 0.11320762136222862, -0.14534461743903027, -0.19140808641140672, -0.07875363651632528, -0.17163995964501133, 0.6601115136522929, 0.6304949108161139, 0.4917702821046499, 0.39726185143143655, 0.44625967505004605, 0.18753062110988017, 0.16412537632863544, 0.14536869056963564, -0.058326059181765144, -0.09341761124281156, 0.03665608581862645, -0.0784040062280662, 0.5119579824152468, 0.7096749247680565, 0.43332798725118393, 0.3631893285294223, 0.3705642712209065, 0.2288430460116937, 0.279586636897865, 0.16381957004977699, -0.03377745154245737, -0.05608497679467117, 0.1055977945095693, -0.009357169201932969, 0.5427400577282041, 0.5208691367091423, 0.5726557930016959, 0.48863976551924115, 0.5044511927829135, 0.1324213023371612, 0.11641430553794063, 0.15952288400462344, -0.12122666108489866, -0.17380099220209244, -0.011694941242114565, -0.13163072214846472, 0.5967413668317436, 0.6482627116802329, 0.45264666720410496, 0.39056767256397373, 0.4740000396127366, 0.21866317327416085, 0.244994085870879, 0.19805674159077846, -0.025341818978054764, -0.04474831685460501, 0.10816870219102848, -0.027987822078708202, 0.6661200203510481, 0.6628203092740722, 0.5862033444866139, 0.3960740462088619, 0.3532036648669048, 0.19560426328229508, 0.19412632408047092, 0.13499929560757196, -0.04585107875777683, -0.06784860103759072, 0.08990016423212599, -0.05410432417097155, 0.6162965694097404, 0.7113523687678204, 0.5808487711612229, 0.4031330291467189, 0.375786185089512, 0.19855783630272872, 0.22883179071603021, 0.13734627496247553, -0.11595025536326475, -0.1396351932134796, 0.03461756251559833, -0.10685776293080185, 0.5298325722024052, 0.4317030513899621, 0.5140099098352695, 0.4673708300354331, 0.3839269426420653, 0.14783096495254888, 0.03987213654641453, 0.21820915708072497, -0.06779705151790116, -0.14142223897306994, -0.013665060461778067, -0.12109308493941251, 0.7157366399708446, 0.6400120155779827, 0.5549066878659821, 0.43143409691576484, 0.47800310373897315, 0.1970377085079209, 0.18272410681452633, 0.17322408784182208, -0.07253409647024878, -0.10037383029480829, 0.04452237561824102, -0.09526239549913074, 0.6664320373084005, 0.6020886332033044, 0.5809310141242459, 0.434307658603276, 0.3822188145955764, 0.22154912119849124, 0.17782178561577866, 0.17299109016625458, -0.06099400108374309, -0.07702511336463158, 0.08405285486657399, -0.06216472108722826, 0.6105952807716801, 0.6427343946966242, 0.38199622446605097, 0.322203149032383, 0.5256659056199829, 0.12027855581993663, 0.1423770050056199, 0.07143536660662764, -0.02320871167476124, -0.07048445069906806, 0.020249720107114566, -0.06224706313055717, 0.5728685769816095, 0.5089677742654198, 0.4679522832395797, 0.33532698075758227, 0.45518539076287223, 0.1383312356982087, 0.15134870114781906, 0.11366179334682047, -0.05822985481844922, -0.09250752254159544, 0.0339050424847579, -0.062175052798669306, 0.48007611782526416, 0.559302657390355, 0.5492619398723384, 0.33851694062873183, 0.20534802075818215, 0.24870890784347854, 0.28791905903398984, 0.16450159801480613, -0.07025004419911607, -0.058141261305783454, 0.14624960262299502, -0.0051842229691647645, 0.6706827492599493, 0.500124964976083, 0.5657843969371017, 0.39711418982911284, 0.44183030402406, 0.09856259023905967, 0.06095497575238695, 0.11859944416314938, -0.12593920475644937, -0.16294883119880366, -0.02407199278037231, -0.154732544717878, 0.629856858910861, 0.6256548762678905, 0.41465385818258915, 0.31270576288525453, 0.3773343959133466, 0.21297087893707067, 0.3304246692519164, 0.16619600473628282, -0.11598195626753482, -0.09824337337052169, 0.08139915185473845, -0.07192249698737818, 0.5056499689239433, 0.46199640451873936, 0.3874089709781665, 0.3377336265441513, 0.32676032117418774, 0.13260749133232808, 0.15504444907010995, 0.09673786205220658, -0.050748755991209205, -0.08737195789557739, 0.03372291596084798, -0.05942694495631229, 0.6392953824578108, 0.6109517109174171, 0.5025780791440498, 0.3699523628477863, 0.30646635497777885, 0.24153016407085504, 0.24495348809723494, 0.214317304292317, -0.03769915434287108, -0.05624565747733157, 0.11182470168095837, -0.04349887922778972, 0.6321413935126939, 0.7328331724787965, 0.5048112962080036, 0.33377867416646634, 0.3748922900632874, 0.1838734700339444, 0.2531296340989193, 0.1390809552680542, -0.14437182828571804, -0.15019066799441538, 0.03411281964679125, -0.12074743718558989]\n",
            "Houston\n",
            "##################################################\n",
            "index 11\n",
            "##################################################\n",
            "Article no  12  :  Buddhism\n",
            "Arabic page exits !\n",
            "big article sim\n",
            "##################################################\n",
            "index 96\n",
            "##################################################\n",
            "Article no  13  :  New_Delhi\n",
            "Arabic page exits !\n",
            "9\n",
            "364\n",
            "[0.663429595561057, 0.42878202263237, 0.3538682112585715, 0.25428910400123217, 0.4814116803208941, 0.3867177262991399, 0.45576914984200434, 0.6592973990040266, 0.1933593542499461, 0.29647085871050827, 0.09630446284946048, 0.35695042655797726, 0.36188403697784133, 0.35697084468023565, 0.4446234113021189, 0.3016597698029285, 0.23844018673890865, 0.11544261127079958, 0.2540283504004639, 0.325939905560094, 0.19914807822001768, 0.4994704935583836, 0.46109960981100584, 0.26863595728080436, 0.08270889029117867, 0.23612727122144794, 0.30157758715976324, 0.20154758890151725, 0.7212327865632867, 0.43510846169304984, 0.4329280631465837, 0.16218144157955416, 0.4607426214549739, 0.4876386117629288, 0.39474026960622743, 0.7078516066524725, 0.27836886268165273, 0.4197194301642164, 0.09603427419358157, 0.30645329337010685, 0.37825173608476625, 0.2904107125062305, 0.6476632823299504, 0.4054812543809565, 0.43267700356003136, 0.10415268364772501, 0.2741167687152901, 0.3419555900645139, 0.21628700646466914, 0.7174197826364546, 0.3348151031394533, 0.4094565929929871, 0.12454510632843097, 0.3059680766682551, 0.3980486122512624, 0.2954476906606114, 0.7234562743741701, 0.4316412151457433, 0.4205999041535625, 0.0933188840287178, 0.32408991388887953, 0.38179691916752445, 0.3516125808642856, 0.638526219214526, 0.2986383402465047, 0.4051677797176415, 0.15573565483987173, 0.3810297891116887, 0.37695995918571157, 0.36326352737988765, 0.5987500385730241, 0.412935750595117, 0.3879864176796042, 0.1421652833609155, 0.2948321507998719, 0.4000030012438456, 0.3006902867045753, 0.629747305191121, 0.32287245766768846, 0.3265504322854579, 0.22499482340340948, 0.3683027406649716, 0.40524536839981784, 0.33662551068455193, 0.4883850180913276, 0.292848481865966, 0.2768224988564678, 0.08210641061787771, 0.19500759615747298, 0.2872403178599334, 0.11007429633186461, 0.3593386142832271, 0.21861544929342602, 0.17333719057813401, 0.15398192209542638, 0.17979297806962957, 0.2597881034178072, 0.07687049485593189, 0.583223267818905, 0.46218805294548293, 0.28080443459605775, 0.12698664981020935, 0.25511610360272485, 0.33659273883585783, 0.22576321925801834, 0.46918541619681275, 0.3612202174034649, 0.3239604017664388, 0.04867535981290094, 0.20568354952589707, 0.3160597059836515, 0.16542061069615377, 0.5360561612049906, 0.42464908367597953, 0.3590629338339858, 0.07336110041058319, 0.2716912720968828, 0.32728917791474355, 0.21171222347974594, 0.6902029498277578, 0.4651056322160747, 0.42885365112493723, 0.21627275031900084, 0.4840779186405444, 0.4954359968782094, 0.5185907220857244, 0.4913278762149762, 0.3978079124245306, 0.3696888188286078, 0.1239554031421718, 0.2745368818122387, 0.24165377156699497, 0.2705300197003937, 0.4997223149442609, 0.37667100628682837, 0.3791040106246598, 0.12920472077488376, 0.33342844136736494, 0.27465172357296397, 0.24578469464614638, 0.7003876638057184, 0.3994582951457155, 0.3502542475266158, 0.21463854606296717, 0.38789642051399675, 0.41504695399112035, 0.41191688605393617, 0.7243976492047773, 0.4614492408224973, 0.4202526673349407, 0.15673387728138943, 0.37360353119469947, 0.43384938174092436, 0.30224446494421997, 0.6698930218663184, 0.37984767981890366, 0.3796830644221181, 0.16046497628357603, 0.3205044751373225, 0.3662020419222807, 0.29183928654860525, 0.5977018586216942, 0.3736464405012321, 0.34169188555792074, 0.21516419427286382, 0.393756064769038, 0.44796470326139515, 0.4045177780349636, 0.5767100801866588, 0.29562591553072837, 0.4319712901066569, 0.1173286154861628, 0.3165220168140972, 0.36196511239891804, 0.3690582971582639, 0.6691549581667899, 0.39212681788027703, 0.3931627884587273, 0.22423277251621643, 0.4645094584692562, 0.45353041122953885, 0.4786312106132289, 0.566889235881491, 0.513447171339494, 0.28602461264585866, 0.12146323238635659, 0.32698927328131777, 0.373647001155359, 0.24587509204011992, 0.5809134019730171, 0.34878024932151974, 0.30326307373606987, 0.21651818952715252, 0.3801864333842473, 0.3963720525230947, 0.4227352203773095, 0.5946942660445725, 0.44121077148486487, 0.3260263397386538, 0.1325826941200594, 0.31503739735157543, 0.3696166819392719, 0.25340215696436463, 0.6490175784506835, 0.602734638156881, 0.41864070026807876, 0.17422137833357842, 0.4271908315563673, 0.4246108052147648, 0.41064362907001406, 0.6154202392234596, 0.4406014641850784, 0.2839827246934741, 0.18806406109755092, 0.32099782259262777, 0.376634878588023, 0.3035888884547333, 0.5498442653116341, 0.4236145202769126, 0.278074020524109, 0.2329744179742368, 0.36007521323850933, 0.36124962047671827, 0.27527252419731973, 0.6439394656993759, 0.47961640448179677, 0.45495417091028223, 0.21209655408085382, 0.42891739292386455, 0.43081414776309845, 0.409610970581048, 0.4504637101302126, 0.34304801097935267, 0.3001156936949987, 0.16142263518251654, 0.24821660526462608, 0.30202104189195333, 0.21706722890766805, 0.6338196745538099, 0.3097453225148892, 0.32431286566555995, 0.09132417564488604, 0.25184756795560825, 0.43362152400748677, 0.2947123006641488, 0.38089026238337786, 0.502557926457484, 0.25282829757156144, 0.051817442453707896, 0.10546901189406566, 0.21151086695992938, 0.005289725998205763, 0.5180022783772296, 0.45039582382504495, 0.32577169442414844, 0.02498065766950197, 0.15732289039602132, 0.3114219525665568, 0.10939149719605423, 0.6064032452603436, 0.34043598968394895, 0.3511469583580169, 0.120787503881847, 0.261972108804008, 0.34261845433932603, 0.2654447315135139, 0.5896960291072857, 0.3111706367612075, 0.3837761270756552, 0.10028752488207882, 0.2984365062457811, 0.3562711687357347, 0.2520020604170299, 0.6027223634160481, 0.17909667907271076, 0.34030572901025935, 0.15765252685279618, 0.31705375656815815, 0.31069362017380664, 0.3726882930479063, 0.5180329128547335, 0.16644194635838205, 0.27789659925337906, 0.015511645906181482, 0.1672197337688731, 0.17856697782045505, 0.10776993089725972, 0.36346225637110374, 0.2621396662190506, 0.08260145152796805, 0.052604088295081786, 0.08686211308186209, 0.20378279974288294, 0.003256214958457071, 0.3208887149211864, 0.2776676872037085, 0.192619379787363, 0.14079423730160556, 0.24665660923156207, 0.24324917019029746, 0.29999471855425985, 0.41879738117637255, 0.4068113052962248, 0.21152548903239943, 0.019340650184807018, 0.12523932502773638, 0.25252693508583457, 0.10910173551953128, 0.4842288029220956, 0.2840018086870275, 0.30433118400747805, 0.2211590700467737, 0.3568896743882821, 0.463978135570301, 0.46661737708858864, 0.41121167900530997, 0.2296733226719314, 0.23518724578963557, 0.2895894205621945, 0.35400245491405413, 0.2734704143418796, 0.45460941385432974, 0.6541189586562329, 0.35390960363058555, 0.345492978686318, 0.2501532389511949, 0.41908314049005346, 0.4191226712374124, 0.2843983111318008, 0.48030416859504954, 0.6466861129977293, 0.30549011925451897, 0.13374020436989076, 0.2910968361842159, 0.33688782795717764, 0.2857628270557564, 0.5498955362078064, 0.49740177442240185, 0.3000337121871005, 0.19451093238022854, 0.35171880766962993, 0.42400594049437623, 0.3158010268589527, 0.6139899144936014, 0.4761274912324752, 0.3520255457456376, 0.2105409228529922, 0.35379948852228815, 0.3910466967112842, 0.2532205605989415, 0.4867822077220948, 0.3930343829237617, 0.2997577128112243, 0.16799468756590163, 0.29145649566337517, 0.2790710155738658, 0.1659914793253543, 0.40492079480696397, 0.5723346664220794, 0.390853506310505, 0.24315246169065174, 0.42884142490879673, 0.42563029854679246, 0.4611308689418089]\n",
            "New_Delhi\n",
            "##################################################\n",
            "index 121\n",
            "##################################################\n",
            "Article no  14  :  Emotion\n",
            "Arabic page exits !\n",
            "big article sim\n",
            "##################################################\n",
            "index 219\n",
            "##################################################\n",
            "Article no  15  :  Ann_Arbor,_Michigan\n",
            "Arabic page do not exist\n",
            "##################################################\n",
            "index 167\n",
            "##################################################\n",
            "Article no  16  :  Ashkenazi_Jews\n",
            "Arabic page do not exist\n",
            "##################################################\n",
            "index 366\n",
            "##################################################\n",
            "Article no  17  :  51st_state\n",
            "Arabic page do not exist\n",
            "##################################################\n",
            "index 404\n",
            "##################################################\n",
            "Article no  18  :  Light-emitting_diode\n",
            "Arabic page exits !\n",
            "big article sim\n",
            "##################################################\n",
            "index 335\n",
            "##################################################\n",
            "Article no  19  :  Miami\n",
            "Arabic page do not exist\n",
            "##################################################\n"
          ],
          "name": "stdout"
        },
        {
          "output_type": "stream",
          "text": [
            "/usr/local/lib/python3.6/dist-packages/numpy/lib/histograms.py:824: RuntimeWarning: invalid value encountered in greater_equal\n",
            "  keep = (tmp_a >= first_edge)\n",
            "/usr/local/lib/python3.6/dist-packages/numpy/lib/histograms.py:825: RuntimeWarning: invalid value encountered in less_equal\n",
            "  keep &= (tmp_a <= last_edge)\n"
          ],
          "name": "stderr"
        },
        {
          "output_type": "display_data",
          "data": {
            "image/png": "[encoded data removed]",
            "text/plain": [
              "<Figure size 720x720 with 10 Axes>"
            ]
          },
          "metadata": {
            "tags": []
          }
        }
      ]
    },
    {
      "cell_type": "code",
      "metadata": {
        "id": "AwlHiDVczM9X",
        "colab_type": "code",
        "outputId": "eaa28029-c678-45fe-8dc1-4c300799ffe4",
        "colab": {
          "base_uri": "https://localhost:8080/",
          "height": 1000
        }
      },
      "source": [
        "#testing \n",
        "\n",
        "AQQAD_generators()"
      ],
      "execution_count": 0,
      "outputs": [
        {
          "output_type": "stream",
          "text": [
            "index 230\n",
            "##################################################\n",
            "Article no  0  :  Mali\n",
            "Arabic page exits !\n",
            "big article sim\n",
            "##################################################\n",
            "index 433\n",
            "##################################################\n",
            "Article no  1  :  Anthropology\n",
            "Arabic page exits !\n",
            "big article sim\n",
            "##################################################\n",
            "index 240\n",
            "##################################################\n",
            "Article no  2  :  Utrecht\n",
            "Arabic page do not exist\n",
            "##################################################\n",
            "index 164\n",
            "##################################################\n",
            "Article no  3  :  Seattle\n",
            "Arabic page exits !\n",
            "1\n",
            "364\n",
            "[0.6155960065713825, 0.39404901233833356, 0.44002020286616184, 0.7517487965617313, 0.6458301027645277, 0.4030276430207924, 0.6152718064174503, 0.7954371664091049, 0.4201790766347908, 0.5044347061382284, 0.6335600844647784, 0.6931274059559484, 0.42207270357028726, 0.6400392148199475, 0.6194286972756841, 0.4616962466304766, 0.3938256500299673, 0.5648108581262947, 0.6028378204346349, 0.45057845516766815, 0.5586811760095999, 0.6246279177741206, 0.27437843090285663, 0.47839177471475236, 0.5338284878676834, 0.5742282180066595, 0.38154556480409574, 0.4374968046616379, 0.614655332810076, 0.4663218988339821, 0.3969112375511933, 0.6339888721441186, 0.6375921708632447, 0.4295193683301878, 0.6147342736647818, 0.5904729449904179, 0.4176758742178375, 0.4556086083100198, 0.7621905262810077, 0.6934246291481921, 0.5044556241848686, 0.6315488204237415, 0.5657119787196662, 0.43143261659504806, 0.38366622833892505, 0.6856217199891038, 0.6562120073890582, 0.40941828415030446, 0.6388175779759971, 0.6364063646018764, 0.47669655150256274, 0.48783364205890756, 0.6673450167231257, 0.6639013429111658, 0.4802765538879754, 0.6111489937462411, 0.586862343094163, 0.3777326255312121, 0.4724473517655864, 0.7206964256294666, 0.6198154435609485, 0.5510705302777271, 0.5323307981099409, 0.5808102968201808, 0.4177898861740905, 0.4054900922814948, 0.6586202368869989, 0.6514135489346813, 0.39605387682629545, 0.6352350942638302, 0.648165496689178, 0.4522882911675963, 0.46681229255569723, 0.7006260271919416, 0.7087504406370425, 0.46961956174336517, 0.6410649576832316, 0.5362648114230968, 0.4174663153334739, 0.3924026348712971, 0.6057105730926907, 0.6194500488884597, 0.3957642715052092, 0.6275293595348337, 0.6706608585825126, 0.43091636229866115, 0.45421107186207754, 0.5341761416224123, 0.5033532078892149, 0.47954485644071376, 0.5917922142668244, 0.5740713094466697, 0.5273951964580812, 0.3667304321277789, 0.5602093437272453, 0.6464854634895658, 0.41593591590140044, 0.6687408314966538, 0.6513068823569543, 0.5458209034235105, 0.42927983124956537, 0.5866688736190114, 0.5936894237405317, 0.5299645068999543, 0.6375242814403167, 0.6597955313923283, 0.5245259017893494, 0.4496624831155639, 0.6116833391025647, 0.5964282026161216, 0.5601415164207489, 0.6503886780251941, 0.6602346593771302, 0.44728227762148853, 0.4401876164770169, 0.5682436677758275, 0.6095239391714307, 0.5225909406434515, 0.5965104142217832, 0.7033652833019968, 0.5714471816803389, 0.45421903602165126, 0.5814611165899268, 0.7268115322686951, 0.44596775900966723, 0.717666431082238, 0.6393194345620064, 0.5941830438759247, 0.40460007251892915, 0.609046740897796, 0.6439803282211886, 0.5540406516224944, 0.7182535102156816, 0.552285275471595, 0.5220671435092271, 0.3374601074741981, 0.5400875001150162, 0.5411105304189102, 0.49159931764388687, 0.6274677597554005, 0.5954253928125557, 0.46997920553367667, 0.3739904218958552, 0.5616358141052314, 0.634205491535959, 0.5540918192149726, 0.5907188605995838, 0.4483978374824613, 0.4049754683716431, 0.2976533726605296, 0.421653104342671, 0.49603994858101685, 0.4774255613837747, 0.5119258108103715, 0.606431172456608, 0.5132700169119487, 0.3644125780519307, 0.5994482217810659, 0.6144640156753789, 0.5259407788079989, 0.6653911702433178, 0.6214854773604607, 0.4520225695043749, 0.3845674740616819, 0.6147800620756748, 0.6550964812607201, 0.40587546343660597, 0.6416583440131144, 0.6984034009958884, 0.4015512265625911, 0.4662786681517299, 0.6039067236545419, 0.7101675108037273, 0.38913941360680404, 0.6213138073249246, 0.5486806100664641, 0.37579353339855226, 0.33505534164619344, 0.508213232980478, 0.6294538253935631, 0.26953581438474905, 0.5410396052654294, 0.6504990113240721, 0.43021705248557907, 0.5150805906919054, 0.7716168544089111, 0.7210710963464935, 0.5117407934140576, 0.6036937006992179, 0.6328046759623447, 0.42028845949888016, 0.5319776017954341, 0.8008953401892495, 0.7078874257107955, 0.4651795911028431, 0.6231718745672444, 0.703729254181184, 0.4587255471223607, 0.46097797245011574, 0.7854020283490375, 0.7442809299221619, 0.4508464203481588, 0.6880976649806888, 0.6426155738723944, 0.4209639142831496, 0.4700235098728458, 0.6176900284033475, 0.7431424780509814, 0.36862701143786236, 0.6335195319235214, 0.5946128622550851, 0.4799001344974976, 0.5344196835122917, 0.7310537990745132, 0.6880102396721922, 0.5290357586353209, 0.6673687685504758, 0.6295541618519676, 0.3811770971524888, 0.5875991607085772, 0.6580040300185931, 0.6707144334660994, 0.4598136287658072, 0.6308340597847908, 0.7202543931732942, 0.5068119958245357, 0.5299567211308264, 0.6486997992437156, 0.7009415566402888, 0.48695985626632543, 0.6960556502989911, 0.49261136523371274, 0.3100275628549205, 0.4065968489700382, 0.5460595741491404, 0.5673997901644784, 0.4219840942912967, 0.5389019029847908, 0.3933170990206305, 0.25299201459109977, 0.32252469756483537, 0.37206515410005003, 0.42370913568334834, 0.36891021375349276, 0.4757958180703129, 0.35663920826203555, 0.22144219394098508, 0.3361244855857408, 0.4636762946009474, 0.444175856251124, 0.2976415700538827, 0.4034652373220613, 0.5183086450020881, 0.220151490196127, 0.4835247462658929, 0.577469228944252, 0.44438040502045006, 0.43648686488969446, 0.4453426561830316, 0.41082697527838286, 0.21544389210360992, 0.3817660977773294, 0.4482092084492033, 0.4089126338155773, 0.3620610497118535, 0.3843455081347351, 0.5173258204475727, 0.14918261614924044, 0.4155355025817651, 0.5062874350723223, 0.48350639245977645, 0.3208084873584036, 0.3944899238294153, 0.5788907669964104, 0.22511984747089098, 0.39684512298198293, 0.4664064026178566, 0.5266946245511444, 0.3402100462059541, 0.44697163974045906, 0.6768535653298313, 0.5061391471982617, 0.44762272959000327, 0.6161569235228139, 0.7131275592061983, 0.34903641670207364, 0.6408618065286654, 0.6004166544428587, 0.25544557665685286, 0.4231915979313833, 0.47100485477231735, 0.593830770910094, 0.22839214800142527, 0.4373263107871719, 0.5609665966306541, 0.32460322991267243, 0.40425767457454187, 0.6099073147095003, 0.6131834534064966, 0.32353498281924664, 0.47202101599849877, 0.6169397403704268, 0.43408860320681253, 0.5345762641288172, 0.604033498555355, 0.6804593473848709, 0.376834411416167, 0.6262170827013136, 0.5078093773681778, 0.36928109445097834, 0.46999835328061457, 0.6974176298170595, 0.588502197777667, 0.4883344884961137, 0.551469810349793, 0.4454180759972992, 0.32054313979491056, 0.465614246031239, 0.5487710543840614, 0.6003310566907972, 0.3273429324938856, 0.46567695884111093, 0.6855509455303644, 0.4515720036651736, 0.4935423107379723, 0.6529676631435759, 0.6132573675946641, 0.48798849113284737, 0.6234884590422192, 0.4954802715612113, 0.1726831457386132, 0.5978711825322385, 0.5031187921251108, 0.4579589992214279, 0.3729912809698315, 0.4057813571446669, 0.5980674876938227, 0.41791510118792097, 0.46441601028004575, 0.6612161292588515, 0.6214449093212985, 0.4956872027294511, 0.589217687858385, 0.657512347297249, 0.5048338461448267, 0.42711094366107494, 0.6592447036387302, 0.6396160655632793, 0.5792193836554852, 0.6153966879121503, 0.5484470125885, 0.2863402265281776, 0.6939614523906763, 0.5976021290440057, 0.5783734013860373, 0.28485073692505125, 0.5273184211794124, 0.6266107160176079, 0.39692587380249655, 0.4397213436770111, 0.6752385223686622, 0.6471164455306553, 0.4795815857603597, 0.5935514779755728]\n",
            "Seattle\n",
            "##################################################\n",
            "index 143\n",
            "##################################################\n",
            "Article no  4  :  John,_King_of_England\n",
            "Arabic page exits !\n",
            "2\n",
            "228\n",
            "[0.5485484123449886, 0.7161636718445643, 0.7701400697305755, 0.5466405590635938, 0.7179067918614788, 0.7599368665902515, 0.6238548826611308, 0.7305883456308377, 0.7439373447718073, 0.5805217087290796, 0.7647117103189627, 0.8048900038080933, 0.4809455923958528, 0.675554390029347, 0.7754236240599561, 0.3579708149963361, 0.6097020103369084, 0.7419450412911358, 0.6527973930883556, 0.7183019104754316, 0.7246013004011019, 0.46094317228761594, 0.6425661009253848, 0.6829129729829745, 0.5235761410103027, 0.7176615472202716, 0.7979826710170727, 0.4710299130880674, 0.5971382096388473, 0.663698514419524, 0.6036702361314593, 0.7306439559214964, 0.7657193821446535, 0.468825913572811, 0.6213534434530618, 0.6424201365178527, 0.49489313373316757, 0.7065670997328497, 0.7876052646515936, 0.5496853746432809, 0.7279472352440308, 0.8070772676778954, 0.6483953884340266, 0.6920252270509588, 0.7283056336529063, 0.49372622251009923, 0.7372409068350306, 0.8317505215852751, 0.5588601144102031, 0.7456870196068279, 0.801102313469005, 0.5417225451264673, 0.7138047902877368, 0.7968954050629378, 0.4849443871465161, 0.6872471665800153, 0.8018518246737447, 0.5162809620279061, 0.7427134434969003, 0.7959479108438541, 0.5311813957361714, 0.7477205489429546, 0.8251548070886382, 0.5788204884706237, 0.6980803820281919, 0.7549760049917614, 0.5043747262587851, 0.7119759728763037, 0.7865724365090181, 0.4919425248301169, 0.7210984794718435, 0.7946953281577018, 0.5187779751389134, 0.6345898235752907, 0.6841201761265273, 0.41104983304046816, 0.6407874035124064, 0.758776007265345, 0.39338563718705866, 0.6509859717902126, 0.7586655047543406, 0.4355155734410805, 0.6352406617503875, 0.7048522073451274, 0.5383784458838685, 0.7290858479833321, 0.7844451295073336, 0.5209012113144292, 0.7126431981385168, 0.8172599394776081, 0.506578126222007, 0.7000200312603565, 0.7641445557803997, 0.3985972961049924, 0.6505952989853314, 0.7369123440452858, 0.5032230082688615, 0.6995292669906886, 0.7990112736631306, 0.59069118136724, 0.733329910512727, 0.8086363437623805, 0.49107569497311887, 0.7436575617226667, 0.8619114625536219, 0.4458570914958282, 0.6919864750771958, 0.7953360246401933, 0.5740642418914864, 0.7133809859810752, 0.757089900258879, 0.5358018086475987, 0.6966779624029233, 0.746551754772646, 0.45233877638309594, 0.6616642207980516, 0.7795760638769496, 0.4393673316683726, 0.6409239693079587, 0.7745680174399008, 0.45198499204418296, 0.6583544020242501, 0.7608058692233286, 0.4797933583903662, 0.6404068870250323, 0.7035237106398093, 0.5763448804980167, 0.6286231597824116, 0.6678892305389962, 0.49327028825156016, 0.6478941787881287, 0.6337359187005708, 0.5714966034579598, 0.7431536446135272, 0.7927501151196245, 0.5262552339436103, 0.6859234808674507, 0.7431523508727782, 0.44585953718229465, 0.6095189871748127, 0.6610026473348549, 0.5902736708500704, 0.7462964467565355, 0.8098611755841253, 0.5679484632584663, 0.737456668905557, 0.7680552453153334, 0.4713551905039747, 0.7145881161791688, 0.7741232132426575, 0.4841477133769021, 0.7019145541536571, 0.7715605673134355, 0.40101424582369516, 0.6554324454875419, 0.7617369450792603, 0.4918312906848331, 0.7129660921604938, 0.7815452729139977, 0.42620899339733476, 0.5840799743993287, 0.643281845744852, 0.5321897093460667, 0.7004879983761044, 0.8134379423330443, 0.4620264202686326, 0.7057730826126378, 0.8002312175691725, 0.4855403141503324, 0.7031286469417133, 0.7959143178984694, 0.5106739079360811, 0.6528788222113009, 0.7144351688360406, 0.49394293145066737, 0.6604975323012297, 0.685484507064747, 0.4574799364916029, 0.6642586142314275, 0.7699131742221652, 0.6234034160046098, 0.6990910580500644, 0.7072308296652644, 0.5309528556005118, 0.6768873067416118, 0.6861930513046738, 0.5664708935613614, 0.7101929141685288, 0.7006401312968847, 0.5683257846133661, 0.7303129710919338, 0.8013293377328485, 0.31981332049438915, 0.5884263194783379, 0.7290111505162618, 0.4853944007025307, 0.6372831677685219, 0.7092240447096098, 0.5055342277533955, 0.6913009151305758, 0.7736009877926271, 0.47352278005063086, 0.7076344745874515, 0.8216056230232165, 0.44079535643173484, 0.6780034481598541, 0.7566519429657725, 0.49902289863561844, 0.6878846652278602, 0.7751058845120754, 0.5492424746676761, 0.6924838593264737, 0.6928254629776868, 0.507693405866322, 0.7061784168860414, 0.8173187232481443, 0.4217614185426338, 0.6366092644260917, 0.7696470243773403, 0.4675890225690802, 0.6452236886726498, 0.7258256298155944, 0.6309285525571572, 0.7038905171012162, 0.6598940078177377, 0.5365805521308762, 0.684327337706565, 0.728545462396181]\n",
            "John,_King_of_England\n",
            "##################################################\n",
            "index 323\n",
            "##################################################\n",
            "Article no  5  :  Serbo-Croatian\n"
          ],
          "name": "stdout"
        },
        {
          "output_type": "stream",
          "text": [
            "/usr/local/lib/python3.6/dist-packages/pandas/core/frame.py:6692: FutureWarning: Sorting because non-concatenation axis is not aligned. A future version\n",
            "of pandas will change to not sort by default.\n",
            "\n",
            "To accept the future behavior, pass 'sort=False'.\n",
            "\n",
            "To retain the current behavior and silence the warning, pass 'sort=True'.\n",
            "\n",
            "  sort=sort)\n"
          ],
          "name": "stderr"
        },
        {
          "output_type": "stream",
          "text": [
            "Arabic page exits !\n",
            "3\n",
            "44\n",
            "[-0.15532268783426972, 0.6055268683872805, -0.11619597679617977, 0.6549380252831511, -0.05729323944834386, 0.5190294545155006, -0.08348360215666295, 0.5916492326307955, -0.09442256597890109, 0.5793479339357924, -0.090353936202902, 0.6031930213973568, -0.018445459075986825, 0.4237986544146324, -0.10435370735966609, 0.5581326864375441, -0.10983531663031143, 0.5227114962536904, -0.11647042430388921, 0.5570436277090492, -0.1265393828553929, 0.5970421683549091, -0.09912598343979417, 0.5757504129636276, -0.06529045717708248, 0.5364011882067153, -0.14860093239703942, 0.6487410104315693, -0.15705664070875391, 0.4820539076862618, -0.05252569035542165, 0.5540500449775567, -0.07571136365085329, 0.470154455190683, -0.0522952038710236, 0.30473865863716265, -0.09909157456737105, 0.46119098683566584, -0.11199894779531094, 0.5383642554362776, -0.09706194725567574, 0.6180614832407694, -0.07375062137944943, 0.6279381490555133]\n",
            "Serbo-Croatian\n",
            "##################################################\n",
            "index 191\n",
            "##################################################\n",
            "Article no  6  :  Professional_wrestling\n",
            "Arabic page do not exist\n",
            "##################################################\n",
            "index 112\n",
            "##################################################\n",
            "Article no  7  :  Grape\n",
            "Arabic page exits !\n",
            "4\n",
            "540\n",
            "[0.23319887210077916, 0.703756950232947, 0.4574368539367587, 0.5791883106690835, 0.7600119370329, 0.6693540398162119, 0.5379108207267529, 0.6869934158611033, 0.6624808379047552, 0.6908578803835029, 0.4701965715928311, 0.45016260391152496, 0.6908808436425754, 0.5989637612058654, 0.6311732686447261, 0.6915101661566551, 0.658896224277943, 0.4939128231715513, 0.6106275101869889, 0.749912491633656, 0.6762924371908282, 0.6615017872308981, 0.5382850096547727, 0.4112485532752418, 0.5520811803982265, 0.7344377644577518, 0.6653842744245901, 0.6889869945009153, 0.6760374901107292, 0.5846537421812522, 0.6596612790601304, 0.6045752335943557, 0.5306137047384905, 0.5153616019247057, 0.5863651365644343, 0.7912901420086125, 0.7055564540593215, 0.6341291443821551, 0.7436834305698442, 0.6540237006456234, 0.5248249666809847, 0.7146157855261925, 0.678077486530743, 0.6929922317362208, 0.6552782302655876, 0.7061910009998625, 0.6768730745160237, 0.6724418192086611, 0.7437842125883443, 0.6287864849517071, 0.7470489011745082, 0.6989512059511666, 0.44792336017988954, 0.18243037375827598, 0.1759929953282655, 0.4767975915857521, 0.7206269746749779, 0.5522535649324309, 0.6071697544570313, 0.5841340216984297, 0.44284784669982535, 0.6479370426352633, 0.5348843597175689, 0.6106965241504143, 0.4722698583528695, 0.42493298857173045, 0.5417657504493738, 0.492846151345383, 0.6187690534256138, 0.516642346575491, 0.5361715178338011, 0.33777471333159204, 0.6044121670746759, 0.6189447974806949, 0.5701858005406272, 0.6609750293530575, 0.6091629776720219, 0.4976339403906036, 0.5227261543696732, 0.5398096600090505, 0.5075887543142434, 0.5664211809264821, 0.49387176824104917, 0.4516343683857432, 0.4848492302876517, 0.43926143478643564, 0.39944095684064473, 0.3308355603862523, 0.647924368268542, 0.6938550200159911, 0.48698755186877496, 0.4308797521705279, 0.5107563051761134, 0.41248627726573484, 0.44017295221467223, 0.5676842602973311, 0.5378541307637443, 0.5857320317803613, 0.43540834577432086, 0.5533214885253104, 0.519732621024313, 0.5528416131378759, 0.5719610147630712, 0.3982530412753851, 0.5114992672557788, 0.6196764579873292, 0.3770212791378674, 0.1527700657884059, 0.020052482591251142, 0.5327973478057053, 0.46825502910728867, 0.5716128503209345, 0.8084795582857943, 0.8189011107606378, 0.6819444541997566, 0.6711034963269741, 0.7208324702499471, 0.7620223721481902, 0.45991408621163554, 0.45631280448906786, 0.7190379028188333, 0.626479343942063, 0.6904538237470276, 0.7021737245478116, 0.7786300038003067, 0.27007627371257403, 0.7705803495560472, 0.7029667730537286, 0.6170076402467574, 0.6601893789390465, 0.5724663175192625, 0.39532976750612636, 0.410858972715344, 0.5800699660037604, 0.535817954921145, 0.7901336374857573, 0.6810501618171312, 0.7253776778366621, 0.7914220800131161, 0.7762877557849898, 0.7095421857235157, 0.5429797284254677, 0.41582375529942683, 0.7095710720675842, 0.7198084366090508, 0.7635727585822862, 0.7600605423847739, 0.7037074496926757, 0.6043099638457885, 0.8119178604004114, 0.6836750325876516, 0.6961704984471689, 0.6501257053224422, 0.750183765965647, 0.659357255956848, 0.6071995386281979, 0.6078365120586043, 0.5856923162973916, 0.6168356605283619, 0.6357768012999001, 0.42033350874079134, 0.23086082954951426, 0.2309917504387181, 0.6466507207169935, 0.4840109372246342, 0.6335067799554054, 0.7902167701027715, 0.6852396991624695, 0.5975774620083225, 0.7623755065278789, 0.7212503867471326, 0.6830949495232482, 0.4733232489673146, 0.441267612143446, 0.7186921235313876, 0.6213739050040008, 0.6484067692208476, 0.7251919508867742, 0.65525952359761, 0.5242666493862832, 0.673339747255022, 0.7603467096474166, 0.7229726535932364, 0.7080377791931524, 0.5509953484059265, 0.4004233855744791, 0.5653952484723425, 0.7066282989675484, 0.6687422548745076, 0.7544563827264211, 0.6932967312521542, 0.6313826755254336, 0.6179360842269417, 0.613412628850119, 0.5521848580987823, 0.48284469778963546, 0.6544941893178199, 0.8353741224730659, 0.6787176371927548, 0.6779721708514498, 0.7469074946792164, 0.6599565358979635, 0.55895963232701, 0.7341340219976527, 0.7305354648263531, 0.7190308447620244, 0.6756096389466676, 0.7037308821992254, 0.6889843254743749, 0.7056696194697542, 0.773180213830481, 0.6602300751091211, 0.7155809648887594, 0.7854224870347077, 0.44061220277913904, 0.21736645179127378, 0.11889619472875479, 0.6260771172504115, 0.47047306202939687, 0.6155334679760817, 0.8170707143257029, 0.7341256289697651, 0.6358229431711162, 0.7522234086825617, 0.7586571916992704, 0.6950959935492338, 0.45736806717842704, 0.45368485623993193, 0.7248397382129178, 0.6537619624305983, 0.6635717718362315, 0.7453531568485473, 0.7181172869819311, 0.4272949791198113, 0.7053898943377328, 0.6908920622837411, 0.7028827254258991, 0.6956607080316, 0.5165637343484742, 0.36145960940412947, 0.5032508497052667, 0.660692460146328, 0.6145439180381602, 0.7639191435705878, 0.6952742246570259, 0.6524041869480853, 0.6583186233433211, 0.6596168866690874, 0.6235169906775536, 0.47532440956246436, 0.5298005354156202, 0.7608111456500062, 0.6768365118074811, 0.7539985660500996, 0.7519268936896046, 0.6737104432086958, 0.6193161279772144, 0.7675834700820713, 0.7555923499640143, 0.7485948196561701, 0.6901412326291608, 0.771672648885185, 0.7138961162899132, 0.7188319576346688, 0.7001977865446153, 0.6590140268090782, 0.6813597929246531, 0.7094836525646442, 0.4407138808985973, 0.19820869773874583, 0.20008826607104857, 0.6814855528384784, 0.5032310219081955, 0.6501500709688073, 0.8188712156109172, 0.7445697285085978, 0.6235035209958688, 0.7438659043552884, 0.7336160533359923, 0.7142499648620436, 0.5073591466777758, 0.4872042372171169, 0.7532416102289439, 0.6239256609354401, 0.6483501693305389, 0.733350429681142, 0.7017598918788229, 0.47999561538230107, 0.6781828182015541, 0.7369198521180391, 0.7350720338776473, 0.731050704466891, 0.5579401478056979, 0.4108233442906777, 0.5484590252632894, 0.7429511273202626, 0.6805841831757176, 0.7926712893484777, 0.708288496447417, 0.657718058505716, 0.6616725226812954, 0.6393284811438973, 0.5874034690779812, 0.5367345354835372, 0.612478055160461, 0.8066291149981697, 0.705000129148174, 0.7021649580249509, 0.7787516569078644, 0.6662808191882171, 0.5619475556597331, 0.7520322969995937, 0.7588031843492016, 0.746258062612039, 0.7143968016959855, 0.7438937391630311, 0.6990950628490927, 0.6947104090179318, 0.776138886136839, 0.7159847667111748, 0.7513961852479157, 0.7594305882462663, 0.4406760294870071, 0.18866484968785868, 0.1332545099461393, 0.5555949529945869, 0.6635684535435814, 0.6175893352624695, 0.6159311828805738, 0.615783500434497, 0.5453978133434066, 0.6706023369639829, 0.5699748345257498, 0.5375134101297878, 0.6058540636013748, 0.6251121966142361, 0.6146055900783763, 0.5475222517353943, 0.6355811272798875, 0.4540325251959971, 0.5147172976357733, 0.32129175676578847, 0.5758804321634476, 0.5501354508702428, 0.6627672107123697, 0.6399657520307998, 0.5363717949940279, 0.44390837173292397, 0.48607798983438977, 0.5916026047667402, 0.5175624177259183, 0.6672291678678425, 0.506168511506973, 0.47350135167413243, 0.47564155035885936, 0.43694779987232235, 0.4398469239062608, 0.3793054935177136, 0.6027040196824187, 0.6636258600547927, 0.43108737323889157, 0.4778317207267503, 0.5246754241125187, 0.4553303121597768, 0.4338072321708878, 0.6311557214137293, 0.6544415509379929, 0.6831272622144857, 0.5088883912609463, 0.6086847361685694, 0.5053906803491383, 0.5874377717056138, 0.5608955554778426, 0.46103667954198735, 0.5856828231189697, 0.5660405237992944, 0.4954372361266721, 0.1875700785114216, 0.17405913452708544, 0.5447232690183496, 0.5542729461299742, 0.5834798122622229, 0.7172923599677185, 0.6495272232283414, 0.5327383340443471, 0.6083894992693123, 0.6047385877684005, 0.708639371389282, 0.43876726986655656, 0.43235821552755294, 0.6701625107406765, 0.5778018359081348, 0.6383969700610139, 0.5682659907401539, 0.6640086228102464, 0.3112119816821597, 0.6756781917750022, 0.671247237581659, 0.6777247423355476, 0.6912655276462573, 0.7065080143027797, 0.5053109123521259, 0.5545389361085609, 0.6100208803374096, 0.5891901462386127, 0.6440828754243451, 0.6378097404105844, 0.5109342605638307, 0.6412302157601669, 0.5670485694972097, 0.5328916806781906, 0.43825530168696836, 0.475743121415217, 0.7457847898606207, 0.5916442671676526, 0.5705167369485644, 0.6517565342665296, 0.5082377187233088, 0.506061708660754, 0.6776996487453535, 0.5418535481069614, 0.611686612488685, 0.5170657513710142, 0.6418504869711825, 0.6133596557840283, 0.5865942739357469, 0.6094446116108423, 0.4471745844791135, 0.5494079462224205, 0.6176893853987943, 0.36983241827671576, 0.16386869552667527, 0.185719709266011, 0.6416904623747188, 0.4711559404666241, 0.6080304496873563, 0.8395591709184457, 0.7619974731896004, 0.6197352929440253, 0.7025254678170387, 0.7389085285863956, 0.7672345028263793, 0.4829400072036705, 0.44144116979250647, 0.7194872563356044, 0.5988001474933203, 0.623341446338561, 0.7489680675427421, 0.7510823278481185, 0.43669339432838905, 0.7037149210246346, 0.761496693014259, 0.6936281068650045, 0.695745865118198, 0.5596996123358895, 0.4425790969504724, 0.5154362825290992, 0.7040549023231579, 0.6511571477943884, 0.7583330196633916, 0.707965463504184, 0.6886879927018543, 0.7339716245800035, 0.7115550320203615, 0.6113289851996934, 0.49660378738489297, 0.5350445473496849, 0.7792115735704366, 0.7829344057324646, 0.7435310390891273, 0.8014948941567637, 0.7072377014581683, 0.5821518935401903, 0.7434878546733997, 0.7398065935759387, 0.7062116379065781, 0.68676766354248, 0.7424235528491426, 0.7276447107839695, 0.6575374358077832, 0.7366875673414179, 0.643132931525021, 0.7040535799005188, 0.7082517338151396, 0.434787138288131, 0.2567525213301929, 0.05310213307444234, 0.46657083440958025, 0.5718433634745791, 0.5696546166466131, 0.6230257454404876, 0.6843661072788338, 0.5698070232723383, 0.6513354814134041, 0.5750426871444259, 0.5508500199089957, 0.4696104991182999, 0.4363898258440173, 0.5969421772439829, 0.5163422725992503, 0.5734732821491823, 0.5150564821656651, 0.6053190014174173, 0.22117910336678814, 0.6022064376415484, 0.5300195221556544, 0.5700373454940599, 0.5942721863925391, 0.475051011961628, 0.41006801953891725, 0.4049326138230134, 0.5303543329066635, 0.47487177205993447, 0.6781258569903836, 0.5047875394896912, 0.5348327019280517, 0.5389258035753965, 0.48681697254410516, 0.5060613051402314, 0.41893191299554877, 0.5123294450654006, 0.6290189932999206, 0.5144304128440804, 0.5585132993765812, 0.5814904060304721, 0.49097296800480394, 0.5010058029959324, 0.6765692586193947, 0.6285398933525018, 0.6970445558223409, 0.5514317159131173, 0.6654233350567633, 0.4829124559277074, 0.54953104468993, 0.5361591992736331, 0.552807097401017, 0.5597811967590012, 0.5550137851339568, 0.36696238704944195, 0.08756705748333382]\n",
            "Grape\n",
            "##################################################\n",
            "index 3\n",
            "##################################################\n",
            "Article no  8  :  IPod\n",
            "Arabic page exits !\n",
            "big article sim\n",
            "##################################################\n",
            "index 292\n",
            "##################################################\n",
            "Article no  9  :  Royal_assent\n",
            "Arabic page do not exist\n",
            "##################################################\n",
            "index 439\n",
            "##################################################\n",
            "Article no  10  :  Kathmandu\n",
            "Arabic page do not exist\n",
            "##################################################\n",
            "index 106\n",
            "##################################################\n",
            "Article no  11  :  England_national_football_team\n",
            "Arabic page do not exist\n",
            "##################################################\n",
            "index 196\n",
            "##################################################\n",
            "Article no  12  :  Southeast_Asia\n",
            "Arabic page exits !\n",
            "5\n",
            "52\n",
            "[0.24845513259658392, 0.6930891684892008, 0.22707711113848272, 0.6878663538961457, 0.13065520455696478, 0.7108449729029394, 0.042032198976034274, 0.5775672710198068, 0.1374822428789445, 0.6601827601898175, 0.05160706874493903, 0.5262475628050856, 0.07440108409283142, 0.6010330597452544, -0.01372287184616039, 0.4564208517341962, 0.2974475008980293, 0.7068145300931661, 0.3439513831380465, 0.6261370646149146, 0.1916253635394054, 0.586455205329939, 0.1986566414949058, 0.5939182020224293, 0.16537771805724577, 0.6457853045746433, 0.046240641053046594, 0.5426003021689563, 0.04637972724243411, 0.633142461973586, 0.08769069960085385, 0.5389234869102028, 0.12251525072477176, 0.6029646174370812, 0.2575293391966309, 0.8193510504422947, 0.1386281287498914, 0.7157083590107355, 0.12546233221874048, 0.7110463782423251, 0.1201673676804762, 0.6402087861019928, 0.13379114780656165, 0.6412374455717079, 0.10629833323277793, 0.48336794577844233, -0.059523621893720735, 0.45908227293270265, 0.015071962903527969, 0.5147888381389703, 0.1571979248699389, 0.5148493084048742]\n",
            "Southeast_Asia\n",
            "##################################################\n",
            "index 295\n",
            "##################################################\n",
            "Article no  13  :  Asthma\n",
            "Arabic page exits !\n",
            "big article sim\n",
            "##################################################\n",
            "index 15\n",
            "##################################################\n",
            "Article no  14  :  Genome\n",
            "Arabic page do not exist\n",
            "##################################################\n",
            "index 160\n",
            "##################################################\n",
            "Article no  15  :  Capital_punishment_in_the_United_States\n",
            "Arabic page do not exist\n",
            "##################################################\n",
            "index 50\n",
            "##################################################\n",
            "Article no  16  :  Space_Race\n",
            "Arabic page exits !\n",
            "big article sim\n",
            "##################################################\n",
            "index 285\n",
            "##################################################\n",
            "Article no  17  :  Gamal_Abdel_Nasser\n",
            "Arabic page exits !\n",
            "big article sim\n",
            "##################################################\n",
            "index 388\n",
            "##################################################\n",
            "Article no  18  :  Georgian_architecture\n",
            "Arabic page exits !\n",
            "6\n",
            "105\n",
            "[0.7495942195272669, 0.3638059248710175, 0.6633458676910684, 0.015031545899630627, 0.5543769888225705, 0.6131454775720351, 0.22260984778404236, 0.42462196946144104, -0.08368906378746033, 0.39633145206651155, 0.5766599435147051, 0.3224281966686249, 0.501406192779541, -0.052973926067352295, 0.5079361686544063, 0.6433143968762871, 0.2792883215302717, 0.5699490856811884, 0.028245226893067743, 0.48671254349821336, 0.6200009573763243, 0.4372686542026224, 0.6683863927771195, 0.07902161656738205, 0.5464323124735295, 0.6285863948326829, 0.3733960852642364, 0.6626001974088691, 0.10062173281750397, 0.5412785612625227, 0.6188178734933527, 0.21730634432157214, 0.46361139432008636, -0.09079848025291981, 0.41896934630012306, 0.5066442199585869, 0.27513185531338835, 0.39716260474834386, -0.12550255677601796, 0.477117788951372, 0.4822454743285097, 0.21362907952160137, 0.40913612109632513, -0.10539214128630126, 0.4423029188089549, 0.5315170872531466, 0.18301603198051453, 0.3694431781768799, -0.15270304679870605, 0.4090824761013159, 0.4267718120281414, 0.17023230468590633, 0.39099175206860715, -0.11945720538541327, 0.3972795397576776, 0.5690315440304203, 0.30070142304662173, 0.437798280465982, -0.14963162829075416, 0.4700164896375283, 0.5898270731888946, 0.3260446121153677, 0.48193549046790374, -0.0728383293440309, 0.5379136101841686, 0.6316848718228596, 0.3141148533614657, 0.5202291571031693, -0.05321630949714007, 0.5386113740557023, 0.5690732601825794, 0.26871789042571814, 0.4420676417953433, -0.12000323831508553, 0.44760359461940735, 0.5452935112252464, 0.23641583541236744, 0.4568838810545992, -0.049325676233455296, 0.4761768137921347, 0.5594794801321253, 0.284888356924057, 0.5272274613380432, 0.09395452588796616, 0.5448835806044481, 0.6690416891285812, 0.4620893640526582, 0.5723839666883457, 0.03606647944135766, 0.5855211773018005, 0.5910919010781402, 0.25353684624952644, 0.5512361567542687, 0.04331190137519614, 0.46194431192586627, 0.6540022350969215, 0.42289825011108795, 0.7137414667521973, 0.030840702007842946, 0.5895609689741048, 0.6274038341493006, 0.3478248620359614, 0.6234858915223517, 0.05635032906185378, 0.5486938516299439]\n",
            "Georgian_architecture\n",
            "##################################################\n",
            "index 328\n",
            "##################################################\n",
            "Article no  19  :  East_Prussia\n",
            "Arabic page do not exist\n",
            "##################################################\n"
          ],
          "name": "stdout"
        },
        {
          "output_type": "stream",
          "text": [
            "/usr/local/lib/python3.6/dist-packages/numpy/lib/histograms.py:824: RuntimeWarning: invalid value encountered in greater_equal\n",
            "  keep = (tmp_a >= first_edge)\n",
            "/usr/local/lib/python3.6/dist-packages/numpy/lib/histograms.py:825: RuntimeWarning: invalid value encountered in less_equal\n",
            "  keep &= (tmp_a <= last_edge)\n"
          ],
          "name": "stderr"
        },
        {
          "output_type": "display_data",
          "data": {
            "image/png": "[encoded data removed]",
            "text/plain": [
              "<Figure size 720x720 with 6 Axes>"
            ]
          },
          "metadata": {
            "tags": []
          }
        }
      ]
    },
    {
      "cell_type": "code",
      "metadata": {
        "id": "SULG98hwk6Q-",
        "colab_type": "code",
        "outputId": "855b1f48-afa5-4483-845f-b26f526fb6af",
        "colab": {
          "base_uri": "https://localhost:8080/",
          "height": 1000
        }
      },
      "source": [
        "#testing \n",
        "\n",
        "AQQAD_generators()"
      ],
      "execution_count": 0,
      "outputs": [
        {
          "output_type": "stream",
          "text": [
            "index 239\n",
            "##################################################\n",
            "Article no  0  :  Nigeria\n",
            "Arabic page exits !\n",
            "big article sim\n",
            "##################################################\n",
            "index 26\n",
            "##################################################\n",
            "Article no  1  :  Lighting\n",
            "Arabic page exits !\n",
            "1\n",
            "57\n",
            "[0.7594066114090618, 0.6796632735331823, 0.7112814601695453, 0.7121656095208898, 0.7195355030257473, 0.6159174526770842, 0.6141042635935176, 0.7731804739243827, 0.742631670576263, 0.6387897317558822, 0.7115363571357677, 0.7633932719199522, 0.6924721140797049, 0.6174833479072974, 0.7394015112298512, 0.7053958699027025, 0.5550962489174546, 0.6277523519278334, 0.6509632302081901, 0.6624977584553389, 0.7280355888578683, 0.7632232313949575, 0.6971281361061596, 0.7330200891240048, 0.7295881216438119, 0.723296655175115, 0.7137172820322573, 0.7174612668310457, 0.6867903284963376, 0.6964305707378661, 0.6929274535181306, 0.7389499087012037, 0.5809607326377382, 0.681488133996622, 0.5965550322785825, 0.7017336147320737, 0.7074893055706525, 0.6153153791161048, 0.7337630111482891, 0.7186479289651305, 0.7247968925254199, 0.6952087771453974, 0.7132094663007869, 0.6515865879358046, 0.6948855100374972, 0.7116296983242181, 0.725975578130736, 0.5881925528276225, 0.7407806707200706, 0.7910068144116658, 0.6549908604896304, 0.5312724901998953, 0.6091596331515858, 0.5258785839196559, 0.44471576828222326, 0.6475131990200425, 0.5553660084806817]\n",
            "Lighting\n",
            "##################################################\n",
            "index 109\n",
            "##################################################\n",
            "Article no  2  :  Identity_(social_science)\n",
            "Arabic page exits !\n",
            "2\n",
            "105\n",
            "[0.7654551283513368, 0.7434589400553433, 0.7172335802727889, 0.6819042287350306, 0.630234099214451, 0.7589956041502193, 0.7262276091885982, 0.704028368447892, 0.7084170727886747, 0.6668907688895982, 0.682738708033585, 0.7269036580657962, 0.7416553742349774, 0.6203812710648928, 0.6405156378985637, 0.7566463195355329, 0.7135267188346407, 0.7047308692703903, 0.7140172979397393, 0.6675522629243971, 0.6950084541903734, 0.7272214182993355, 0.711860516789398, 0.6553446225932527, 0.6123298197864052, 0.8094702069548403, 0.7191229617203287, 0.7220828197491715, 0.7269208779488602, 0.6650245160522099, 0.7558183091363924, 0.6748334784499501, 0.6768328340695104, 0.6616355552085235, 0.6197064874600405, 0.7846678535804495, 0.7029966928935507, 0.7191158166924786, 0.6957285111978214, 0.6494985748634606, 0.6756760571076047, 0.7210518839139274, 0.7543095721068769, 0.6651524976611917, 0.6038543679197225, 0.7071537392818632, 0.7303311062838174, 0.7189987878388665, 0.6703658606178627, 0.6390542312723579, 0.6998127833713127, 0.6744611386589823, 0.7310755113743924, 0.6479104012915768, 0.6246372864737288, 0.744356313978656, 0.739506385244865, 0.7599158094017063, 0.7226578644760333, 0.6489738160337486, 0.6908310051775091, 0.7196096588116322, 0.7212682967397013, 0.6693585068107616, 0.6473486389910439, 0.7004027751416424, 0.7477664324987491, 0.7158661372927135, 0.6725336959662651, 0.6269050351035752, 0.6868400398161989, 0.7317166262532366, 0.7068606987537349, 0.639508722271993, 0.5902619350847429, 0.7587332976482336, 0.7443211228543581, 0.7239999070312612, 0.7112687456475196, 0.6742820940156616, 0.8068461683321985, 0.7242383136959746, 0.7097144332629987, 0.7005673444118009, 0.653130417710377, 0.7547629187781545, 0.7226654677454598, 0.7363139427060732, 0.7092911636841381, 0.6735493190378101, 0.7612670636095171, 0.7228084408603574, 0.7106084653157351, 0.6716031338701776, 0.6302962276271831, 0.702195547245972, 0.7572244114867821, 0.7217990100162562, 0.679048649439506, 0.6569940273166367, 0.7005683042141656, 0.7159377591526004, 0.675964499385401, 0.6807209254884629, 0.6152155372985388]\n",
            "Identity_(social_science)\n",
            "##################################################\n",
            "index 178\n",
            "##################################################\n",
            "Article no  3  :  Dutch_language\n"
          ],
          "name": "stdout"
        },
        {
          "output_type": "stream",
          "text": [
            "/usr/local/lib/python3.6/dist-packages/pandas/core/frame.py:6692: FutureWarning: Sorting because non-concatenation axis is not aligned. A future version\n",
            "of pandas will change to not sort by default.\n",
            "\n",
            "To accept the future behavior, pass 'sort=False'.\n",
            "\n",
            "To retain the current behavior and silence the warning, pass 'sort=True'.\n",
            "\n",
            "  sort=sort)\n"
          ],
          "name": "stderr"
        },
        {
          "output_type": "stream",
          "text": [
            "Arabic page do not exist\n",
            "##################################################\n",
            "index 407\n",
            "##################################################\n",
            "Article no  4  :  Qing_dynasty\n",
            "Arabic page do not exist\n",
            "##################################################\n",
            "index 5\n",
            "##################################################\n",
            "Article no  5  :  Spectre_(2015_film)\n",
            "Arabic page exits !\n",
            "3\n",
            "172\n",
            "[0.5494649191504404, 0.2626336700212961, 0.7673134483909321, 0.5403634670658208, 0.5159853418563396, 0.2543794586193162, 0.6405452347198315, 0.5772527998502965, 0.5141265865378545, 0.3942009844937304, 0.6416147983274556, 0.5170315526674957, 0.5488300674584694, 0.2846545791825039, 0.5565711055815687, 0.6308199152184724, 0.5316874779320252, 0.1482882548779394, 0.537990100491234, 0.6447002494270395, 0.5824231006934357, 0.1191479248641204, 0.5397570521235926, 0.6488171499600636, 0.5443882856126271, 0.2835241321856643, 0.5017733801031399, 0.6391244935492145, 0.5551641659399481, 0.26332055029200563, 0.51996286932537, 0.6523191458470603, 0.532562504770298, 0.35947945639830103, 0.6354816724321498, 0.5798799385772123, 0.39407145590040704, 0.4537720141005013, 0.5004844411081291, 0.4952107468837279, 0.4663970366015545, 0.43664765961026375, 0.5696781409739697, 0.5670896366210693, 0.5521199857066448, 0.343156790127611, 0.6277617550400961, 0.6395147658995316, 0.41342928542634116, 0.3703054009912272, 0.5126033587184847, 0.6114094182626478, 0.603753714724415, 0.2695649439072294, 0.6816203550489356, 0.5553242356646518, 0.5390851187516622, 0.3356377652188769, 0.6345447842968229, 0.5784827617902396, 0.4491180868229081, 0.3585674294626633, 0.5200919185256149, 0.44710604262530285, 0.5683933569981514, 0.25684253601589446, 0.6973364656183646, 0.5271758328382609, 0.50438721165177, 0.27646998506413856, 0.5759001123830308, 0.4932458950873668, 0.4980996400521318, 0.18631634224234905, 0.5317428535167112, 0.5256753450894993, 0.44563566706710656, 0.437605612309093, 0.5112313035015073, 0.5485410266806503, 0.44889093282547, 0.36237612685089293, 0.5082680864932925, 0.5224654908767699, 0.515593919498744, 0.29593370438865063, 0.46384753818573654, 0.4482042650802578, 0.49825773243984406, 0.28852403193944987, 0.522845253233475, 0.5080967784370487, 0.4723024473012587, 0.26766588210821407, 0.5732505589711293, 0.46225391326418164, 0.5218421098041888, 0.3949358179920912, 0.5761420292736882, 0.5707507475375908, 0.5274043291706366, 0.3791187864712986, 0.6843858290911797, 0.5285070456322729, 0.5107020172626351, 0.40783201235451283, 0.6345767370197901, 0.578144863586843, 0.4490761899268949, 0.4008729882719375, 0.5849525266572311, 0.5245554684767583, 0.5242523727737766, 0.3813369903696029, 0.6275562707566615, 0.48490798625481557, 0.32118914766820195, 0.44503373515321476, 0.41673220736758854, 0.43709826194742996, 0.5464437141584053, 0.35720958312938844, 0.6933974663807799, 0.5686631994772882, 0.46861003165641824, 0.37244923998831436, 0.5904838398827216, 0.5106073122916216, 0.26303680572084964, 0.3252647362074196, 0.40724809243800986, 0.331000372468943, 0.31247351970599035, 0.2711471908755849, 0.5026774743584643, 0.42135174357510274, 0.3869660587927122, 0.2811813538073431, 0.5396258664290147, 0.4911143363306356, 0.3888524837070402, 0.2977545542147606, 0.5364341057114876, 0.43366476780229624, 0.403621490183681, 0.3150116771364979, 0.5517350605372345, 0.444865442551466, 0.4555999376015736, 0.38699328370354624, 0.5547047537866405, 0.5417859069751766, 0.528599259580069, 0.3338639923700968, 0.6469470806626042, 0.5834844430457643, 0.5577517337571722, 0.28456634191942687, 0.6236303361807795, 0.6253603156526844, 0.5816827488116281, 0.24067018671318507, 0.6682364866360674, 0.5752755945877088, 0.4395354501922053, 0.3701933798506538, 0.512352315518956, 0.6124210984107809, 0.5148133128734546, 0.3286574879889004, 0.6076344433118129, 0.5573994191337897]\n",
            "Spectre_(2015_film)\n",
            "##################################################\n",
            "index 17\n",
            "##################################################\n",
            "Article no  6  :  Republic_of_the_Congo\n",
            "Arabic page exits !\n",
            "big article sim\n",
            "##################################################\n",
            "index 346\n",
            "##################################################\n",
            "Article no  7  :  Canadian_football\n",
            "Arabic page exits !\n",
            "4\n",
            "21\n",
            "[0.7869502521629006, 0.8671861141265177, 0.818876139920736, 0.7685204928758831, 0.686805247030148, 0.8080138903947002, 0.7944038069966359, 0.865271251641199, 0.6453403134226676, 0.6171143266059861, 0.5884611567361747, 0.6566399731892455, 0.7264976749239529, 0.7254743309454338, 0.6835217690334591, 0.5926072734025253, 0.6465452298505835, 0.5754345169880796, 0.6811677449913238, 0.5620299492287817, 0.7309065476384748]\n",
            "Canadian_football\n",
            "##################################################\n",
            "index 137\n",
            "##################################################\n",
            "Article no  8  :  Digestion\n",
            "Arabic page exits !\n",
            "5\n",
            "234\n",
            "[0.6760284863391645, 0.7502836378661478, 0.6029140315465868, 0.39348962990607483, 0.5537418361263402, 0.7395094131635369, 0.7369456242547001, 0.4367481483076403, 0.22169200457546379, 0.5208386037001442, 0.37614304715682245, 0.35447664103484877, 0.4721134473878519, 0.718630566300984, 0.7112841370832121, 0.6190589599525603, 0.29611205709415667, 0.5962018126984002, 0.7495603524874779, 0.7162085459448618, 0.3677649616527878, 0.2332862265777207, 0.4723405307470242, 0.33321296619351715, 0.36395000675042743, 0.30992174673643, 0.7305224687158008, 0.714190430061032, 0.6621176075609627, 0.340685639576245, 0.6248272989488611, 0.7639394769825778, 0.7253605663283239, 0.3747741387196737, 0.20243968069553375, 0.5037785907592292, 0.34020633303057257, 0.3743849728568962, 0.39752413307286827, 0.6386316779441327, 0.6214130304661074, 0.6166846359678237, 0.3966758538279189, 0.6672009177545346, 0.7303769499151876, 0.7423491567112559, 0.40116028804115533, 0.20176482815119445, 0.479399524306245, 0.3500018872317405, 0.3135254774116182, 0.4497979122048401, 0.6997980707735425, 0.7210439637755763, 0.6476110969970521, 0.3535452336692787, 0.6240153243259414, 0.7719087048296878, 0.7007716483352856, 0.4528825918385524, 0.2889263391416108, 0.517902786702567, 0.4104783248191688, 0.4266804343247568, 0.4120554552045925, 0.7175924852323563, 0.7375844770038225, 0.6469752531329872, 0.3872000539534579, 0.6063156685573368, 0.7455462303240386, 0.7057491508552008, 0.432416742508425, 0.22287492991824787, 0.5243967162864426, 0.36611850400959745, 0.3783559526957503, 0.4629504639190767, 0.6927019283441583, 0.7371545196336926, 0.5994177331445074, 0.36047973672140143, 0.5561671783203312, 0.7949439307272752, 0.7291928440796246, 0.403210542024953, 0.22697165887902826, 0.47540236475080067, 0.3541012277961113, 0.3388805407100923, 0.4145894295634438, 0.6658845638067418, 0.7065312664079366, 0.6008278439393072, 0.4067073274162589, 0.568424252889421, 0.7306903113493869, 0.742063924331149, 0.42792988345053085, 0.22309371352209983, 0.5109859707750705, 0.35986929088606945, 0.32050077053090353, 0.43332596702186943, 0.7276530055811645, 0.7298835533511207, 0.6386041499864846, 0.3503056367539057, 0.6463001143466067, 0.7816406985555732, 0.7296900802719197, 0.38939121307116875, 0.24232588708400726, 0.5027335583787496, 0.35195845804315673, 0.3787582558335856, 0.41363610793512895, 0.6730892911062247, 0.7466749717534565, 0.6164703089623217, 0.39865006903195077, 0.5469634405987673, 0.7018463118428471, 0.6953587335440958, 0.47522007178245995, 0.2454246536982394, 0.543386895016425, 0.3758466876265213, 0.37732287395411335, 0.4800295499261006, 0.6122221391399364, 0.6398253885090092, 0.6062637016241438, 0.493080604271666, 0.5934359313484627, 0.6825169802597943, 0.702573603954011, 0.5134958355911688, 0.30483894189363303, 0.5637383454346253, 0.40572710364969256, 0.41312309051115004, 0.6331669954977263, 0.6906090106070693, 0.6596994438604956, 0.6348747640599178, 0.34586856390552956, 0.6613077596861595, 0.7377072291015504, 0.7347332449141543, 0.39122032214736824, 0.23585303996858809, 0.49291708221036323, 0.38202035278975455, 0.3925912613230338, 0.41472372717251005, 0.7206659416555473, 0.6665692434208739, 0.656730560991733, 0.3075564171368639, 0.6601229825138436, 0.7134323498714175, 0.6582374676189692, 0.38204118114951136, 0.2248279751591592, 0.5045218000170082, 0.35702396405057435, 0.4298581439856851, 0.3501613647000853, 0.6612031474140271, 0.7412989986139219, 0.5652171238590705, 0.33896821991489134, 0.5232951051322527, 0.7263717124378102, 0.6887044309792955, 0.39240126509560036, 0.2074789616257271, 0.48137097973336607, 0.34935280419507564, 0.3278042591012653, 0.4023825435190955, 0.684822990169927, 0.653713677515514, 0.5680021645004218, 0.3257787678646985, 0.5117234257500227, 0.6458334493942557, 0.6422851966486199, 0.3677313750737814, 0.2222336983479758, 0.49142511824275426, 0.3083756333244354, 0.38810213473063815, 0.3218351483973141, 0.6663223683848262, 0.774024461990844, 0.5927179419526568, 0.39424727279598215, 0.5303892713726331, 0.7493131740893492, 0.6774789092449042, 0.47046801397582616, 0.21477228904790358, 0.5357721787611982, 0.3662460162012351, 0.38528827646104247, 0.4658889180552015, 0.6518230243926249, 0.730426063592954, 0.5750053613115668, 0.3242629511875944, 0.5327817421404164, 0.6781013122425511, 0.6474245001527599, 0.39502682567445035, 0.18340066075325012, 0.46941053071145233, 0.3308312825252998, 0.31921024981189094, 0.38823746745973464, 0.6686917023015944, 0.7312502343994676, 0.6293429617409946, 0.3704954439410386, 0.5749911426066548, 0.6821983580752655, 0.6539117869187531, 0.40062915165044055, 0.1925051251891039, 0.5080794618940113, 0.3281250463945571, 0.38216653737807205, 0.4262095744630461]\n",
            "Digestion\n",
            "##################################################\n",
            "index 252\n",
            "##################################################\n",
            "Article no  9  :  Carnival\n",
            "Arabic page do not exist\n",
            "##################################################\n",
            "index 172\n",
            "##################################################\n",
            "Article no  10  :  Freemasonry\n",
            "Arabic page exits !\n",
            "big article sim\n",
            "##################################################\n",
            "index 167\n",
            "##################################################\n",
            "Article no  11  :  Ashkenazi_Jews\n",
            "Arabic page do not exist\n",
            "##################################################\n",
            "index 377\n",
            "##################################################\n",
            "Article no  12  :  Bacteria\n",
            "Arabic page exits !\n",
            "big article sim\n",
            "##################################################\n",
            "index 423\n",
            "##################################################\n",
            "Article no  13  :  The_Bronx\n",
            "Arabic page exits !\n",
            "6\n",
            "171\n",
            "[0.6671140886305719, 0.5127596155096055, 0.6926487996061438, 0.4254261672254722, 0.5621634009898008, 0.4735097654435544, 0.2408767786238626, 0.5636354516738857, 0.45718545555923995, 0.5942424571078929, 0.45392759537420535, 0.5225358571589654, 0.4131191869582911, 0.5740664084403151, 0.4099153129646633, 0.433239700568659, 0.43086785756686374, 0.40429330216882353, 0.551082146138648, 0.4412816599171355, 0.567692446223163, 0.48853598740125537, 0.45039736450735646, 0.5268853919125194, 0.20448579204683903, 0.47461270432382674, 0.39701992429185073, 0.30838016571453775, 0.6126099521221258, 0.5463897323259324, 0.17077915863687132, 0.525612929943509, 0.284239442063981, 0.2721005553485767, 0.5932135886700487, 0.3449650603488418, 0.33273196562031004, 0.5830236661709285, 0.5012468465526722, 0.30523729871120553, 0.5132725901190274, 0.5153704801850267, 0.38835253692072125, 0.4811012262157215, 0.4959044378302996, 0.7036062345730439, 0.4523760019814156, 0.5347432518150823, 0.6221503991278646, 0.5084477513814366, 0.5482843384315562, 0.5910853952912508, 0.48890792437417685, 0.5896322850864859, 0.5892824741440829, 0.43429175303555945, 0.5317375418375136, 0.5390166555565206, 0.5381811339633344, 0.5561711971903698, 0.46434565192214805, 0.5511088853996208, 0.5540316481069221, 0.5248746046188063, 0.4744043296706928, 0.4573332401715602, 0.43253754296713853, 0.49152959884792646, 0.5125407379955561, 0.5687429253116894, 0.5217428828294056, 0.5166547646991398, 0.33517729929355145, 0.6971053763685775, 0.40611542470469986, 0.40702892803091095, 0.6132871639594928, 0.47494334046445763, 0.2893248180280381, 0.7312200608692517, 0.5330468806118293, 0.3388320036835537, 0.7037524715407536, 0.46917231416160654, 0.3224177240698325, 0.7226960088474491, 0.5351749961450623, 0.2552157506168945, 0.6680240467591179, 0.6073838461565799, 0.33045703442729335, 0.5102688229623004, 0.4841949891089683, 0.4019535748671368, 0.4183577165906709, 0.4375818960984156, 0.28523318458007785, 0.46158000503027374, 0.3962534460419973, 0.2724200288118579, 0.48316862008197514, 0.31307695518788337, 0.3228328930684833, 0.5884179337798561, 0.43646657089520013, 0.28777690107583376, 0.5318329757452056, 0.46724426360345284, 0.36553400911582556, 0.6251789977664964, 0.4650742711910383, 0.2954563459686441, 0.18159482358268475, 0.2727234844507622, 0.3323495906617029, 0.43776679531826634, 0.3970981169737433, 0.5051825726201418, 0.40020137951279555, 0.33431807063955044, 0.3596563307005378, 0.43709553147903024, 0.16312614586526086, 0.38998637854307816, 0.28665558642131383, 0.33459847239455565, 0.4193438928420332, 0.5286880223863534, 0.5351136006554115, 0.2641251560515614, 0.4105703357598933, 0.382307983849669, 0.28537142347716093, 0.46814960493757374, 0.22271533733002769, 0.47041251598594713, 0.4196056084580344, 0.3524291878912884, 0.5130740674250368, 0.4224148958055949, 0.485713816068747, 0.33094261559519955, 0.4439494662552388, 0.3754760757521636, 0.40071118032875686, 0.4532887826069776, 0.47985796270023606, 0.35857232253524873, 0.44412316862572787, 0.31122006398581403, 0.36488985203837665, 0.5139956616344508, 0.33797088999023417, 0.43140318302083314, 0.43622070964867454, 0.3438076882253901, 0.3111829105890176, 0.37954536503609937, 0.2321347852538549, 0.26410533213722975, 0.3485546964070241, 0.215429571256605, 0.3446291033863975, 0.4370879944651107, 0.26296387682775113, 0.4926526290286516, 0.5098167933873823, 0.3129026135289308, 0.4857448402411104, 0.5180735798660794, 0.347966111186235]\n",
            "The_Bronx\n",
            "##################################################\n",
            "index 258\n",
            "##################################################\n",
            "Article no  14  :  Dissolution_of_the_Soviet_Union\n",
            "Arabic page do not exist\n",
            "##################################################\n",
            "index 313\n",
            "##################################################\n",
            "Article no  15  :  Samurai\n",
            "Arabic page do not exist\n",
            "##################################################\n",
            "index 261\n",
            "##################################################\n",
            "Article no  16  :  Textual_criticism\n",
            "Arabic page exits !\n",
            "7\n",
            "640\n",
            "[0.5653254977627535, 0.14799867065049854, 0.22040216397281243, 0.3959782990321832, 0.3078442337053382, 0.687623156721592, 0.6772379136301641, 0.7157612974902079, 0.5335216324239556, 0.7434373952642254, 0.6525814314185631, 0.5273387516586853, 0.7297425766359513, 0.520168629703909, 0.7475672877954076, 0.37289873973969256, 0.6068036645888667, 0.7395983885127912, 0.7715046120366484, 0.6461269328744395, 0.34199333913163343, 0.21440952257899004, 0.348529038865381, 0.3627878002597619, 0.3703408604781757, 0.6711164918851112, 0.575365203680192, 0.7887452277325037, 0.5740161447009747, 0.7029747724781574, 0.6780078442798643, 0.5309568417076479, 0.8004008430141453, 0.47838655517366835, 0.6303116217516381, 0.35981848846969045, 0.650188146186472, 0.7989854165925228, 0.7699320889684308, 0.6732433416210145, 0.32918895874792653, 0.252925075487068, 0.3758353694036922, 0.4036203548341344, 0.3942618790358855, 0.6714114111127994, 0.627145079532635, 0.7725409399688169, 0.6121398734730523, 0.7374221798368722, 0.7149277512167099, 0.5416630712678651, 0.7976902535709876, 0.5070246741888097, 0.6296769331803916, 0.36198828459873134, 0.6631814749273044, 0.7967196150926753, 0.7679654185434133, 0.6743952898825175, 0.47979098558425903, 0.2202962040901184, 0.273537510200317, 0.3679748826190068, 0.3065878667270068, 0.6274453568294321, 0.6869057486895424, 0.6503015513370068, 0.5271618721562559, 0.7250449175860048, 0.6648848779698283, 0.5459789629101224, 0.7407624200287058, 0.5186830213228526, 0.5627176182868509, 0.3780964204347762, 0.6307121824989919, 0.7258860629600644, 0.717237368492753, 0.6142373957338078, 0.5256118383990652, 0.09058170364038753, 0.17286840576151996, 0.32848151776818546, 0.30318448342154114, 0.6636318284212853, 0.687596814149896, 0.6574015546672028, 0.5196890389061417, 0.732070587531813, 0.613508812722912, 0.48134624937202763, 0.7211381374044048, 0.5746520479632031, 0.6572819633899593, 0.4427965723385381, 0.6137650134266635, 0.6996862213973336, 0.7256177425321076, 0.6207832835428079, 0.45168787164732316, 0.13217743997631426, 0.27492844569400643, 0.3830022578476011, 0.3536637534911491, 0.6602369483289513, 0.6643428220628298, 0.7209452084321978, 0.5768457525481547, 0.769502704666151, 0.6585534545218945, 0.5749231808891678, 0.7915367728908791, 0.5058502388199396, 0.667873767905807, 0.379883713228635, 0.6796566530165482, 0.8327064203066884, 0.8260742113725137, 0.6013733576030844, 0.4852542579174042, 0.13728369772434235, 0.2890434389038732, 0.40599489006858636, 0.3359146255699197, 0.6582295613385528, 0.7324393163324667, 0.7024449047093754, 0.549413723975244, 0.8279531782753363, 0.6578753106588594, 0.5603870492852016, 0.7760431767513188, 0.6073055890602614, 0.6667441235110796, 0.4075426728635074, 0.6926211688683034, 0.8083413824449178, 0.8141109350426472, 0.587965132845984, 0.4616730799320071, 0.13604252208832568, 0.2907087623327429, 0.37699221004829453, 0.31094815412696786, 0.6452485499645044, 0.6699363313395507, 0.7135386698948687, 0.565292938780996, 0.7533614347230394, 0.6788455989005485, 0.5323494130333344, 0.7716144948911232, 0.5647130939331547, 0.6820028127830174, 0.39221771613225354, 0.6403460731390279, 0.7980599301203084, 0.7625727171057696, 0.6243208601648359, 0.4067703187465668, 0.1466166377067566, 0.34639428423677243, 0.3970104346461343, 0.36074357217511455, 0.6386655967141012, 0.6173988950391134, 0.6992033274741655, 0.5675269195228794, 0.7472158493368779, 0.6535058261738429, 0.6089605878292483, 0.7849612631434907, 0.48951797252737794, 0.6435279640384657, 0.3732527751613164, 0.7100591425847034, 0.8830166528306543, 0.8004723014099167, 0.5880962640120426, 0.418393075466156, 0.09828753769397736, 0.2749821433629712, 0.3268641193971509, 0.29483795792467504, 0.6397174799780023, 0.6161579376383667, 0.6723910271201723, 0.5628557901050297, 0.7558289799951909, 0.6620364848759139, 0.5489642549627122, 0.7697422799368823, 0.5285224494284709, 0.6173779162919828, 0.37600319980753905, 0.6899289756631194, 0.8284400474082272, 0.8107109850497517, 0.5736412493628066, 0.3933072171787453, 0.1355269956761187, 0.29321546451254, 0.36356194153014854, 0.3151208739459791, 0.6230942719283015, 0.6380428434612347, 0.6674352387754579, 0.531904368847214, 0.7502983803159942, 0.6376791000639017, 0.5437157036543174, 0.7806003199719201, 0.5437335652162636, 0.551399714208085, 0.39533476509535137, 0.6444726046792983, 0.7838414499125558, 0.7593505347193399, 0.6101108619274059, 0.4330059873496863, 0.208182963794448, 0.31676621423634554, 0.36432517524122865, 0.3082902032627095, 0.6636118380150261, 0.6148214318373373, 0.7049961517234623, 0.5631047150433095, 0.7412123777443653, 0.6573749247374409, 0.5544140729096937, 0.7910824973835763, 0.5286026810853112, 0.6246191674925264, 0.3878344511592626, 0.659339758247236, 0.7986000926530488, 0.7546787838264694, 0.6551002506141039, 0.4658587606050194, 0.12949130539354825, 0.25880621151969774, 0.3720430170289465, 0.25740694458956126, 0.6152829714661171, 0.6632741431722826, 0.6696903745377671, 0.5481730221651658, 0.7363624600653869, 0.7011196089742535, 0.4971065635726921, 0.7650420027048699, 0.5399033834827636, 0.6543712483530526, 0.3845667121059656, 0.6416945351273232, 0.7681565926278489, 0.7769668879488255, 0.5843865065181509, 0.37847317147526116, 0.189359113433348, 0.31398366970551106, 0.34106933075297574, 0.3377862767057971, 0.6319521052162458, 0.6239522893533985, 0.6592144058881045, 0.5360679527382478, 0.734350072553301, 0.6408318487005841, 0.5224683531334628, 0.7581425121147521, 0.5252077055047149, 0.526920771185554, 0.3660570856010228, 0.6414368102788257, 0.7492487539320735, 0.7314021202238344, 0.6043018299451483, 0.4498747933992051, 0.08794469547598383, 0.2610134722440127, 0.38924615363635695, 0.3468837822216584, 0.6260508248406094, 0.6005636290931947, 0.6655030692654486, 0.5386336739037498, 0.7669243540247122, 0.5973041921804267, 0.5485259373971131, 0.7339793773147941, 0.47114268931927117, 0.6338076507536381, 0.3538114409542339, 0.6734567829523042, 0.8139735048283241, 0.8107979221434861, 0.5739416744744197, 0.3540990238156001, 0.1606718921707354, 0.33221970343118246, 0.37187577542590167, 0.339619846941308, 0.619075436220541, 0.6131308449114714, 0.6668031521073662, 0.5674021131312381, 0.7433508951154439, 0.6578483902657623, 0.5522209815690976, 0.7736017301054082, 0.49841186005577054, 0.5686041858400626, 0.3991242909857333, 0.6819437454882012, 0.8057780022997607, 0.7793090676977227, 0.5956555870392095, 0.38071112012999453, 0.0944065790831905, 0.2964437172261871, 0.33277868477951544, 0.28941119610987, 0.5948730630040965, 0.6118603175439904, 0.6343903306858898, 0.5260486460601518, 0.7373446315789786, 0.6330866833190266, 0.5452642670656551, 0.7672631377576288, 0.4929232480809125, 0.5520774694287498, 0.36022223668320474, 0.6617450844530184, 0.8149766481210332, 0.7874901512176753, 0.5428431358648426, 0.36554650274588674, 0.11628989032672488, 0.2859962921197794, 0.34264826052374464, 0.3144856351917269, 0.6165091388395539, 0.6398057934398679, 0.668712139029114, 0.5193120901558164, 0.7363869716766103, 0.6388843977041158, 0.5211294726111085, 0.7448422793867412, 0.4468967184067789, 0.6191795821185133, 0.35998384220287316, 0.6479438735442722, 0.7579143484280236, 0.744552297728496, 0.5855848295036155, 0.44574026026392743, 0.18447458922045135, 0.30805781984958724, 0.37127532332750945, 0.3164650275260552, 0.6403111389721947, 0.5956086377337078, 0.7080353321570516, 0.549029491205342, 0.7170558477634335, 0.6755703102731078, 0.5796994627408716, 0.7902720373229423, 0.4922762876727522, 0.6754549264031805, 0.37244344611351865, 0.6623822085922314, 0.810057239729376, 0.7683910262014264, 0.6439966078299374, 0.36612772672240856, 0.09674722854143747, 0.26692372607883463, 0.33848175503210887, 0.26290662914501284, 0.5472626593432288, 0.5941216679673438, 0.6156161363046512, 0.49174019499830024, 0.6942548497692252, 0.6065240402818731, 0.5807153272251996, 0.7255849341679043, 0.4529993730042763, 0.5419671135869223, 0.36306688641026663, 0.6620974847939608, 0.776366575828619, 0.7435867118205916, 0.5132678727031731, 0.34102111787167, 0.1469043630429232, 0.3215512171163296, 0.39140764052046173, 0.33677256490145724, 0.635111847868039, 0.6662667327459182, 0.7073461674575605, 0.5633517105684303, 0.7370597556955114, 0.6481124871255055, 0.537813890547553, 0.769120683007843, 0.5145351862346675, 0.6348092959898692, 0.36760606697733467, 0.6615593631397307, 0.7633047728926143, 0.7730935296569266, 0.6270394395554275, 0.45893539814283546, 0.1523802113750995, 0.2579985780290328, 0.3598883742625725, 0.23878665539394317, 0.637072304824895, 0.6937542767926124, 0.6704830715790354, 0.5374704087477047, 0.7420705364404551, 0.6953355190969733, 0.5338988932070424, 0.7524216983469486, 0.5408616564019415, 0.670314256405724, 0.3807365504703867, 0.6471305975595966, 0.7582623281169993, 0.7371373721523798, 0.618360559186414, 0.3833985667163886, 0.16825959214424369, 0.3443282337514355, 0.392105971010291, 0.28937354629346823, 0.6019666066370103, 0.6594437287918358, 0.6734501916563715, 0.5320758399608561, 0.7114319330636317, 0.6692526713545913, 0.5673913831001708, 0.7717042254783864, 0.5299691728408192, 0.6199890973007821, 0.3581873105212843, 0.6776571055495176, 0.792387349066838, 0.7503836060799265, 0.6005512796417704, 0.39786987298904897, 0.14983473385485135, 0.3219781809644021, 0.3696450405992737, 0.30429264330675254, 0.6226482388635023, 0.6231977720412718, 0.6736757244881392, 0.521801374664025, 0.7036914467936631, 0.6886756215184, 0.5479593258160506, 0.7589855384745195, 0.5124634789696421, 0.6219670301829844, 0.3708444300406363, 0.6228720603492076, 0.7707287901212281, 0.7125525471696449, 0.5942985320599976, 0.4630446644897668, 0.12493220686899054, 0.2688207897883097, 0.41560178587670027, 0.29815152455748106, 0.6184920927391399, 0.6803968333182064, 0.6846609743668576, 0.5461364102213413, 0.7581187783963783, 0.6569405039222281, 0.5199892382126963, 0.7478561693064251, 0.4920834419807658, 0.6298315058553855, 0.3492228110748765, 0.6618950875979055, 0.7911048441541333, 0.7733047536021819, 0.5628868394578384, 0.4631369048499714, 0.1230648849264605, 0.23991651614338916, 0.3519195091694348, 0.3010159044480267, 0.6309533552195722, 0.6568717393853556, 0.6767923289747348, 0.5331514884031674, 0.7352819346595225, 0.6519811709293155, 0.5112176453840201, 0.7632682714659884, 0.541579361677403, 0.5797725657760154, 0.40321107348156104, 0.656635431543936, 0.7666503551396691, 0.7630663867410936, 0.591004568903545, 0.4388266227242621, 0.22312860680292113, 0.3771151807733719, 0.40583785401065053, 0.31857563135769396, 0.666459595561802, 0.647210070761924, 0.718542685745709, 0.5582308409503364, 0.6928855224439311, 0.7245616683974814, 0.49284592253029946, 0.7865439284753919, 0.5683217332163191, 0.6713225822396052, 0.3805594954700193, 0.6183049562175656, 0.7475424614981282, 0.7006714861739282, 0.7221062074636815, 0.41704453451924495, 0.14669992382258412, 0.2480679302611709, 0.29139945128421396, 0.17835323734902642, 0.5578911981299479, 0.5203055447188328, 0.5883129115876313, 0.4684233686788746, 0.5349410771867983, 0.6108135622676375, 0.3562630320158702, 0.6393560838967492, 0.4851930324878171, 0.6085660233432961, 0.3574335163785345, 0.454617036016576, 0.5685551351188997, 0.5353414585020977, 0.6440261075140342, 0.4446948802325661, 0.1992601525295259, 0.32078403833302316, 0.357518445209422, 0.3273339319898516, 0.6317257604259111, 0.6123233166300687, 0.7065379507925966, 0.5227106623201282, 0.6975310580379478, 0.6381581700471666, 0.45975423652762504, 0.7534652778677126, 0.5435487529391677, 0.6470551686688885, 0.33117598179884, 0.5962944026693198, 0.7220393786742889, 0.7421151792590575, 0.6450727378464146, 0.3533666641154647, 0.21310587048468033, 0.3799818959840653, 0.3955572156559979, 0.35738892710444903, 0.6099767571192504, 0.6783113858478829, 0.7141268442372823, 0.549667152259538, 0.7390367075887552, 0.6809861007800578, 0.588709810812621, 0.8226811394859802, 0.5328105444960993, 0.5670005248577038, 0.3517640954070146, 0.710630048121922, 0.7990355064969875, 0.7785701164497993, 0.5986599989435677, 0.4144865943156102, 0.25129678609304684, 0.3389750772865334, 0.3788623588444109, 0.3491406093966425, 0.6772305906011604, 0.6691595785635626, 0.7760233688127313, 0.5856258638226916, 0.7358118277250988, 0.7085447142950089, 0.5366034466558545, 0.8084933584763391, 0.5107958969604983, 0.6278767800790492, 0.38751200329343716, 0.6472942558212567, 0.81986345340383, 0.7911096561362179, 0.6876785402220511, 0.4688066335742965, 0.1879358658953274, 0.291236320570992, 0.41720305391291945, 0.2763291961477323, 0.5931341460713354, 0.6665424568824639, 0.6305199174590383, 0.5506830709385835, 0.6934907344949635, 0.6754391431231379, 0.4838489105893119, 0.7261082267525435, 0.5310307028723498, 0.6051212411179947, 0.35495814730145725, 0.611958648700667, 0.7238006564211529, 0.7278808817875292, 0.5846780255424852]\n",
            "Textual_criticism\n",
            "##################################################\n",
            "index 28\n",
            "##################################################\n",
            "Article no  17  :  Architecture\n",
            "Arabic page exits !\n",
            "8\n",
            "570\n",
            "[0.3431911133382882, 0.6732264037320445, 0.5315677997818918, 0.8184426168439247, 0.6600273145857827, 0.8069938680904725, 0.6363539929342971, 0.5133098871618765, 0.5764412706712962, 0.48495451722668625, 0.4328165294559334, 0.30369979387680723, 0.06687684672714012, 0.40427378849132123, 0.20951545295384522, 0.3447493685193689, 0.561129580684775, 0.5807598952240182, 0.7001535363276555, 0.6130251899354721, 0.6904284564332446, 0.6607602786587968, 0.5776040770864732, 0.5731654085450466, 0.5418953095940384, 0.47094137442163597, 0.22221469696953844, 0.041747678040724434, 0.28646283554223984, 0.17808444335846718, 0.30335691925832253, 0.53266392711646, 0.547156787920995, 0.6703538227378113, 0.5563842641420766, 0.7349956014347663, 0.6445478506636206, 0.6854882176580684, 0.6569551429943981, 0.6289445250810813, 0.45641441481695366, 0.17379045046715091, 0.07833059792335229, 0.20561834865515438, 0.15941863158579572, 0.20085418068627903, 0.4919003596590328, 0.48930664550846514, 0.5280143981274275, 0.5107927808507073, 0.5936056682210936, 0.6030021318763565, 0.48717422648325504, 0.5682592956664502, 0.535176020832366, 0.39555886973034227, 0.15860827988105541, 0.0836927167606184, 0.2516283566332208, 0.09676094455488227, 0.15199716665661356, 0.5199084670317263, 0.4451403301495308, 0.5490446133024621, 0.48844469419875414, 0.6233807867045699, 0.5936835417406947, 0.5664856223134663, 0.5817446218559874, 0.5370169715760473, 0.37441411347042197, 0.274654083835173, 0.1627958753979356, 0.33488866443303544, 0.19398682086825558, 0.3248563248873445, 0.48064553236177576, 0.5269365766381733, 0.698893581125886, 0.548521896054629, 0.7277640720240858, 0.5816124606066684, 0.7026546258007997, 0.5583259817884533, 0.5478280790706369, 0.3909194081453302, 0.1849285694054863, 0.04866787338404244, 0.16761964047161482, 0.126889075772864, 0.20302188079631944, 0.49880281483886724, 0.5429153634748104, 0.6423248883783189, 0.5010815403931999, 0.6237463916358214, 0.6802479588110016, 0.5952348307513808, 0.5197088479315388, 0.5010481583478208, 0.34435048714011873, 0.2279506725319138, 0.06458780812340126, 0.26423540486252484, 0.14508277585002538, 0.36565151301899423, 0.4840501318796242, 0.5231378469913224, 0.65442552115168, 0.5431123578455413, 0.6866745045594713, 0.5057146527892068, 0.6538857847023064, 0.5158120476806486, 0.5157095672972193, 0.4015856310213213, 0.13190080802311377, -0.0012986571609621134, 0.11482920840183486, 0.0913407378971488, 0.24797053096529886, 0.6318288153895742, 0.4337295079051324, 0.7212244801886184, 0.5542533977954187, 0.7195786928595601, 0.5196302801263548, 0.5127995100683648, 0.5832321632598958, 0.4654785100329524, 0.3113263701397434, 0.2446447190031067, 0.0878808924957436, 0.3499166102607211, 0.16506352080543363, 0.3985666334629059, 0.579590420993511, 0.44725894927978516, 0.7915416865148049, 0.6135583638284369, 0.7768649553211906, 0.5607458757714381, 0.5884672347967945, 0.599385412916836, 0.5082957900803712, 0.35141268704371076, 0.24304430186748505, 0.10878656804561615, 0.28024473786354065, 0.1913978010416031, 0.35459068417549133, 0.6864073399944923, 0.5065785050392151, 0.7761047004012339, 0.6853972343425179, 0.7938090260272034, 0.617588310486111, 0.5992597831188242, 0.6229894038293707, 0.5445559897214289, 0.42816218176247434, 0.2613908350467682, 0.07413090765476227, 0.35389962792396545, 0.18945421278476715, 0.29396554992705415, 0.49343999097072855, 0.49818816686647505, 0.6591641936931837, 0.587179684859823, 0.7339990184898131, 0.5763943032320095, 0.6702937041062292, 0.6944659131213352, 0.6250601110993316, 0.362010909239579, 0.19360179534261523, 0.07803547376934983, 0.2131173254460329, 0.16313401624079094, 0.17250247299671173, 0.5860467747017524, 0.4455581307411194, 0.6232697609907263, 0.52816063003497, 0.7177320690165003, 0.5377886262428783, 0.5461594953885944, 0.7217934681187838, 0.5324063213536587, 0.3408148722756196, 0.2502206265926361, 0.10001145303249359, 0.30824214220046997, 0.21762585639953613, 0.1616866858710504, 0.3996499636689481, 0.3533882627690106, 0.3862931569868465, 0.4066319190475213, 0.42675451879735693, 0.482618571449986, 0.3971549083194197, 0.5180464546049613, 0.4610117637474974, 0.3428985371602169, 0.2191002503421039, 0.12390651484720794, 0.2811824324837324, 0.17129688442501012, 0.27285811518410197, 0.6123814937379449, 0.4163007357668932, 0.6553388390049847, 0.5895166801495237, 0.7062710436311774, 0.5429128276768488, 0.5251263970164898, 0.6509800449305797, 0.5539290088565595, 0.3664040395260554, 0.18922726326914097, 0.07654487767772133, 0.2876168565426157, 0.14988823728420486, 0.17334866561194362, 0.5425105151568623, 0.3528363412920994, 0.5697978414512558, 0.5493267039990284, 0.6602921837218559, 0.5288464596355126, 0.48301661335092194, 0.7101948614165341, 0.5744347143282129, 0.30497894500087086, 0.20691347309831865, 0.13382206492078363, 0.30418859324553793, 0.17688916333548055, 0.1483520708247268, 0.5469323488030129, 0.35551415706537803, 0.5453625735454777, 0.5139054415458348, 0.6100008168236631, 0.49837143799998795, 0.4930465796201611, 0.6493433900330087, 0.5382851578951655, 0.29430214717924363, 0.2508942079118217, 0.17521976211182744, 0.30857777990000423, 0.23809279944690998, 0.2263704754317536, 0.5310049961810274, 0.5002152604733879, 0.6634921444108729, 0.5489228941858829, 0.7420966652012985, 0.6185054495784938, 0.6711369807892881, 0.6759714493676018, 0.6226819836939962, 0.4251736923834387, 0.23482961045488215, 0.12375186952189143, 0.27119662730046934, 0.22158379998954447, 0.47421401739120483, 0.6766568323433457, 0.4672333002090454, 0.8670519957442369, 0.6931597782853807, 0.7917912870659671, 0.5365426924331718, 0.5165273737159702, 0.475672687275711, 0.42408248557607586, 0.39486114051252574, 0.2819855809211731, 0.03351842239499092, 0.35687366127967834, 0.1715703010559082, 0.34917392899321575, 0.6148753789926178, 0.4505196399893421, 0.7405166764724099, 0.5434833027702048, 0.7703845362369536, 0.4767701144852201, 0.5808661742272824, 0.522599157815227, 0.4836084908608609, 0.4081218343633404, 0.19656095247542427, 0.05306470001922248, 0.2579444269311877, 0.15930187083630143, 0.30096010198411816, 0.5094061343573523, 0.5781801083115258, 0.6443643822582861, 0.5517446503571624, 0.7026899175089854, 0.6112955800047434, 0.6636929179873658, 0.560389398852631, 0.5313611852787383, 0.44383683697270127, 0.12472418150123743, -0.01860279640274043, 0.14103699805209646, 0.0584948425161691, 0.3667365312576294, 0.628053539853464, 0.4167068898677826, 0.6847054967412203, 0.6176224561913933, 0.6696776392594354, 0.5346468221870433, 0.46665375612506366, 0.5256202606217064, 0.4899927314805299, 0.3872200678138379, 0.26852700114250183, 0.07684320956468582, 0.34468311071395874, 0.21708860993385315, 0.30721762776374817, 0.5222623608262494, 0.4558584988117218, 0.6312781426602151, 0.5563707433181351, 0.6203940605941827, 0.5689662976536058, 0.5019380624687675, 0.5621479091026882, 0.46605080648101915, 0.36609293080164385, 0.22481335699558258, 0.06842853873968124, 0.2782304584980011, 0.17733611166477203, 0.2779862413584713, 0.4758578677854062, 0.44952714199919497, 0.6340427365143677, 0.5690113642630218, 0.6349567736347971, 0.6102712779514605, 0.503597354256272, 0.5583212289864004, 0.5362704493590073, 0.4021918315934687, 0.19480088039180588, 0.10996274583775223, 0.22766327979362022, 0.20680441498725766, 0.35393834114074707, 0.6193729507772628, 0.47613808512687683, 0.7389308580028293, 0.6273180480585822, 0.7412761035747105, 0.5679081716017819, 0.5617489964226297, 0.5652853489002136, 0.5385591335802926, 0.3582265941343058, 0.31552329659461975, 0.12336897104978561, 0.3830682635307312, 0.21314729750156403, 0.3460453619436824, 0.6576931359758276, 0.43222654539750605, 0.7739331034529962, 0.6530919740200696, 0.776855651100309, 0.5948096216285194, 0.5646693144615301, 0.5939548980754665, 0.5671472292565066, 0.4231808244007964, 0.3387326307274454, 0.1626389539471742, 0.4054090095225107, 0.2663776459634255, 0.26247870922088623, 0.3681940136422236, 0.3248465955257416, 0.5588389032300505, 0.5181506648539935, 0.5661117184586716, 0.48591294741990154, 0.4979609199813019, 0.5190238237435694, 0.5006099167118291, 0.3120638875664198, 0.1971997767686844, 0.10095422714948654, 0.19524157047271729, 0.18256381154060364, 0.374482661485672, 0.6130873458755406, 0.42921939492225647, 0.7646010285001804, 0.6829893752639048, 0.7408689886075699, 0.5653579058692898, 0.521857966964678, 0.5592853453146385, 0.4929974386381797, 0.3385986625048987, 0.234925776720047, 0.07174228131771088, 0.34671205282211304, 0.1557842493057251, 0.4100663925994543, 0.551583962173451, 0.4300293269917066, 0.7310718055096236, 0.6321984833699801, 0.727755441598688, 0.5741777388431899, 0.5804197695723703, 0.5832847460155068, 0.5735391003497006, 0.42526891964163116, 0.3348673336436506, 0.17560595833967096, 0.38011297098993957, 0.29475062319119383, 0.38217713234584694, 0.5763572199817875, 0.43725183071107065, 0.7755537028893955, 0.61251738782975, 0.7651346330475931, 0.5447654285243594, 0.5572323508635544, 0.5633903169556662, 0.5165783297855762, 0.3426472868298118, 0.2747055295465929, 0.12638496672691457, 0.321820987314536, 0.2436387945144357, 0.35805109861722695, 0.5770454555589514, 0.3274553105073468, 0.6719754872105557, 0.5589228824933117, 0.658128893829706, 0.4346961721413002, 0.4300866910130854, 0.45028508046608273, 0.408962341966149, 0.3197295213497473, 0.1813431931529661, 0.03357411257431964, 0.2736863523216191, 0.09235470427098547, 0.3378434577116767, 0.6644305677759199, 0.4536594838741981, 0.7592529569491355, 0.6595397939252093, 0.786114530295793, 0.5952934711201552, 0.5234211852444237, 0.6028804612729549, 0.5177564392069504, 0.3795306688356177, 0.2535302235960153, 0.09271240652368995, 0.361489061124747, 0.16148899734084188, 0.22192612554825242, 0.5189259964054956, 0.43548319098415145, 0.6580006217125776, 0.5649322723712323, 0.7206550001383172, 0.6024907182754481, 0.6708078981078014, 0.6570413466398757, 0.6301915465434743, 0.3756236312292066, 0.2173691186144795, 0.14600329838275228, 0.2287523640444018, 0.2208022241092058, 0.23801423609256744, 0.6748322435368864, 0.5060343146324158, 0.6851361150440027, 0.6299496626982762, 0.7086466713251689, 0.5515845903388545, 0.5328679574253314, 0.5458049416998708, 0.479036879503403, 0.4073683165413826, 0.30157920718193054, 0.07480727881193161, 0.38287344574928284, 0.1642439365386963, 0.30758248485305295, 0.6584978920433542, 0.4640288826896517, 0.7357710153957875, 0.6665493334781049, 0.7560278027753284, 0.6043286865198116, 0.5286019120287259, 0.5924764574970083, 0.5688004429688661, 0.40785434309653, 0.29956357574794124, 0.18072334194456907, 0.3927456519637631, 0.26163067301179144, 0.47065307336177864, 0.6503272764014149, 0.4797525832742482, 0.818411304157665, 0.6884451227572284, 0.7868940762948521, 0.5642054538116459, 0.6158867653106427, 0.5241987220782812, 0.5228387593001537, 0.4383296298487509, 0.29233924212647977, 0.07942584170113542, 0.3487126747836544, 0.18725513069003163, 0.40821976106853164, 0.6295242391800906, 0.4332867478963631, 0.776436943953617, 0.6892622397589898, 0.7524285745706263, 0.5684451488800587, 0.5461393054149608, 0.569948531951964, 0.5571069521623836, 0.41870748301224014, 0.34537504034464495, 0.1900011192202289, 0.4036459500436691, 0.26247439526340766, 0.2909296154975891, 0.6835275914014797, 0.3501652479171753, 0.7546246621949307, 0.6096546822613603, 0.7171887264150703, 0.48615162779531285, 0.4103702141176695, 0.5189803161119106, 0.45912377868130405, 0.3064721540209341, 0.3053942322731018, 0.09162933379411697, 0.441441148519516, 0.2161218672990799]\n",
            "Architecture\n",
            "##################################################\n",
            "index 350\n",
            "##################################################\n",
            "Article no  18  :  Cyprus\n",
            "Arabic page exits !\n",
            "big article sim\n",
            "##################################################\n",
            "index 421\n",
            "##################################################\n",
            "Article no  19  :  Jehovah%27s_Witnesses\n",
            "Arabic page do not exist\n",
            "##################################################\n"
          ],
          "name": "stdout"
        },
        {
          "output_type": "stream",
          "text": [
            "/usr/local/lib/python3.6/dist-packages/numpy/lib/histograms.py:824: RuntimeWarning: invalid value encountered in greater_equal\n",
            "  keep = (tmp_a >= first_edge)\n",
            "/usr/local/lib/python3.6/dist-packages/numpy/lib/histograms.py:825: RuntimeWarning: invalid value encountered in less_equal\n",
            "  keep &= (tmp_a <= last_edge)\n"
          ],
          "name": "stderr"
        },
        {
          "output_type": "display_data",
          "data": {
            "image/png": "[encoded data removed]",
            "text/plain": [
              "<Figure size 720x720 with 8 Axes>"
            ]
          },
          "metadata": {
            "tags": []
          }
        }
      ]
    },
    {
      "cell_type": "code",
      "metadata": {
        "id": "jCxmW9HUllnT",
        "colab_type": "code",
        "outputId": "80147d1c-e50f-4081-86ac-5b31aba6cb81",
        "colab": {
          "base_uri": "https://localhost:8080/",
          "height": 1000
        }
      },
      "source": [
        "#testing \n",
        "\n",
        "AQQAD_generators()"
      ],
      "execution_count": 0,
      "outputs": [
        {
          "output_type": "stream",
          "text": [
            "index 195\n",
            "##################################################\n",
            "Article no  0  :  Germans\n",
            "Arabic page do not exist\n",
            "##################################################\n",
            "index 407\n",
            "##################################################\n",
            "Article no  1  :  Qing_dynasty\n",
            "Arabic page do not exist\n",
            "##################################################\n",
            "index 5\n",
            "##################################################\n",
            "Article no  2  :  Spectre_(2015_film)\n",
            "Arabic page exits !\n",
            "1\n",
            "172\n",
            "[0.5494649191504404, 0.2626336700212961, 0.7673134483909321, 0.5403634670658208, 0.5159853418563396, 0.2543794586193162, 0.6405452347198315, 0.5772527998502965, 0.5141265865378545, 0.3942009844937304, 0.6416147983274556, 0.5170315526674957, 0.5488300674584694, 0.2846545791825039, 0.5565711055815687, 0.6308199152184724, 0.5316874779320252, 0.1482882548779394, 0.537990100491234, 0.6447002494270395, 0.5824231006934357, 0.1191479248641204, 0.5397570521235926, 0.6488171499600636, 0.5443882856126271, 0.2835241321856643, 0.5017733801031399, 0.6391244935492145, 0.5551641659399481, 0.26332055029200563, 0.51996286932537, 0.6523191458470603, 0.532562504770298, 0.35947945639830103, 0.6354816724321498, 0.5798799385772123, 0.39407145590040704, 0.4537720141005013, 0.5004844411081291, 0.4952107468837279, 0.4663970366015545, 0.43664765961026375, 0.5696781409739697, 0.5670896366210693, 0.5521199857066448, 0.343156790127611, 0.6277617550400961, 0.6395147658995316, 0.41342928542634116, 0.3703054009912272, 0.5126033587184847, 0.6114094182626478, 0.603753714724415, 0.2695649439072294, 0.6816203550489356, 0.5553242356646518, 0.5390851187516622, 0.3356377652188769, 0.6345447842968229, 0.5784827617902396, 0.4491180868229081, 0.3585674294626633, 0.5200919185256149, 0.44710604262530285, 0.5683933569981514, 0.25684253601589446, 0.6973364656183646, 0.5271758328382609, 0.50438721165177, 0.27646998506413856, 0.5759001123830308, 0.4932458950873668, 0.4980996400521318, 0.18631634224234905, 0.5317428535167112, 0.5256753450894993, 0.44563566706710656, 0.437605612309093, 0.5112313035015073, 0.5485410266806503, 0.44889093282547, 0.36237612685089293, 0.5082680864932925, 0.5224654908767699, 0.515593919498744, 0.29593370438865063, 0.46384753818573654, 0.4482042650802578, 0.49825773243984406, 0.28852403193944987, 0.522845253233475, 0.5080967784370487, 0.4723024473012587, 0.26766588210821407, 0.5732505589711293, 0.46225391326418164, 0.5218421098041888, 0.3949358179920912, 0.5761420292736882, 0.5707507475375908, 0.5274043291706366, 0.3791187864712986, 0.6843858290911797, 0.5285070456322729, 0.5107020172626351, 0.40783201235451283, 0.6345767370197901, 0.578144863586843, 0.4490761899268949, 0.4008729882719375, 0.5849525266572311, 0.5245554684767583, 0.5242523727737766, 0.3813369903696029, 0.6275562707566615, 0.48490798625481557, 0.32118914766820195, 0.44503373515321476, 0.41673220736758854, 0.43709826194742996, 0.5464437141584053, 0.35720958312938844, 0.6933974663807799, 0.5686631994772882, 0.46861003165641824, 0.37244923998831436, 0.5904838398827216, 0.5106073122916216, 0.26303680572084964, 0.3252647362074196, 0.40724809243800986, 0.331000372468943, 0.31247351970599035, 0.2711471908755849, 0.5026774743584643, 0.42135174357510274, 0.3869660587927122, 0.2811813538073431, 0.5396258664290147, 0.4911143363306356, 0.3888524837070402, 0.2977545542147606, 0.5364341057114876, 0.43366476780229624, 0.403621490183681, 0.3150116771364979, 0.5517350605372345, 0.444865442551466, 0.4555999376015736, 0.38699328370354624, 0.5547047537866405, 0.5417859069751766, 0.528599259580069, 0.3338639923700968, 0.6469470806626042, 0.5834844430457643, 0.5577517337571722, 0.28456634191942687, 0.6236303361807795, 0.6253603156526844, 0.5796304847504011, 0.21969567824220915, 0.6668898128194892, 0.568510038884346, 0.4395354501922053, 0.3701933798506538, 0.512352315518956, 0.6124210984107809, 0.5148133128734546, 0.3286574879889004, 0.6076344433118129, 0.5573994191337897]\n",
            "Spectre_(2015_film)\n",
            "##################################################\n",
            "index 87\n",
            "##################################################\n",
            "Article no  3  :  Ministry_of_Defence_(United_Kingdom)\n",
            "Arabic page do not exist\n",
            "##################################################\n",
            "index 301\n",
            "##################################################\n",
            "Article no  4  :  War_on_Terror\n",
            "Arabic page exits !\n",
            "big article sim\n",
            "##################################################\n",
            "index 196\n",
            "##################################################\n",
            "Article no  5  :  Southeast_Asia\n",
            "Arabic page exits !\n",
            "2\n",
            "52\n",
            "[0.24845513259658392, 0.6930891684892008, 0.22707711113848272, 0.6878663538961457, 0.13065520455696478, 0.7108449729029394, 0.042032198976034274, 0.5775672710198068, 0.1374822428789445, 0.6601827601898175, 0.05160706874493903, 0.5262475628050856, 0.07440108409283142, 0.6010330597452544, -0.01372287184616039, 0.4564208517341962, 0.2974475008980293, 0.7068145300931661, 0.3463353633976838, 0.6286100373991156, 0.1916253635394054, 0.586455205329939, 0.1986566414949058, 0.5939182020224293, 0.16537771805724577, 0.6457853045746433, 0.046240641053046594, 0.5426003021689563, 0.04637972724243411, 0.633142461973586, 0.08498631228293363, 0.5386166258587786, 0.12251525072477176, 0.6029646174370812, 0.2575293391966309, 0.8193510504422947, 0.1386281287498914, 0.7157083590107355, 0.12546233221874048, 0.7110463782423251, 0.12305134441783405, 0.6394689996351585, 0.13379114780656165, 0.6412374455717079, 0.10629833323277793, 0.48336794577844233, -0.059523621893720735, 0.45908227293270265, 0.015071962903527969, 0.5147888381389703, 0.1571979248699389, 0.5148493084048742]\n",
            "Southeast_Asia\n",
            "##################################################\n",
            "index 184\n",
            "##################################################\n",
            "Article no  6  :  Korean_War\n"
          ],
          "name": "stdout"
        },
        {
          "output_type": "stream",
          "text": [
            "/usr/local/lib/python3.6/dist-packages/pandas/core/frame.py:6692: FutureWarning: Sorting because non-concatenation axis is not aligned. A future version\n",
            "of pandas will change to not sort by default.\n",
            "\n",
            "To accept the future behavior, pass 'sort=False'.\n",
            "\n",
            "To retain the current behavior and silence the warning, pass 'sort=True'.\n",
            "\n",
            "  sort=sort)\n"
          ],
          "name": "stderr"
        },
        {
          "output_type": "stream",
          "text": [
            "Arabic page exits !\n",
            "big article sim\n",
            "##################################################\n",
            "index 119\n",
            "##################################################\n",
            "Article no  7  :  Imperial_College_London\n",
            "Arabic page do not exist\n",
            "##################################################\n",
            "index 158\n",
            "##################################################\n",
            "Article no  8  :  Sexual_orientation\n",
            "Arabic page exits !\n",
            "big article sim\n",
            "##################################################\n",
            "index 21\n",
            "##################################################\n",
            "Article no  9  :  Dutch_Republic\n",
            "Arabic page do not exist\n",
            "##################################################\n",
            "index 194\n",
            "##################################################\n",
            "Article no  10  :  Napoleon\n",
            "Arabic page exits !\n",
            "big article sim\n",
            "##################################################\n",
            "index 400\n",
            "##################################################\n",
            "Article no  11  :  Immaculate_Conception\n",
            "Arabic page exits !\n",
            "3\n",
            "88\n",
            "[0.7087598304167135, 0.7175696920301212, 0.7021200431079695, 0.6421275847761931, 0.7111872316262462, 0.7460681426173511, 0.7486622957408842, 0.706970487274296, 0.6752678158795477, 0.6646785016159089, 0.6832150763194668, 0.6184897549319662, 0.6978672316717057, 0.7087621422380828, 0.7448046663188487, 0.6869287775365962, 0.6973522221079645, 0.7350083417794042, 0.7373953921405809, 0.6748138546411112, 0.7090439700839356, 0.7468908671442176, 0.7561582336796826, 0.7003676146609865, 0.6832971853439671, 0.737931202812305, 0.7357863249116162, 0.6778245700668599, 0.6437602439391066, 0.6860258328107367, 0.6940042235162047, 0.641930334854724, 0.6517617073071007, 0.6715027077551946, 0.707767399613951, 0.6481080551252705, 0.6498905277857043, 0.6571524476275229, 0.6664700383117119, 0.6487566733916126, 0.6608607494121286, 0.7107594438738862, 0.7106689937618633, 0.6707817327389547, 0.6736729046491793, 0.6982452356902773, 0.7208671876319843, 0.672437568944316, 0.5742530158738638, 0.6200235226600482, 0.6416222594847404, 0.6159915296610697, 0.7106419763911589, 0.7595373073633623, 0.7402616127708518, 0.68326529759155, 0.6708485377177678, 0.7171399906171844, 0.7083701329940519, 0.6672013099347078, 0.6902570491516146, 0.6874620650582296, 0.6962133306649707, 0.6553305602568761, 0.6739042539969429, 0.7132725830200254, 0.7151491334587503, 0.6598890152994956, 0.7069631846538004, 0.7502249052332765, 0.7653318853476881, 0.6963607950542614, 0.7213566949281266, 0.7622883631175827, 0.7653532360550338, 0.7158482714724105, 0.6581018016887594, 0.7228353007099758, 0.6994184962911791, 0.6668584842467956, 0.6516304712437118, 0.654153243709954, 0.7144746426254371, 0.6044142902696047, 0.6496458317297399, 0.6557792607679866, 0.645731411582889, 0.5789983762781641]\n",
            "Immaculate_Conception\n",
            "##################################################\n",
            "index 131\n",
            "##################################################\n",
            "Article no  12  :  Military_history_of_the_United_States\n",
            "Arabic page do not exist\n",
            "##################################################\n",
            "index 206\n",
            "##################################################\n",
            "Article no  13  :  British_Empire\n",
            "Arabic page exits !\n",
            "big article sim\n",
            "##################################################\n",
            "index 260\n",
            "##################################################\n",
            "Article no  14  :  Supreme_court\n",
            "Arabic page do not exist\n",
            "##################################################\n",
            "index 365\n",
            "##################################################\n",
            "Article no  15  :  Modern_history\n",
            "Arabic page exits !\n",
            "big article sim\n",
            "##################################################\n",
            "index 292\n",
            "##################################################\n",
            "Article no  16  :  Royal_assent\n",
            "Arabic page do not exist\n",
            "##################################################\n",
            "index 309\n",
            "##################################################\n",
            "Article no  17  :  Paris\n",
            "Arabic page exits !\n",
            "big article sim\n",
            "##################################################\n",
            "index 428\n",
            "##################################################\n",
            "Article no  18  :  Police\n",
            "Arabic page do not exist\n",
            "##################################################\n",
            "index 118\n",
            "##################################################\n",
            "Article no  19  :  United_States_dollar\n",
            "Arabic page exits !\n",
            "4\n"
          ],
          "name": "stdout"
        },
        {
          "output_type": "stream",
          "text": [
            "/usr/local/lib/python3.6/dist-packages/scipy/spatial/distance.py:720: RuntimeWarning: invalid value encountered in double_scalars\n",
            "  dist = 1.0 - uv / np.sqrt(uu * vv)\n",
            "/usr/local/lib/python3.6/dist-packages/scipy/spatial/distance.py:720: RuntimeWarning: invalid value encountered in float_scalars\n",
            "  dist = 1.0 - uv / np.sqrt(uu * vv)\n"
          ],
          "name": "stderr"
        },
        {
          "output_type": "stream",
          "text": [
            "256\n",
            "[0.6417304524694859, 0.7297043077071379, 0.633216786293836, 0.559892394360934, 0.7436668084253591, 0.6223299307680392, 0.6681842928384658, nan, 0.5218709158139218, 0.561975167042519, 0.6067503660239959, 0.535475302545299, 0.7043931472151673, 0.5994736316102681, 0.5962201268941343, nan, 0.49496812364446097, 0.6218663010938051, 0.5475353964776813, 0.48398896448841966, 0.7273935387514482, 0.5531248061494503, 0.623025779199549, nan, 0.5819665913821466, 0.6530649260047602, 0.6334622980815672, 0.4424893931913165, 0.7111695408125704, 0.5376215515721603, 0.6115379715877114, nan, 0.5191821361153663, 0.5331353167650842, 0.5281257139938599, 0.4168267768740622, 0.6691708961099638, 0.4942592142837746, 0.4959950220621019, nan, 0.5305483916268463, 0.6401167226022733, 0.5756887173798416, 0.5074196212252998, 0.7725169535747716, 0.5230283748520156, 0.5772232773632444, nan, 0.5120190164906263, 0.6749396272401444, 0.6495426758303621, 0.4931163087393837, 0.6715904247738985, 0.5764956013052223, 0.6196817696110395, nan, 0.5921397118714437, 0.6844875244303457, 0.6563854417866479, 0.49126539565786953, 0.7247489507884478, 0.6177657534727481, 0.651314973463505, nan, 0.5135378064999675, 0.6453040157228739, 0.6110875537443685, 0.37412729806468203, 0.6069002040425465, 0.5196053189294667, 0.5837290640820085, nan, 0.5020122150004993, 0.6206901077862661, 0.6109819940456273, 0.5808308332318888, 0.6878304548762594, 0.6418618170032947, 0.6917980282379321, nan, 0.477805506268975, 0.6868828303594159, 0.5844609218210376, 0.49356759025886754, 0.704572220460212, 0.5420760479803791, 0.635194400721216, nan, 0.5998759835013308, 0.6816536774359557, 0.6863552294992193, 0.4712148702851804, 0.7311282317790311, 0.568297706054053, 0.6367793951804019, nan, 0.606058322526473, 0.6880052887510443, 0.5607291470784244, 0.4507489788742627, 0.728180301968264, 0.5554333550329571, 0.5884735791309402, nan, 0.6007607347966347, 0.6814613163624663, 0.6839482003257451, 0.5220635930675513, 0.6503803237466032, 0.6228608240678801, 0.6337477705859023, nan, 0.576388396973388, 0.6834936154134273, 0.60856586441115, 0.5146045751610474, 0.7182966673620752, 0.5767692837739954, 0.6233350264735966, nan, 0.5081673877771313, 0.6147694030804186, 0.6388197172393972, 0.37867765869567915, 0.6574468932085877, 0.488194153860252, 0.5792493135258896, nan, 0.6200538926741628, 0.655152343162614, 0.658561988865299, 0.5786135354387139, 0.6759251907136165, 0.6555137610533993, 0.7068747867892344, nan, 0.545835774239391, 0.6358693860883035, 0.5951566444818294, 0.4671479436666135, 0.7673756959787082, 0.5532331760379013, 0.5751012891888596, nan, 0.4761077322525439, 0.6412939768053335, 0.5550726552141336, 0.5471377060587445, 0.6632488857782914, 0.5780189919691993, 0.6481924746353821, nan, 0.5210584345258883, 0.5510406121181893, 0.6659572530573418, 0.5289478156895604, 0.6484703655947709, 0.583698093845374, 0.6058567812807162, nan, 0.6391254726679226, 0.6785940647801998, 0.6998233604947702, 0.5740048111254444, 0.6269577561820817, 0.6767382468415071, 0.6807503606699005, nan, 0.5256487183838225, 0.7102302178348665, 0.5684590693113322, 0.4943752585546425, 0.7631135012544509, 0.5587295589563992, 0.6256032051854883, nan, 0.5271905767888506, 0.6062744708828878, 0.6943806932055115, 0.4336107887824462, 0.6532500397868419, 0.5466438464135995, 0.635156523650421, nan, 0.5533793828127614, 0.6872459100675266, 0.587602076566098, 0.39889615871895256, 0.7312270220333315, 0.5509827101332826, 0.623459080658626, nan, 0.49297770278063613, 0.5948065237538844, 0.6382092474213863, 0.5325466851012137, 0.6043217704491337, 0.6014390198700894, 0.6746831609776008, nan, 0.5339466800963488, 0.6407729201490124, 0.5983619886606203, 0.4610622710543947, 0.7111937153806513, 0.539840387948561, 0.6090595207123006, nan, 0.5615585037374987, 0.6044038007627073, 0.49458645926346334, 0.5019232305057915, 0.6334144610652548, 0.5044229825985894, 0.531769739420252, nan, 0.6110823302433284, 0.7070207063408387, 0.6433062111434468, 0.5516414239177299, 0.6978789758410074, 0.6521312561218368, 0.6675593087486069, nan, 0.6114499290214742, 0.7165832500664665, 0.6283874392595349, 0.5913455702069181, 0.7603111692303949, 0.6319242035153155, 0.6764850556778863, nan, 0.6041442769325057, 0.6739637691945931, 0.6635307603970693, 0.5783942285602438, 0.7131050838334049, 0.6778767436587493, 0.7025275694304218, nan, 0.5933422028730851, 0.6303026957546523, 0.6426998715214794, 0.5391209221802827, 0.6533977748865976, 0.6285298125628083, 0.6850047154491404, nan, 0.5313541245535573, 0.6389728963061627, 0.5473838878929206, 0.46157801936411946, 0.6192712813657321, 0.5632965324856263, 0.6551587279859155, nan]\n",
            "United_States_dollar\n",
            "##################################################\n"
          ],
          "name": "stdout"
        },
        {
          "output_type": "stream",
          "text": [
            "/usr/local/lib/python3.6/dist-packages/numpy/lib/histograms.py:824: RuntimeWarning: invalid value encountered in greater_equal\n",
            "  keep = (tmp_a >= first_edge)\n",
            "/usr/local/lib/python3.6/dist-packages/numpy/lib/histograms.py:825: RuntimeWarning: invalid value encountered in less_equal\n",
            "  keep &= (tmp_a <= last_edge)\n"
          ],
          "name": "stderr"
        },
        {
          "output_type": "display_data",
          "data": {
            "image/png": "[encoded data removed]",
            "text/plain": [
              "<Figure size 720x720 with 4 Axes>"
            ]
          },
          "metadata": {
            "tags": []
          }
        }
      ]
    },
    {
      "cell_type": "code",
      "metadata": {
        "id": "ILaomUS2mThg",
        "colab_type": "code",
        "outputId": "b1e3432a-e975-4557-94e4-5ef17082b7e4",
        "colab": {
          "base_uri": "https://localhost:8080/",
          "height": 1000
        }
      },
      "source": [
        "#testing \n",
        "\n",
        "AQQAD_generators()"
      ],
      "execution_count": 0,
      "outputs": [
        {
          "output_type": "stream",
          "text": [
            "index 35\n",
            "##################################################\n",
            "Article no  0  :  Warsaw_Pact\n",
            "Arabic page do not exist\n",
            "##################################################\n",
            "index 296\n",
            "##################################################\n",
            "Article no  1  :  LaserDisc\n",
            "Arabic page do not exist\n",
            "##################################################\n",
            "index 403\n",
            "##################################################\n",
            "Article no  2  :  United_States_Air_Force\n",
            "Arabic page exits !\n",
            "big article sim\n",
            "##################################################\n",
            "index 349\n",
            "##################################################\n",
            "Article no  3  :  Muammar_Gaddafi\n",
            "Arabic page exits !\n",
            "big article sim\n",
            "##################################################\n",
            "index 144\n",
            "##################################################\n",
            "Article no  4  :  Macintosh\n",
            "Arabic page exits !\n",
            "1\n",
            "294\n",
            "[0.6501519340827386, 0.7119581340968869, 0.70461013644432, 0.4755513052357132, 0.7463229423834423, 0.19097819891672962, 0.6861541993873219, 0.7620294079193088, 0.7578478842960135, 0.5779234808396785, 0.7925163659138931, 0.2306968108209334, 0.5802194915240988, 0.6295702346227894, 0.5965549464017066, 0.4327356723484743, 0.6381337589623495, 0.1084388343547833, 0.656773474405614, 0.7154316618790625, 0.7168822469138645, 0.5385889567235053, 0.7422924326517453, 0.21489811073506038, 0.6786216394281465, 0.7561854103103484, 0.7617287898872167, 0.5755993240073731, 0.7520274578496466, 0.20986206951227993, 0.6293220836249107, 0.6884531610705348, 0.6826247835203045, 0.4415379478555923, 0.7051892361982548, 0.19423434241015558, 0.6782945803615346, 0.7141955703019437, 0.700303272003011, 0.48628960125482235, 0.7498956373664216, 0.15403354641897438, 0.6951069342174919, 0.7653087769435739, 0.7537044921863972, 0.5745247927816707, 0.7731368646016595, 0.2013287264351986, 0.723129536173705, 0.7602212061199066, 0.7587742222071514, 0.6138383766551786, 0.7887725624828295, 0.2661946024438028, 0.6456470157861569, 0.7065629661274527, 0.7301473068570794, 0.48844362179261624, 0.7370542091192194, 0.19745213488762947, 0.634360647589956, 0.6509318989993327, 0.6365194234342211, 0.45573018473315907, 0.6819075046574671, 0.1491288169092586, 0.6067323678281679, 0.6638927218290417, 0.6841633080378464, 0.4870500610209658, 0.6785268412303063, 0.2174753742722817, 0.5693056839969247, 0.5706739555061092, 0.5637553685734553, 0.46977988655997527, 0.49477698086485455, 0.1763524420347452, 0.6948505619022016, 0.7630256892637929, 0.7097717573118164, 0.6083113119095026, 0.7761619340643198, 0.2405915221272512, 0.6316584587250309, 0.6479529138339362, 0.6664110605167904, 0.43469414591510414, 0.6874692613896297, 0.16247213774748748, 0.6586437066907449, 0.733745924997908, 0.7158195808960719, 0.5070483910619765, 0.7816604576122719, 0.18793157736649546, 0.6477919490218789, 0.7151852626371084, 0.7377494719135859, 0.5100696819486121, 0.7828482225134009, 0.22110240764338418, 0.6624461046106608, 0.7123886418707169, 0.6604253478590975, 0.46874512375471733, 0.822649190332865, 0.11767666149390288, 0.6519690999045243, 0.6827199179122687, 0.6581666153393481, 0.5204663339217178, 0.6794848895322769, 0.19186484108147694, 0.7094107301315113, 0.7439291332367166, 0.6893660505930204, 0.5401457195453053, 0.7551410132452703, 0.2544597800292101, 0.6204135784520272, 0.7098907584570731, 0.6752616762208797, 0.47950890395941825, 0.7439890678313471, 0.18664328287337528, 0.4873259475064815, 0.47922949384850255, 0.48905825999886665, 0.40030584218631826, 0.49296967890242893, 0.05995489327464798, 0.49077927494197937, 0.5581305311945467, 0.5535648815123981, 0.39383306325271517, 0.5160124743195174, 0.17028933655545564, 0.6078680958939447, 0.6831414446839472, 0.6860718399736203, 0.45622700001755634, 0.6703426604133984, 0.17974485395969653, 0.6558451417373105, 0.715092013153274, 0.6854926210349643, 0.47220581046187493, 0.752993544872322, 0.18311939252650156, 0.6467395065191569, 0.6991913478711665, 0.6904795339987648, 0.47805024951158837, 0.6987386755838255, 0.20699182087045498, 0.671051748006145, 0.7278501430256167, 0.7590359611987856, 0.5124835791940986, 0.7675284279079728, 0.18134578554897107, 0.7146303704656216, 0.7135332759625281, 0.6902436504713394, 0.5094905850873319, 0.6886535889762193, 0.20373685876222758, 0.6601737993533715, 0.7172168179589878, 0.7334560209523852, 0.48192219106545564, 0.7563120861915859, 0.1897821224545816, 0.6807499376623891, 0.7378699012038203, 0.7408861260254987, 0.5245145896859649, 0.7874742640422399, 0.20172050631841132, 0.67784464767312, 0.7521498605431561, 0.7170468237293673, 0.583982202258141, 0.7509918487716345, 0.26734037624488527, 0.6380814134744237, 0.6966824749014021, 0.7165098148692077, 0.509824803960793, 0.7245148314958868, 0.17016356970126734, 0.6385625751197125, 0.7326961374277705, 0.7025254561902308, 0.5362760683140181, 0.7295839121024741, 0.19168076507417664, 0.6120045791179646, 0.660020349324943, 0.6841532808318708, 0.43909627493285697, 0.7103308849006855, 0.12349316672946353, 0.6360159064884167, 0.6740299825061713, 0.6708031605483029, 0.4343747095263364, 0.7139585254015215, 0.13120311789623063, 0.6152971718239227, 0.6852107899015887, 0.6809744139034466, 0.4360453963815427, 0.7195369105195905, 0.16672241191988213, 0.6190211205224502, 0.7131518333163175, 0.7100629410600975, 0.46176013702740326, 0.7494004083552084, 0.20866354670481746, 0.6490060560265745, 0.7100452800682766, 0.7168674478364365, 0.5073740397567129, 0.7160449365793805, 0.19033159180939974, 0.6903579887919211, 0.7268367507716882, 0.7264238973051307, 0.5733369754307737, 0.7281426778551027, 0.26556515664681035, 0.6510812708863186, 0.6981041810174204, 0.6873074765806919, 0.44094890198018755, 0.7450577085827782, 0.17852515032604843, 0.6661716839983317, 0.702552698883387, 0.7012874108049497, 0.47523891733470747, 0.705972938240243, 0.13845216332442634, 0.6439787524187182, 0.7354110529979222, 0.7482483242323461, 0.5253161148978501, 0.7820944129138581, 0.24382376016410068, 0.6270388764318817, 0.7088057837927003, 0.6725829701677191, 0.45084230836459993, 0.7634143985173705, 0.10748390295282939, 0.6908874985937701, 0.74009306084791, 0.7526700506081696, 0.5130091252907931, 0.7694070504529882, 0.17714940197606666, 0.7004044524933396, 0.7553221927863539, 0.7339887436028566, 0.5586255754122116, 0.7913797453947156, 0.17664723609776656, 0.6522211027201849, 0.7251102070183282, 0.7408128027604164, 0.5271853340166104, 0.779634614246544, 0.1753130336831532, 0.6820140539702773, 0.7298043654657501, 0.730594682525223, 0.533509486756731, 0.767614830764571, 0.179948708599998, 0.6169869112435884, 0.6749766057201803, 0.7097487717185694, 0.47348939538707435, 0.7421034740037508, 0.19516823772440484, 0.6576802673077, 0.6910618147854755, 0.688505486760701, 0.46645317792879604, 0.7182770255015588, 0.1527189749661796]\n",
            "Macintosh\n",
            "##################################################\n",
            "index 135\n",
            "##################################################\n",
            "Article no  5  :  Biodiversity\n",
            "Arabic page exits !\n",
            "2\n"
          ],
          "name": "stdout"
        },
        {
          "output_type": "stream",
          "text": [
            "/usr/local/lib/python3.6/dist-packages/scipy/spatial/distance.py:720: RuntimeWarning: invalid value encountered in float_scalars\n",
            "  dist = 1.0 - uv / np.sqrt(uu * vv)\n",
            "/usr/local/lib/python3.6/dist-packages/scipy/spatial/distance.py:720: RuntimeWarning: invalid value encountered in double_scalars\n",
            "  dist = 1.0 - uv / np.sqrt(uu * vv)\n"
          ],
          "name": "stderr"
        },
        {
          "output_type": "stream",
          "text": [
            "448\n",
            "[0.7714992989185473, 0.6878415828161047, 0.6746145678391382, 0.6417330380067369, 0.56542948812393, 0.6174385575172024, 0.6633909433766214, 0.7022813109430125, 0.7428515739829653, 0.6773174039689603, 0.7287241962474874, 0.7091355313801844, nan, 0.21935015918223177, 0.7750384925968419, 0.6073084573401398, 0.6812900363687048, 0.48863404334528204, 0.5460556902627923, 0.621824665676291, 0.6399324448881639, 0.6406352189750117, 0.6257221821200564, 0.7034181211507405, 0.7376365709440902, 0.6499262623416893, nan, 0.3022528876999415, 0.7740635369757753, 0.6671827449838462, 0.6901510122989597, 0.5867153666036563, 0.5840795854138348, 0.6487367216809847, 0.6685561615425655, 0.6940298578867014, 0.7361783375470997, 0.6513512431166856, 0.7578614727468079, 0.6943095750464906, nan, 0.30647641203919807, 0.7484694660308343, 0.7178495609118528, 0.7533974357686073, 0.634864659997459, 0.6416781883709157, 0.6156491465770796, 0.6590956744559189, 0.7156515876277459, 0.6734174445473825, 0.7011294511512522, 0.750168868013009, 0.7587489006951387, nan, 0.2847525205470165, 0.6346989101493898, 0.7247850039381841, 0.735976952532456, 0.6746451320508174, 0.6746716530694845, 0.5618360441133857, 0.6704400229379119, 0.6491144360923649, 0.6052861426591732, 0.7761405715031179, 0.6518203529349952, 0.6974180118148933, nan, 0.20525042897422452, 0.7276192684251532, 0.6636355002758523, 0.682458902244686, 0.5714947772928476, 0.5814378590351482, 0.599455347064615, 0.6470880652827935, 0.6813348685763575, 0.64334215721122, 0.703236949205242, 0.7012228316238546, 0.6701996240641582, nan, 0.25092928658315805, 0.6863308732364388, 0.7090968835503318, 0.7447367999835667, 0.6473908277739331, 0.5952268779247322, 0.6299280829939148, 0.666357396314857, 0.7112453304933836, 0.6969852922703111, 0.7089033629202532, 0.7327174535727888, 0.7131002253906906, nan, 0.23999665783364976, 0.626562574411324, 0.6581371870227414, 0.6662860739718512, 0.6386438396840126, 0.5139183033715471, 0.5298140214745092, 0.5755614465318549, 0.6412336053241606, 0.5780034389888671, 0.7326930807168534, 0.6329967643281256, 0.6330804706575023, nan, 0.1862733317755979, 0.7064455949383128, 0.6127071073111728, 0.6754046091988014, 0.480159886410362, 0.5681006212819133, 0.6645905211704088, 0.6448859829527751, 0.6731123577326235, 0.7148380258729357, 0.7441543106512517, 0.764796522204842, 0.619790145721611, nan, 0.26653507326889325, 0.5627316856795466, 0.6652282061837737, 0.6770402687046486, 0.6831204671589938, 0.5399568368644869, 0.5433659897042407, 0.5708465382602638, 0.622339965268895, 0.5794642397297247, 0.6611570910199953, 0.6208451883635298, 0.6997489716493871, nan, 0.15385504718709353, 0.5909332641160433, 0.6544033551299673, 0.6690681019653104, 0.6209824331020709, 0.6322872825962181, 0.48685150491163065, 0.6197418872346857, 0.5827477182236266, 0.5526435297294113, 0.6236433231070796, 0.5786040982164388, 0.7043303741838245, nan, 0.20761559677192964, 0.6599406821742724, 0.5755165057192123, 0.6097821188063544, 0.5141897662524838, 0.5476509396315037, 0.550055664944993, 0.5883358113981465, 0.6316991333101052, 0.598589250504139, 0.6927403920556294, 0.6597346202252625, 0.6107455704748543, nan, 0.16644421188519987, 0.7468748046075674, 0.6780854815070266, 0.6803651306822855, 0.6018604530551462, 0.5557933552669436, 0.6637872620854289, 0.6626136355995547, 0.7216649468845686, 0.7619263749516906, 0.6504298769650572, 0.7392421664472728, 0.6632741911221111, nan, 0.241750933375952, 0.5281577001215337, 0.6537943193707932, 0.6940993840404556, 0.6009810780746493, 0.6001249893359649, 0.46543590849931005, 0.5874500927173187, 0.5610246078930147, 0.5318984587852562, 0.637631177307572, 0.5646045071321264, 0.6868304536604051, nan, 0.22887928456764117, 0.7524241494204785, 0.7206799294432162, 0.7410636067079122, 0.6155299498559852, 0.6247965452223629, 0.6361472756125626, 0.7142411025597738, 0.6788626471721997, 0.726366101242605, 0.6250907046553565, 0.70222558799293, 0.723961220619027, nan, 0.30513063408355323, 0.7444246609278969, 0.6727674473210209, 0.6781204733072448, 0.6022997761369753, 0.5741907578178307, 0.6536927082961853, 0.6656923592710993, 0.7134274160147843, 0.7080469757290675, 0.714886902387361, 0.7451280333320647, 0.6966648822033671, nan, 0.32034583547945705, 0.7811568988215802, 0.7055489623542612, 0.7337861422678426, 0.5722788921242656, 0.6208565679523538, 0.625606750559512, 0.6990165834694462, 0.717282317892736, 0.7163047900988924, 0.7349830261595589, 0.7525436468234457, 0.6758768705017444, nan, 0.3250350149573229, 0.5184117774925975, 0.6423946558399191, 0.6730017230634354, 0.5787298497972152, 0.6632626739006224, 0.4475452713390614, 0.6080578694201082, 0.5539652993821043, 0.5311881640106598, 0.6535259267332574, 0.5415436791794984, 0.6868131921335985, nan, 0.17751653357442554, 0.7401788938807295, 0.7445045364839319, 0.7471937477144952, 0.6993395114593464, 0.6456608388104922, 0.6495408531130834, 0.6976570968275896, 0.7314011953046163, 0.7478037699411688, 0.7429192392203082, 0.7403473706677545, 0.7469073445518011, nan, 0.26451472571561085, 0.6540833673603486, 0.7051000476878707, 0.724106203472978, 0.7027518456822205, 0.587773349092506, 0.5749420176903346, 0.6034507339711552, 0.6728836860228592, 0.6236717576668696, 0.7295293821399387, 0.6623695513172577, 0.7074580435240228, nan, 0.18647893758397682, 0.7113998742401997, 0.7444727240965031, 0.7547711225159925, 0.6668867785813993, 0.6413415499500977, 0.6827011231844399, 0.7369952402382971, 0.7369996220600441, 0.7634805005725477, 0.7082248476174471, 0.7429611242600561, 0.7355727344507355, nan, 0.31075906761399974, 0.6060116403022241, 0.6959211234392441, 0.7518113453017519, 0.6405803456651344, 0.6965666973082432, 0.5654332091632528, 0.6713067293069396, 0.6469137313637313, 0.6159820308367004, 0.6762682429990153, 0.6642826216198869, 0.7350768828522256, nan, 0.2667334218117823, 0.7361946801949093, 0.6452535734946904, 0.6919946829720045, 0.5509908720356564, 0.5576698213643859, 0.584473983308561, 0.6085910469631896, 0.6609929074855434, 0.6857828296277919, 0.698107295650429, 0.7411592025613322, 0.641726123037776, nan, 0.26615305597903416, 0.6206257545075518, 0.5876780188089303, 0.6553702714535764, 0.5063783051654649, 0.5194144219953832, 0.577351262932418, 0.6182172868314085, 0.6357783849111596, 0.602972071688291, 0.7574052770689838, 0.6655569204383032, 0.5735416892714652, nan, 0.2144734666047161, 0.668134848671983, 0.7381025770066459, 0.7595814311421801, 0.689950953870209, 0.6628454486557599, 0.6177999964598949, 0.6836217251961965, 0.7066786077296766, 0.6569112883799562, 0.728175749705611, 0.6689664763717803, 0.7367992138286462, nan, 0.2377051839911788, 0.7114772515994303, 0.6765788719793174, 0.6899009981383839, 0.610908104777761, 0.5933601184238684, 0.6428282861132006, 0.6611885522183195, 0.7095922852130212, 0.7257616290824052, 0.7712365538960434, 0.7434253166150886, 0.6807143157865064, nan, 0.2406383228714899, 0.6228711834061983, 0.6355775911173431, 0.6152039228457971, 0.6172222844230554, 0.5748531503521023, 0.6422411743195953, 0.6027530338169895, 0.6969962498661689, 0.681441563913552, 0.6493953907378393, 0.6691530121974705, 0.6432183330752345, nan, 0.22612653762916535, 0.7209370313838857, 0.6856404776537538, 0.7067013249515633, 0.6195729018886739, 0.5454957160953607, 0.6142862992740125, 0.6631860659911158, 0.677603794480366, 0.7028569475207932, 0.7009056205430565, 0.7176159553841008, 0.6918052881483506, nan, 0.2785804198867463, 0.686188095000048, 0.5827931102627147, 0.6207358294520177, 0.5393857806468999, 0.4136087788890357, 0.47961992628138495, 0.5431764068617574, 0.59120987003883, 0.586606810501131, 0.6513902840662669, 0.6096059699825991, 0.573775484587114, nan, 0.19625969320874237, 0.6741710052552433, 0.6359598461974162, 0.7332100686551767, 0.4974135433767236, 0.672092864756347, 0.5352109640974678, 0.6588005807637506, 0.601244964962631, 0.5650983808090871, 0.6584970237081497, 0.657430110144946, 0.6720803451747037, nan, 0.42616371249867635, 0.7730819072091102, 0.6885364148240316, 0.7287354203779408, 0.5703580712076163, 0.627461861432522, 0.6502063676869052, 0.6771674449491071, 0.7190032034175764, 0.7421850573731066, 0.7253587498476809, 0.762620171468385, 0.6875159885157431, nan, 0.3044220747343971, 0.6685837578886434, 0.6229654880529107, 0.6502256629345186, 0.5310840054564488, 0.5678556084301265, 0.5301724692409356, 0.5768873358548702, 0.611311198024942, 0.6108666069703443, 0.6926738939598518, 0.6557724299390572, 0.6150388848356054, nan, 0.17842347984904605]\n",
            "Biodiversity\n",
            "##################################################\n",
            "index 37\n",
            "##################################################\n",
            "Article no  6  :  Christian\n"
          ],
          "name": "stdout"
        },
        {
          "output_type": "stream",
          "text": [
            "/usr/local/lib/python3.6/dist-packages/pandas/core/frame.py:6692: FutureWarning: Sorting because non-concatenation axis is not aligned. A future version\n",
            "of pandas will change to not sort by default.\n",
            "\n",
            "To accept the future behavior, pass 'sort=False'.\n",
            "\n",
            "To retain the current behavior and silence the warning, pass 'sort=True'.\n",
            "\n",
            "  sort=sort)\n"
          ],
          "name": "stderr"
        },
        {
          "output_type": "stream",
          "text": [
            "Arabic page exits !\n",
            "big article sim\n",
            "##################################################\n",
            "index 228\n",
            "##################################################\n",
            "Article no  7  :  Electric_motor\n",
            "Arabic page exits !\n",
            "big article sim\n",
            "##################################################\n",
            "index 124\n",
            "##################################################\n",
            "Article no  8  :  Aircraft_carrier\n",
            "Arabic page exits !\n",
            "3\n",
            "102\n",
            "[0.7782762811692727, 0.4718150246441175, 0.6746638224444177, 0.7731868193524667, 0.5099302210250461, 0.723934210379236, 0.641181330922676, 0.4813896275247088, 0.6659823881133484, 0.7911035586260907, 0.4520453259378545, 0.4944579176031699, 0.7313825087581839, 0.4541861849804193, 0.5059112680635026, 0.8065190028674012, 0.4713139891530953, 0.5640214173004907, 0.7478607227397216, 0.4030558372741948, 0.62186701928168, 0.6959540960978907, 0.5089213173210012, 0.7337024070830391, 0.7738287567639722, 0.5045565761604697, 0.6997755929850933, 0.7690062796132224, 0.48696302604270136, 0.6694079016111475, 0.7598068534350915, 0.5110673098188905, 0.6948563380763257, 0.778698644780321, 0.4340403882996482, 0.5427545581582292, 0.8254557152230716, 0.4690238038954049, 0.581694483705373, 0.7486866232773323, 0.4500685964780968, 0.5313658296026991, 0.7932368166935423, 0.466362064265058, 0.5591459389224556, 0.7483400544854006, 0.5332420062320492, 0.7241288574661892, 0.6894025658365482, 0.4954328204527685, 0.656528092543983, 0.7543654090622472, 0.4880211430998256, 0.6677155040746261, 0.7453504644586594, 0.47369403407644795, 0.5675039801491888, 0.7887606609683252, 0.5035253203129082, 0.7084301287265738, 0.7446726182514378, 0.5407876175647106, 0.7688806835861898, 0.7279496009411873, 0.5235746802698207, 0.6772727982897222, 0.7834792702834608, 0.5444898047379608, 0.7113383743115864, 0.7025718593441854, 0.5016331348438604, 0.655870499060594, 0.787261224636969, 0.47502694969100956, 0.49811059980444805, 0.8096075342383323, 0.5022646643659282, 0.6509511294115045, 0.7629894156531958, 0.48082252654836544, 0.669885071768576, 0.6363315224969269, 0.5126643245874009, 0.6717697593964896, 0.6764967156969139, 0.4686357468471707, 0.6673317729778233, 0.6798270774721671, 0.40370826250091607, 0.464065791356731, 0.7701510016055758, 0.4453122941160339, 0.525950047010819, 0.5930023583371773, 0.496232215213094, 0.7126110771730728, 0.7433424454824661, 0.454439633280864, 0.685563305452633, 0.7579110349477696, 0.5406909695278228, 0.6855047639403037]\n",
            "Aircraft_carrier\n",
            "##################################################\n",
            "index 140\n",
            "##################################################\n",
            "Article no  9  :  Federal_Bureau_of_Investigation\n",
            "Arabic page exits !\n",
            "4\n",
            "405\n",
            "[0.6246225827598094, 0.6104515320875845, 0.680127649372988, 0.2238922964542891, 0.7411132274286929, 0.42555154919496263, 0.4665722742971765, 0.49399996958016024, 0.6796719345657547, 0.626661469676594, 0.6633564735562499, 0.5938288976711577, 0.24621272653267945, 0.7518870937200512, 0.520322758405759, 0.556962684713438, 0.5606058118065993, 0.7333584264641174, 0.6092492022020142, 0.6553733844894192, 0.604524208236952, 0.23333439819851143, 0.7430416739182464, 0.47696746939557455, 0.47400486087888294, 0.5349122678117283, 0.7130063010827362, 0.6409332416402349, 0.6581270268312613, 0.5985824453733649, 0.28950522785153365, 0.7517315788193591, 0.5323915876405603, 0.5820795495664547, 0.5813160548443753, 0.7036172401290848, 0.611023784793469, 0.6320511426894881, 0.6061008770806271, 0.32681622656053144, 0.5872724545757404, 0.5954896452267634, 0.5745511889035997, 0.6555819610319714, 0.684574194070859, 0.6465963122170487, 0.6608185741804294, 0.6093765977960153, 0.28524926681593166, 0.7404058597031539, 0.6436076831554545, 0.6264877695036416, 0.6607969088082407, 0.7095860529631725, 0.5798674303928383, 0.5832630343523454, 0.650988640549048, 0.3258853314464374, 0.6291272333875646, 0.472879915779129, 0.541906687101938, 0.5109782584644031, 0.6424588814468941, 0.5298996508524527, 0.5676760248674405, 0.6108932151233379, 0.21209286921143577, 0.5858039107849877, 0.3696505011468687, 0.44040837992145865, 0.4540361544868763, 0.6138311828813297, 0.6491213318861823, 0.7452807320170347, 0.6763430024896765, 0.30693578893464935, 0.7062076852529613, 0.596150442281645, 0.5592716205492814, 0.6506308772437503, 0.8026358988261472, 0.7164572778604753, 0.6326730603024675, 0.5506328925084615, 0.2633545685251142, 0.7849318622241591, 0.5617028713712212, 0.5173705134823381, 0.5356821287642868, 0.70279311538973, 0.6432326966663346, 0.6813977595298113, 0.6528266218206824, 0.33337556514400046, 0.7633461843087899, 0.5045784842743577, 0.5435743728787742, 0.5382137317096544, 0.7095284953067164, 0.6144714519161635, 0.6794330267039671, 0.6293591522105078, 0.24585853569947647, 0.758754765003224, 0.4580135977448354, 0.4597924250354586, 0.511928278339753, 0.7351453691916543, 0.618302088993873, 0.5912267359212788, 0.5139999558247638, 0.23819891586570274, 0.7817998989117204, 0.47026395142066635, 0.49508956367331924, 0.4441451593734349, 0.6481658061352471, 0.618125087935816, 0.701821609519797, 0.47415194397857197, 0.17479257445574103, 0.7409728659565549, 0.495222566259522, 0.49344754685016545, 0.5377642918887063, 0.7384030907655035, 0.6022147840116335, 0.6049358293370649, 0.5587453851883776, 0.17221279201680928, 0.6978527976464801, 0.47441449373905287, 0.4518288295751949, 0.551584851058581, 0.6518740824566273, 0.6710460810837726, 0.7070014303852432, 0.6015823503196811, 0.30238677242603174, 0.7441218917966236, 0.5642027407558772, 0.5985528216068926, 0.6331515655518192, 0.7402387216982527, 0.6417466142321561, 0.6569561683909848, 0.6502865025095717, 0.3219276664258861, 0.7584491475411673, 0.5276254420014078, 0.5389568277565301, 0.5775085977079383, 0.7130481453081435, 0.4804225739672373, 0.4913554144284529, 0.46794593115092864, 0.2944475182362959, 0.5062412166130735, 0.5577541318835444, 0.5559649919297801, 0.6078776930358415, 0.5300623910697121, 0.6041982864909463, 0.6333488265938219, 0.6098648349732996, 0.33010831050249745, 0.739172410572119, 0.5247718159813848, 0.5610948593905973, 0.5893770004790575, 0.6767997672245283, 0.6163138302152721, 0.6265620320501295, 0.5577476018241513, 0.34826957998216546, 0.7087760448242064, 0.5661861837374361, 0.5730166028112142, 0.546314749902909, 0.6611383433513318, 0.6334392833130471, 0.6255607893635301, 0.6626227054789837, 0.3816542020805268, 0.7218491988471898, 0.6159397733101896, 0.6336828085336473, 0.640464215772272, 0.662547552835368, 0.5153178159046373, 0.5181075192812227, 0.4179839278039441, 0.30581498120450845, 0.6417376891253007, 0.42870803311582817, 0.5816811132285264, 0.39855293958379345, 0.5037964368585212, 0.6406532849618034, 0.6296827290945164, 0.5809177523321778, 0.2550019110057131, 0.7999627686471118, 0.48400451513774945, 0.5134785758462386, 0.49521383826004595, 0.6831089193993425, 0.5228366412843556, 0.5615509632665763, 0.6124818724742399, 0.3292196235169086, 0.6192534626872619, 0.4259285260958662, 0.535612295436865, 0.4962403294428046, 0.6036207132212661, 0.6293884953156353, 0.6524145923496782, 0.546596037165431, 0.19962773949589885, 0.7515217336008465, 0.4529669449966972, 0.45299474277786744, 0.47218806407527936, 0.7280351082314324, 0.7008914291915904, 0.6791275579750272, 0.5600334507569542, 0.2328197426487112, 0.7154807320930341, 0.5844565266175293, 0.5366481921433984, 0.6061700999184036, 0.7173332783318296, 0.624792402392629, 0.6539436147212336, 0.5887886036963449, 0.282667223752891, 0.7610625764498338, 0.544972012517777, 0.5444771135489732, 0.5787172365724367, 0.70117022416994, 0.6151656802298774, 0.6649667244365925, 0.6427835223700319, 0.33410136787263267, 0.630380346902762, 0.5872339736115455, 0.5508902049617032, 0.6344663366835521, 0.7150085002136874, 0.6145356077100401, 0.6597140815115194, 0.6102873761943529, 0.26708724983778276, 0.7789564613607908, 0.48131149575408005, 0.505159346605006, 0.5320959896747735, 0.7261488991957079, 0.6613877637233971, 0.6745177246725713, 0.6931990757548475, 0.2752664616596391, 0.7459109707201044, 0.534046328424355, 0.555962227450754, 0.5859292181552156, 0.7435858211910454, 0.6326707878027623, 0.6431072495916779, 0.6333687032994639, 0.3175906918128728, 0.6607437231808924, 0.5360547582246613, 0.5679515908223333, 0.6169340402370939, 0.6755854778300383, 0.5864040301582709, 0.5861433225273501, 0.5291484092178638, 0.3123971656433192, 0.7256638696119797, 0.5007921328611156, 0.5635270339316193, 0.5305776063841893, 0.6360986807586908, 0.6900390982966359, 0.6169366394140453, 0.6377473173558095, 0.27713615624765087, 0.6545394389192725, 0.5146467836219797, 0.5301824163530441, 0.5512473217917234, 0.6513481362297238, 0.6804765077549766, 0.6978484686974104, 0.6240322417555315, 0.27073699207578017, 0.7356595046618611, 0.5681929130404275, 0.5285451121230232, 0.619844356445421, 0.751154765255423, 0.6215786824492577, 0.5995243907743172, 0.5391095028693585, 0.31514850956103824, 0.6137850122860367, 0.6533676645140539, 0.589482344276564, 0.6902388021287323, 0.6541717730830631, 0.5851997233366785, 0.6254093057083097, 0.5450038888577241, 0.31291660341738503, 0.7503943416924165, 0.4522020656771605, 0.5848740867857156, 0.47025728594534844, 0.649318295105853, 0.6303597466101647, 0.6125137530048297, 0.6811538830845361, 0.3458193384071895, 0.673962352197158, 0.5400891441460095, 0.5790638130336396, 0.5667442648453874, 0.6856460155869836, 0.6607634824061396, 0.6733458750166663, 0.6487944844687397, 0.28472933794212363, 0.7839603139010597, 0.4543669552316191, 0.4856132545000611, 0.48635310466152415, 0.7178645496648082, 0.5227722657589091, 0.5408840997715141, 0.4373886231948485, 0.2556800744359027, 0.5143461238274049, 0.8126526476309016, 0.6463071892321245, 0.6799479930252751, 0.6198555080453664, 0.6287019523795756, 0.7428417882716983, 0.6219552504360707, 0.2813801314758848, 0.6901644843175531, 0.5834388195702361, 0.5259343709568347, 0.5995601219440616, 0.8366837150779923, 0.6263397391311551, 0.6119711220504429, 0.5555666845506219, 0.25798276998694414, 0.7225836698902529, 0.5310542568977391, 0.5615828333599661, 0.5855142123375179, 0.6706463615868183, 0.6599125246193795, 0.6432487013641298, 0.6258487851799743, 0.3053991851744997, 0.7951537168023591, 0.5682264139033409, 0.5643917502849315, 0.5775602119862101, 0.6983238544031561, 0.5880867518092688, 0.602625239900081, 0.5328560641401486, 0.2824768012645704, 0.6868123772907202, 0.4862303368658507, 0.5931795982550018, 0.5162612666869498, 0.6246110926645037, 0.6183141161779985, 0.6468894903447777, 0.5906255895139505, 0.3442322793445709, 0.7745231011283172, 0.5150345877105424, 0.5485605837041045, 0.5270821755447485, 0.7008764724922117, 0.6283115102510757, 0.6418413853507027, 0.5799175487772935, 0.20655803256360428, 0.7473135701582468, 0.4764204403962904, 0.5127446980905324, 0.4845939569776947, 0.7040195928920958]\n",
            "Federal_Bureau_of_Investigation\n",
            "##################################################\n",
            "index 121\n",
            "##################################################\n",
            "Article no  10  :  Emotion\n",
            "Arabic page exits !\n",
            "big article sim\n",
            "##################################################\n",
            "index 319\n",
            "##################################################\n",
            "Article no  11  :  Palermo\n",
            "Arabic page exits !\n",
            "big article sim\n",
            "##################################################\n",
            "index 175\n",
            "##################################################\n",
            "Article no  12  :  Bill_%26_Melinda_Gates_Foundation\n",
            "Arabic page exits !\n",
            "5\n",
            "105\n",
            "[0.002796286141880322, 0.6855689117317489, 0.6431798268651963, 0.5553546727509382, 0.5213343696708626, 0.14813001714310614, 0.680068780062872, 0.7445910753853335, 0.5785755316463537, 0.7512480983949081, 0.06789668541594152, 0.5526026915807623, 0.5642964006225746, 0.39297067476211023, 0.4560169141092464, 0.03458226784667917, 0.6995885417646539, 0.6319135373543812, 0.53695255998084, 0.49996762231612846, -0.04043769362691685, 0.5470141232688877, 0.5000116608277034, 0.34548398083381904, 0.36955178990282034, 0.015955620699545703, 0.6323710948098223, 0.6613202218757852, 0.5047954912947135, 0.5048732379105595, -0.07440917278672377, 0.5639590445493452, 0.6242811478410195, 0.4586994759776639, 0.4254127621174948, -0.01140017736991461, 0.5887384597977641, 0.5502864518594267, 0.3513104660590114, 0.4188136593324231, 0.07245819775516071, 0.5392952976107026, 0.4506798011840967, 0.301248559532177, 0.36482755727508986, 0.07710545336928121, 0.5782331448308703, 0.518146881887247, 0.342039827856645, 0.4990421334701969, 0.034447862659170325, 0.6115759486299223, 0.6372906242282632, 0.4562237865595721, 0.5124683986866122, 0.09348158711144317, 0.5409217865624332, 0.5613042017525455, 0.35836861098818007, 0.5228969703777072, 0.09955858461538525, 0.5279357919068987, 0.4802952574585515, 0.32140424636033704, 0.440797360776069, -0.03360661750605454, 0.5555975773491935, 0.54215599506617, 0.3910471314145916, 0.4157111714658819, -0.039169517657226205, 0.6109913714915872, 0.6601323438621541, 0.5550625009258748, 0.4573244592448068, -0.021394751249547372, 0.557310229654179, 0.5729284669307276, 0.37335738178491207, 0.38035095265206453, -0.022087349656007893, 0.5887090259638286, 0.5822378749014813, 0.42862732697231243, 0.44378673881537123, -0.03478163147128699, 0.5406761925632391, 0.5403581680691609, 0.37847381577857364, 0.37486153118385723, -0.044281322532757406, 0.6000111000841001, 0.6425405665748167, 0.5002728600422742, 0.46464877237387725, -0.050363870225849094, 0.4835989941380201, 0.49480218784798824, 0.33798816905668505, 0.29475033250670046, 0.04931634949608288, 0.6097979616953316, 0.6697642174822415, 0.511826742042259, 0.5161661569436947]\n",
            "Bill_%26_Melinda_Gates_Foundation\n",
            "##################################################\n",
            "index 14\n",
            "##################################################\n",
            "Article no  13  :  2008_Summer_Olympics_torch_relay\n",
            "Arabic page do not exist\n",
            "##################################################\n",
            "index 79\n",
            "##################################################\n",
            "Article no  14  :  Virgil\n",
            "Arabic page do not exist\n",
            "##################################################\n",
            "index 399\n",
            "##################################################\n",
            "Article no  15  :  Tuvalu\n",
            "Arabic page exits !\n",
            "big article sim\n",
            "##################################################\n",
            "index 300\n",
            "##################################################\n",
            "Article no  16  :  God\n",
            "Arabic page exits !\n",
            "6\n",
            "384\n",
            "[0.9053431392845155, 0.8467668342316741, 0.6028560656694263, 0.7299413246996656, 0.7105625443513135, 0.7163032189555053, 0.8141967041021443, 0.681761006869394, 0.6894260234184294, 0.7316388681764014, 0.7301390441333939, 0.7326454239487376, 0.7062817736802283, 0.6281884082106564, 0.7816526949736328, 0.7996045329832419, 0.8514391224413778, 0.8340011291615211, 0.6162377918700513, 0.6685679349695371, 0.6354030402911321, 0.6813383815154901, 0.7854557772516833, 0.6897159261460187, 0.665233881368575, 0.7363538082815705, 0.7391153615084091, 0.7433182590944952, 0.7095453355789652, 0.6090525529158719, 0.7650217574729665, 0.743499092294015, 0.8479213893321074, 0.7800029184992028, 0.6748278460225167, 0.7451915207417379, 0.6593575869539533, 0.667931753847929, 0.8115067457073443, 0.6639754401140495, 0.6528275280524192, 0.6382455115329432, 0.63523195454881, 0.7027143369615995, 0.673860165073906, 0.5892703529056217, 0.7386609863614008, 0.7319257316659649, 0.7544643865326995, 0.6781656798030224, 0.5924021196560263, 0.7138779879295959, 0.6657367986343486, 0.5953208961802727, 0.7238359147803081, 0.5195825406964105, 0.5526805089206163, 0.49934118354810786, 0.5159327277148409, 0.5267962274702459, 0.5565601958489059, 0.47506147690668254, 0.5839535193122364, 0.6502368691798773, 0.8355329721784388, 0.7371697585554089, 0.6170217211840943, 0.7502066296511462, 0.661913724726166, 0.6183890616318545, 0.7721391578660034, 0.6002570639312588, 0.6219086653744947, 0.5849416613266188, 0.5853439672511686, 0.6248535724108994, 0.6354155925806869, 0.5270278060136581, 0.671897332757361, 0.7194547767066743, 0.84277986056685, 0.7773724062137217, 0.6713101871339467, 0.6833936254564015, 0.5738366773994132, 0.6345470674013399, 0.7756861042734639, 0.6420366208481348, 0.6107819008701242, 0.6476222110858619, 0.6253361479876689, 0.6775553777532963, 0.6842410445766118, 0.5429817026604794, 0.7164706196800762, 0.7541546650984423, 0.8703612957608746, 0.8629746675896559, 0.6210836111117032, 0.7409131736909579, 0.6655903136522717, 0.7369573369784882, 0.8435616727289306, 0.7157250999489144, 0.712776362667129, 0.7803185750882051, 0.762192257065109, 0.7582297278629093, 0.7354091994490873, 0.6713195037475441, 0.7996166478116293, 0.7877372466436037, 0.8807992211776479, 0.853319913476938, 0.6093762595167588, 0.7115935839049997, 0.6183519562081569, 0.7110192829521031, 0.8171403839176746, 0.6977588913629847, 0.6821199868683496, 0.7769313562822606, 0.734294277774481, 0.7607180125175248, 0.7602490002478893, 0.6258788736777303, 0.7925843601183616, 0.8143614950416176, 0.8676521363727085, 0.8601125453435686, 0.5857987980828132, 0.6907018022475204, 0.6136235427316974, 0.7234052337602573, 0.7976794486327777, 0.7007866531549394, 0.7126137123641363, 0.8091600060671951, 0.7735087440980771, 0.7540949001526059, 0.7390550853488114, 0.6387944924883074, 0.8045716605804881, 0.7877035183228367, 0.8334486926316237, 0.8158809224269126, 0.6518073579439877, 0.7036733360375295, 0.5960180227031278, 0.6766243116518229, 0.8102720196312048, 0.6650633831700847, 0.6582817419099227, 0.7194639858158355, 0.6840425305798556, 0.718128020263939, 0.7143489147049011, 0.5861222263788661, 0.7588158247738588, 0.7760701995222278, 0.839036473373016, 0.7813053689647053, 0.6195366231836914, 0.6806827245724257, 0.6014725908854224, 0.6504214905975241, 0.7743899542230706, 0.6245028105785952, 0.6197293747230382, 0.6659156938142476, 0.6549341560342096, 0.6527036624577186, 0.6885710548185054, 0.5555549688724065, 0.7236620779402408, 0.776660257825264, 0.759297662188369, 0.7604295858126966, 0.5581208087846826, 0.5916917859099626, 0.5187476747218237, 0.6376739328772432, 0.7355981929895465, 0.5810071575179395, 0.6090167237302613, 0.6727485947321145, 0.685713872642346, 0.6235526524000037, 0.6394822521398735, 0.5335228013265104, 0.7257089538786758, 0.7178682642246733, 0.7845383557729061, 0.780311387190327, 0.5969413489022645, 0.6420773113633326, 0.5557679554024205, 0.6538276822542894, 0.764377781614939, 0.6074788689796949, 0.6320663598351366, 0.6690616358455597, 0.6726571548350169, 0.6541601612009843, 0.6621389792680937, 0.5575859615224869, 0.7301075507608538, 0.7629451668895243, 0.7815852560643517, 0.6937851856437343, 0.6291432519038291, 0.5944831019340678, 0.5055867830062101, 0.5861973020907825, 0.7040080527903426, 0.4953117672280578, 0.49268320488348794, 0.5519340564746743, 0.5054115369674446, 0.536517729932029, 0.5803454885326104, 0.42272545053232446, 0.6385366786250305, 0.7459160978940539, 0.7048387834983133, 0.6387032473313383, 0.5749086294851337, 0.5391626439277935, 0.44446505538097725, 0.557686607696154, 0.6524739225713986, 0.4336618107120489, 0.4392140655279051, 0.47926302022796197, 0.4646881172083519, 0.48029490226889127, 0.5249036794067645, 0.35798303665054987, 0.5822825265647148, 0.7021363151940866, 0.8438326659502666, 0.8141452860375451, 0.5894853216043823, 0.669613848358751, 0.588398976985299, 0.6879720222247183, 0.7874377751704743, 0.660865210708526, 0.6669810540289222, 0.7609299864744784, 0.7240744504477173, 0.7242189952020253, 0.6925612431544422, 0.6233139535627675, 0.7472479391221661, 0.7849806115254315, 0.7904611886316648, 0.7409899881184584, 0.6063855796166637, 0.6044340920685188, 0.5429087737820346, 0.6111186955336522, 0.7282565949313178, 0.528374524943595, 0.5455433564768735, 0.5894099384119286, 0.5720369938794582, 0.5711177728142546, 0.6160949802400671, 0.46306897578275064, 0.6623212050041052, 0.7254333175905158, 0.7520732194133739, 0.7900762986762742, 0.4672624066743736, 0.590159159355628, 0.5338666619394429, 0.6882883319288514, 0.730481674570868, 0.5915706665481932, 0.6357771193741467, 0.7499907235982748, 0.7284591518946592, 0.6496963655341926, 0.6412514252985583, 0.5586554277205069, 0.7065958955861837, 0.7190347766867027, 0.8076677946586724, 0.706973833587835, 0.64269458075946, 0.646442185487235, 0.5287465690622454, 0.5601598599471781, 0.7213198057644339, 0.5818869149689727, 0.5355996297897361, 0.5774546152507903, 0.5380830112305154, 0.6212936534145282, 0.6246671905769705, 0.4870243772976619, 0.6720019051528761, 0.7145883907581612, 0.8455156245323525, 0.8025809707772211, 0.6197580004866127, 0.7171909119688087, 0.6162617024964288, 0.7045199116784775, 0.8145294100992119, 0.617765364489168, 0.647917941934892, 0.6758930356090013, 0.664303970441284, 0.6628175774205559, 0.6724678714181508, 0.5650309442822199, 0.7722544094558771, 0.7955389760331227, 0.8514752013684856, 0.8472464008983216, 0.5882582090364176, 0.7078150518407713, 0.6110344968060436, 0.7120486326030191, 0.8100992082822005, 0.6828700076774215, 0.6956480445665859, 0.781369473056995, 0.7411698472635967, 0.7435698113497393, 0.7345928159575162, 0.6259811801115038, 0.8018275969719323, 0.8071762824592631, 0.821348361851756, 0.7744582048863627, 0.6139819310146533, 0.6603471467367936, 0.5452960643789964, 0.650598342073274, 0.7701866119287837, 0.5763899096151347, 0.5869129721683201, 0.6643181904811792, 0.6306262546095963, 0.621711326827704, 0.6494497429184127, 0.5192723618810715, 0.7066730046961726, 0.7668016935331121, 0.8083224860312813, 0.8082893820982365, 0.6008089470148985, 0.6739882928295317, 0.5906990269853185, 0.6749039861827328, 0.7302015082714461, 0.6814755205630884, 0.6625525650612365, 0.7373786798605119, 0.7068514334060997, 0.7538689373416108, 0.7475018871953311, 0.6209295655106837, 0.7413877164930264, 0.7636467045326721, 0.7754907307574964, 0.7896836429401323, 0.5981290335364018, 0.6616852051576129, 0.5653482561085809, 0.6581757816885626, 0.7359982680152659, 0.6039003552953249, 0.6160473066440375, 0.6782811667305575, 0.6530129650884545, 0.638191338747992, 0.6645926931121036, 0.5380119197872126, 0.7134816980897146, 0.7795289187130804]\n",
            "God\n",
            "##################################################\n",
            "index 40\n",
            "##################################################\n",
            "Article no  17  :  Hunter-gatherer\n",
            "Arabic page exits !\n",
            "7\n",
            "170\n",
            "[0.876786855349337, 0.7906468121639173, 0.7839041007917598, 0.6869000543706052, 0.6050674989594095, 0.745927526542274, 0.804070444595496, 0.7281770602120563, 0.6300608620503396, 0.7413220956360109, 0.7895805564116686, 0.7353734037163386, 0.6947222844615347, 0.6832423490933567, 0.595298467782054, 0.8199171348123835, 0.7913685126211393, 0.8433812923597601, 0.6667729211699376, 0.7059886380214669, 0.7659380915426541, 0.7387911225961094, 0.71486601651968, 0.8325042374822987, 0.6741855892880153, 0.5745331587961657, 0.6497305004554553, 0.6000905839836173, 0.53206783625868, 0.8497131021996742, 0.710555034979101, 0.7513383812641189, 0.6681148457969371, 0.6508616102281728, 0.7695934743757749, 0.7175941282897321, 0.7059847818326438, 0.6920347301929173, 0.5548166810221727, 0.6762742737147935, 0.8343881470707314, 0.786083820926198, 0.7588568548799821, 0.7002102248907647, 0.7125036522097099, 0.6552696664610642, 0.6746251392338108, 0.5318712884389706, 0.47817308206887543, 0.6150225216984451, 0.6819081793254079, 0.6994536602029675, 0.615076800458895, 0.5299827347214859, 0.5628636846378849, 0.6588577517057522, 0.6519280553999648, 0.62531546249063, 0.5948808819256697, 0.5348384638682616, 0.6315956656374229, 0.6195729179339202, 0.6491992923579295, 0.5750424156867413, 0.5127759183453802, 0.7290789247456042, 0.6784872015233882, 0.6647551384612204, 0.6581800183753664, 0.584465772695067, 0.7170324675394564, 0.6811024315461984, 0.6613686885684195, 0.740455062019896, 0.5949233603221241, 0.7847205805191451, 0.7254711262525246, 0.7341998648530697, 0.7763237404023317, 0.6225670388942358, 0.7930500729381197, 0.764518837313947, 0.7209175432925254, 0.7544030055371012, 0.6346408783329861, 0.7023543942516155, 0.6776580005508293, 0.6669458134015421, 0.6443894441160393, 0.5862152832554149, 0.7601365086511592, 0.716671439445902, 0.6858465746245123, 0.7552439128517134, 0.6198909617830556, 0.7356274648175647, 0.7473517615463525, 0.694580875662062, 0.6907552529853517, 0.6710366366703087, 0.7787961290226164, 0.7250011924434093, 0.6234171475704935, 0.6938727403074311, 0.5743571917623841, 0.6883907345936203, 0.6308410542583853, 0.6057807802903131, 0.7056473303242801, 0.5171921287019353, 0.6563727751191412, 0.602305589656118, 0.6289326685974755, 0.6257657372747885, 0.5438766554015353, 0.6996753277897747, 0.6946991267579893, 0.6890350522954025, 0.6749288594557036, 0.6401988646780095, 0.7911584324721261, 0.7661332411664339, 0.7039307478005633, 0.7430311730889503, 0.7086189030707772, 0.7465701655063346, 0.7364717908562709, 0.7139090475417209, 0.7557285035893127, 0.6585981870108905, 0.684199241957842, 0.6649597972620452, 0.6927096465382616, 0.7640200870755227, 0.6513705585307215, 0.672403889050371, 0.6586309523603228, 0.6339031276285984, 0.6715191444751931, 0.5600515288332051, 0.8250008774693371, 0.7462584555216976, 0.7275523600335562, 0.7420278510312894, 0.6699688129371068, 0.8212248261141705, 0.8105090567578324, 0.731077300371982, 0.7039418863599044, 0.7344800922969886, 0.7381706328957358, 0.7264044550743414, 0.6940984548338572, 0.6991842735377606, 0.6579849173495628, 0.6607409787571005, 0.6579535148893966, 0.710238745033939, 0.5878801024448888, 0.7191221405165981, 0.7222522170570812, 0.7066262087912409, 0.6775655848536773, 0.6179398612891743, 0.6880463948830811, 0.7548471417039168, 0.716506528097645, 0.6717928528780366, 0.6569823960492861, 0.6593860074701033]\n",
            "Hunter-gatherer\n",
            "##################################################\n",
            "index 198\n",
            "##################################################\n",
            "Article no  18  :  Department_store\n",
            "Arabic page do not exist\n",
            "##################################################\n",
            "index 235\n",
            "##################################################\n",
            "Article no  19  :  Literature\n",
            "Arabic page exits !\n",
            "big article sim\n",
            "##################################################\n"
          ],
          "name": "stdout"
        },
        {
          "output_type": "stream",
          "text": [
            "/usr/local/lib/python3.6/dist-packages/numpy/lib/histograms.py:824: RuntimeWarning: invalid value encountered in greater_equal\n",
            "  keep = (tmp_a >= first_edge)\n",
            "/usr/local/lib/python3.6/dist-packages/numpy/lib/histograms.py:825: RuntimeWarning: invalid value encountered in less_equal\n",
            "  keep &= (tmp_a <= last_edge)\n"
          ],
          "name": "stderr"
        },
        {
          "output_type": "display_data",
          "data": {
            "image/png": "[encoded data removed]",
            "text/plain": [
              "<Figure size 720x720 with 8 Axes>"
            ]
          },
          "metadata": {
            "tags": []
          }
        }
      ]
    },
    {
      "cell_type": "code",
      "metadata": {
        "id": "qOYzpJXLo8Cl",
        "colab_type": "code",
        "outputId": "cf64ec60-9702-443b-bf5c-f868ae834537",
        "colab": {
          "base_uri": "https://localhost:8080/",
          "height": 1000
        }
      },
      "source": [
        "#testing \n",
        "\n",
        "AQQAD_generators()"
      ],
      "execution_count": 0,
      "outputs": [
        {
          "output_type": "stream",
          "text": [
            "index 113\n",
            "##################################################\n",
            "Article no  0  :  Computer_security\n",
            "Arabic page exits !\n",
            "big article sim\n",
            "##################################################\n",
            "index 39\n",
            "##################################################\n",
            "Article no  1  :  Oklahoma_City\n",
            "Arabic page do not exist\n",
            "##################################################\n",
            "index 134\n",
            "##################################################\n",
            "Article no  2  :  Infrared\n",
            "Arabic page do not exist\n",
            "##################################################\n",
            "index 32\n",
            "##################################################\n",
            "Article no  3  :  Arnold_Schwarzenegger\n",
            "Arabic page exits !\n",
            "big article sim\n",
            "##################################################\n",
            "index 32\n",
            "##################################################\n",
            "Article no  4  :  Arnold_Schwarzenegger\n",
            "Arabic page exits !\n",
            "big article sim\n",
            "##################################################\n",
            "index 389\n",
            "##################################################\n",
            "Article no  5  :  Liberia\n",
            "Arabic page exits !\n",
            "big article sim\n",
            "##################################################\n",
            "index 124\n",
            "##################################################\n",
            "Article no  6  :  Aircraft_carrier\n",
            "Arabic page exits !\n",
            "1\n",
            "102\n",
            "[0.7773629448442181, 0.47236981031984016, 0.6698737782904841, 0.7731868193524667, 0.5099302210250461, 0.723934210379236, 0.641181330922676, 0.4813896275247088, 0.6659823881133484, 0.7901056620067312, 0.4486783968201229, 0.48900520231516964, 0.7313825087581839, 0.4541861849804193, 0.5059112680635026, 0.8065190028674012, 0.4713139891530953, 0.5640214173004907, 0.7478607227397216, 0.4030558372741948, 0.62186701928168, 0.6952196655288884, 0.508748866229072, 0.7315000343517217, 0.7738287567639722, 0.5045565761604697, 0.6997755929850933, 0.7690062796132224, 0.48696302604270136, 0.6694079016111475, 0.7598068534350915, 0.5110673098188905, 0.6948563380763257, 0.778698644780321, 0.4340403882996482, 0.5427545581582292, 0.8228853589038102, 0.46332682410558745, 0.5711618070836987, 0.7486866232773323, 0.4500685964780968, 0.5313658296026991, 0.7964242457496149, 0.46759953296607515, 0.5599980320382364, 0.7495798829253083, 0.5352747151909623, 0.7156830243143228, 0.6894025658365482, 0.4954328204527685, 0.656528092543983, 0.752379721441745, 0.48737014620114993, 0.6658276136298559, 0.7453504644586594, 0.47369403407644795, 0.5675039801491888, 0.7887606609683252, 0.5035253203129082, 0.7084301287265738, 0.7446726182514378, 0.5407876175647106, 0.7688806835861898, 0.7322368633063601, 0.5286623379278147, 0.6783539466962168, 0.7850147900897158, 0.5429656072914895, 0.7134054647717963, 0.7025718593441854, 0.5016331348438604, 0.655870499060594, 0.7819431484275919, 0.47395707014416044, 0.4887419771659933, 0.8079413801907958, 0.5065781438246448, 0.6395072444517967, 0.7629894156531958, 0.48082252654836544, 0.669885071768576, 0.6363315224969269, 0.5126643245874009, 0.6717697593964896, 0.6778257093872451, 0.4678150934611667, 0.6647269039395373, 0.677572460650397, 0.40039559295645444, 0.46702721565296135, 0.7709902998415985, 0.4447843110726779, 0.5253290404924194, 0.5930023583371773, 0.496232215213094, 0.7126110771730728, 0.7484013982747626, 0.46201126054594, 0.6924794823076298, 0.7531356437134707, 0.5358940979422003, 0.6837231211669222]\n",
            "Aircraft_carrier\n",
            "##################################################\n",
            "index 263\n",
            "##################################################\n",
            "Article no  7  :  Turner_Classic_Movies\n",
            "Arabic page exits !\n",
            "2\n",
            "46\n",
            "[0.2734115125797154, 0.6713309230040974, 0.35370983553479873, 0.551519335950887, 0.43892240586709663, 0.6503256212073261, 0.4250053261904372, 0.5885980276444965, 0.39300089153440854, 0.6154609195574025, 0.29365552553053, 0.5001545495904589, 0.18832869340935, 0.5447055139631234, 0.4548998672594058, 0.5932464417848576, 0.5152124487861176, 0.5301804965626205, 0.4632037668183593, 0.5656720273191768, 0.2719855977996355, 0.5244124827355181, 0.4012276867314887, 0.7044467510704756, 0.28147309228986717, 0.5154623753604081, 0.32140867675666096, 0.5553002739897817, 0.3675273086351789, 0.5924622124082726, 0.34953791392584943, 0.5524934428985627, 0.3699041233045839, 0.6159689527052478, 0.32296600117373675, 0.4964261616927925, 0.3520274283687761, 0.5178526538184841, 0.3459309826713648, 0.6004296779570402, 0.458188112293195, 0.5777953012661248, 0.30279387633311017, 0.5100093598814013, 0.4193901795467079, 0.5387257966135949]\n",
            "Turner_Classic_Movies\n",
            "##################################################\n",
            "index 74\n",
            "##################################################\n",
            "Article no  8  :  Southampton\n"
          ],
          "name": "stdout"
        },
        {
          "output_type": "stream",
          "text": [
            "/usr/local/lib/python3.6/dist-packages/pandas/core/frame.py:6692: FutureWarning: Sorting because non-concatenation axis is not aligned. A future version\n",
            "of pandas will change to not sort by default.\n",
            "\n",
            "To accept the future behavior, pass 'sort=False'.\n",
            "\n",
            "To retain the current behavior and silence the warning, pass 'sort=True'.\n",
            "\n",
            "  sort=sort)\n"
          ],
          "name": "stderr"
        },
        {
          "output_type": "stream",
          "text": [
            "Arabic page exits !\n",
            "3\n",
            "665\n",
            "[0.6853647847639305, 0.46588646775958065, 0.3020377836365087, 0.49312109024781436, 0.5504364653156409, 0.4280277720906107, 0.49479097507573755, 0.5960859754827061, 0.6197247565937265, 0.5011762889138723, 0.5071167967688662, 0.6224741545553117, 0.2090363972280196, 0.5366600178054205, 0.6640769367523517, 0.48374292058252233, 0.4293126661590875, 0.5493291780070003, 0.5722042990481935, 0.3076598108869262, 0.46526300515565167, 0.5896065868785147, 0.6665482606883967, 0.4409969233658959, 0.7345322329672419, 0.7356604275324957, 0.15209101265058544, 0.516683566751936, 0.6261887497404476, 0.6022834977543655, 0.45697196829913445, 0.6628361751691986, 0.6767041005748302, 0.27583050369163664, 0.552948971548925, 0.5220244670912868, 0.6339793918961252, 0.4322019401172039, 0.628622761154183, 0.6798832359470315, 0.2306847782409781, 0.40293313489553295, 0.5117840037573955, 0.6817301779636897, 0.37153156203883964, 0.5591820564682982, 0.8362224252187624, 0.17462014911116652, 0.38171491614107234, 0.6215818133067641, 0.6624030293983908, 0.4773883480564183, 0.6404376163498766, 0.8099319031631798, 0.1563512027724251, 0.5189023161291669, 0.6025981752410625, 0.7273300761501431, 0.47718216790146906, 0.6176996016085282, 0.7387143127824544, 0.10184097418491156, 0.5510982589230242, 0.5924269389849999, 0.6433117669609512, 0.43998027845186394, 0.5971920289153756, 0.7200126199853388, 0.15343920536189126, 0.5656800697686301, 0.6833001002052314, 0.6202893105359395, 0.5022434532695698, 0.6693975868775156, 0.7111867830375864, 0.22170244506406034, 0.5860449078026608, 0.6585534757775141, 0.6198687228161806, 0.43730017345300354, 0.603250852673502, 0.7022402061640822, 0.13496078522578325, 0.5364852205989804, 0.4505241835800752, 0.6841055604609565, 0.5197567779455371, 0.5314515165156837, 0.6185421228303866, 0.09443805279982254, 0.3516310116012409, 0.5916275358951365, 0.6615287618451301, 0.46402874306510955, 0.5721783282914762, 0.7259049111718445, 0.2014926973298954, 0.47224668756838195, 0.28568681427536124, 0.6706843487535583, 0.35875089798405313, 0.4850999048353374, 0.5935636115642988, -0.027083040292288363, 0.3490654257127268, 0.4218419182491032, 0.6595461112428217, 0.5228552609518788, 0.530762258252919, 0.6128784200276742, 0.04139036593679879, 0.30563457632058855, 0.5926269559488402, 0.5999973814538663, 0.47826711224538854, 0.582025254549423, 0.7138995295078473, 0.17744249374718335, 0.4974606663091101, 0.486382690386967, 0.6293571483505089, 0.4128475278210061, 0.5456783773903753, 0.5881455345921802, 0.09065300470903137, 0.3879718624274393, 0.5764975125518074, 0.45495101705596697, 0.4092741575831397, 0.44781313754003005, 0.5542059111597194, 0.1820862490084868, 0.5297376488637476, 0.608667854883594, 0.7117600764757434, 0.4822041559729029, 0.5753161840419198, 0.6853911951670502, 0.16400087065175128, 0.5087936828363443, 0.619114809714742, 0.6887423336017359, 0.5925947312311644, 0.5982343512279081, 0.6730828025068347, 0.14884171310473193, 0.4712710036477582, 0.45682675580427023, 0.46682935300293127, 0.4920001696611723, 0.4422697880581947, 0.43545329020455803, 0.028010938993816903, 0.35606883963546776, 0.5624989600557289, 0.6265311570533494, 0.6315476499624157, 0.5734028604870764, 0.6152524226880641, 0.0689041266652256, 0.4399459503771027, 0.420932503615679, 0.529560748266698, 0.3111750479772417, 0.4012542199763951, 0.46333884008434456, 0.3105751148635836, 0.3433290210906145, 0.5461337033788267, 0.6007207666094826, 0.4761056168321405, 0.5994177266740064, 0.6516125485036796, 0.19416593884432665, 0.4141581421328715, 0.5670430935202876, 0.6833173442481943, 0.45664927372678077, 0.5901203994215602, 0.7159883977489296, 0.1957020916936525, 0.5252516024363924, 0.49850118320181247, 0.6312384593828281, 0.46075929366013346, 0.5703565648546794, 0.6484107336784763, 0.14965573256794418, 0.4313719547965884, 0.53451684383614, 0.5848316701821087, 0.5130535171655302, 0.5801933686679002, 0.6128466432037122, 0.1731524231476178, 0.38846688719783384, 0.4094494061427465, 0.42858707774806626, 0.30721609047463627, 0.3896168429435005, 0.40594248403017374, 0.21244715254225943, 0.3418277660165493, 0.5824836304407688, 0.5023139894088896, 0.3449487888120677, 0.4959998155800327, 0.5579812682276951, 0.37708898959352855, 0.5641947787080166, 0.5304704941690976, 0.6022208836972807, 0.39172392018503444, 0.5266332744606012, 0.628367039730544, 0.25396869123469257, 0.4858477963342215, 0.4167860631321909, 0.590643353483198, 0.33956408449963515, 0.5488997255645404, 0.5573744288644684, 0.20490613285624293, 0.32458151617975095, 0.7179393823694801, 0.4281769960159225, 0.3359473423642392, 0.4816649520918914, 0.5540036241969943, 0.29024816129177977, 0.5440567575906842, 0.6011467335870114, 0.645280399379952, 0.4171523703772926, 0.5708024286807714, 0.7468418583148173, 0.12536887435103294, 0.46112822757429295, 0.5191943813731835, 0.4148643409343711, 0.42948790240191514, 0.41806568872715755, 0.49574204842731484, 0.021431075259906174, 0.3230989706422587, 0.654716744540337, 0.523035655723968, 0.33601134867933113, 0.46002594699750454, 0.5720654789750969, 0.15859274405113466, 0.5275261916938572, 0.5900933190568651, 0.23636732085679324, 0.28141551398183196, 0.3095996100735685, 0.3914390090323072, 0.3692065068954111, 0.5497656955285535, 0.5572902228182007, 0.4772814237393517, 0.39744341117672377, 0.45494296666772716, 0.5808069627758812, 0.3444354878532806, 0.43464613474648484, 0.5129134533062492, 0.5268297332131582, 0.37896649208062705, 0.47466946814959066, 0.5353771205345434, 0.1653670475468607, 0.345181904208296, 0.6038028560244123, 0.40625382872907534, 0.4022877758091786, 0.4184905711962459, 0.4996983280408194, 0.2634898882794341, 0.4568777547045093, 0.5332676420765886, 0.5483594266673247, 0.46634914050294163, 0.5108417679638214, 0.5906806717860984, 0.1892580648392731, 0.40598481959147237, 0.607947108731967, 0.5390607866613912, 0.49844591529763915, 0.535674031967921, 0.5797251725211292, 0.17678277109755325, 0.45401189887659155, 0.6551667275300668, 0.5515321386877374, 0.4632355647591133, 0.5540334960518619, 0.6020956861676465, 0.3457104454733845, 0.4707834680138312, 0.6025479361143593, 0.5282847019020083, 0.4724608102457366, 0.49571447882120245, 0.6092371854180066, 0.21659324335648833, 0.3966998057278295, 0.5249179252651122, 0.5844071143589279, 0.4603747697618381, 0.5406766290870895, 0.6001999541967046, 0.12418280308498364, 0.3863912069374966, 0.5391238621336546, 0.4147160594157009, 0.43098104296823925, 0.4148254206277311, 0.5260334930314817, 0.19731963144101905, 0.37587168924445047, 0.43931308155395987, 0.46438021806648055, 0.3290654638257461, 0.4291031642386576, 0.5092097969858734, 0.09200323606279914, 0.3622351795863157, 0.6901660459572504, 0.6306242377669489, 0.5547179262460337, 0.5607529468941342, 0.6776447593895123, 0.19382620919994886, 0.5491518014573988, 0.5887738289164592, 0.48819531314016784, 0.45766544004848275, 0.4698962148877208, 0.5911464282280436, 0.2033373289764524, 0.4929759080070728, 0.5408840449144342, 0.4513551903735391, 0.36128383135185205, 0.40881594349073413, 0.5020217203060074, 0.31938228448998274, 0.5442187988017604, 0.5407366613266112, 0.5411808553756843, 0.43273166667927443, 0.49394307209207267, 0.5558018143594976, 0.20236239221767638, 0.46645638361111186, 0.5653822570139339, 0.5885791874867319, 0.4729139553644547, 0.5428331917257316, 0.6356871550858808, 0.17033318118780105, 0.49249611908568247, 0.6568956090388111, 0.5264962898502598, 0.4476756101841828, 0.4764733137435021, 0.6097208473954231, 0.2164813248027755, 0.6065947564141426, 0.5444606663433186, 0.49183302000467155, 0.4557045850477084, 0.4984713512096606, 0.5649701036804283, 0.1670384162305819, 0.41045882849780424, 0.6413353681048658, 0.5451975883686648, 0.40978422243891344, 0.5382584669068801, 0.6236245619403441, 0.20404759526566318, 0.726297785807711, 0.5691974268985132, 0.5950071794366317, 0.43364844807356984, 0.5217079195118084, 0.5848697103713422, 0.18892107843195127, 0.5380121420095139, 0.45121586743984676, 0.4222053102923464, 0.29672337710813423, 0.3634050812100247, 0.4770277015523574, 0.23373088091836025, 0.5079025643298357, 0.5415036753524748, 0.4003072824844198, 0.3959484008484204, 0.388566525096088, 0.4726304285898706, 0.23760068532377077, 0.5629885787735482, 0.3591003069142116, 0.3348630592891778, 0.23995800479464868, 0.28007726001972655, 0.33375468786323337, 0.23336270268009895, 0.4580196666788756, 0.4603680986450307, 0.4267794039640491, 0.3864386751555434, 0.3687752909631611, 0.484703680930997, 0.16840380231088714, 0.5429459374004793, 0.47206963876163366, 0.5653469699948194, 0.36041817216123395, 0.4970375644225311, 0.5617386859012783, 0.18754747305409103, 0.48811011090030165, 0.6228151119097319, 0.4825233209297174, 0.37357056422668644, 0.47996382803323345, 0.5460491051063148, 0.3715940705468106, 0.4835190086407408, 0.5482015326863408, 0.46713310758420445, 0.36998879119220773, 0.4677221156198985, 0.5141372648905028, 0.2951164644133024, 0.45527025250945496, 0.4783061161694697, 0.2940161153475507, 0.26707354354333934, 0.3131944511918252, 0.3369027290415947, 0.2629983254287077, 0.39966215220614587, 0.4311443413909114, 0.6305595929105186, 0.3569494396335742, 0.5005398642905895, 0.5888025884434681, 0.09986496900024289, 0.3337183596338983, 0.2481650813320142, 0.13710386003848796, 0.028014827907594353, 0.14797675007107103, 0.1854301669127153, 0.28212080818368146, 0.20783120838982339, 0.5400977225669057, 0.5470358254484907, 0.3825226498179294, 0.4759591494329236, 0.5802154953469789, 0.21311314099095513, 0.5106128514838378, 0.49558019630093486, 0.49044859683451714, 0.4045678439588517, 0.42717811340223666, 0.4968355982405581, 0.1936218718941568, 0.4316104092050711, 0.5789728300074578, 0.5789124190506446, 0.46598742815361616, 0.5014837455109145, 0.5904900088203128, 0.1589943598052337, 0.5082145702513126, 0.5924131140287662, 0.5666822745777401, 0.3953996151643848, 0.48846758287679015, 0.6065739905220805, 0.20871656618727752, 0.5274913107792918, 0.5382193726967961, 0.4198816105435854, 0.3313441116334951, 0.4032580544813855, 0.4877302819694598, 0.21596522197607426, 0.5060411984119106, 0.5192258533971427, 0.6476788941405253, 0.5297571656830603, 0.5712208551302296, 0.6487766430768378, 0.1008962971246461, 0.39061576283204813, 0.39108124737675287, 0.3828714566462008, 0.2782890999997929, 0.3541774615487574, 0.40442996185183644, 0.23890028569246802, 0.3247707004342557, 0.5815118874618734, 0.5130510018107498, 0.38572120240258845, 0.45514681634316445, 0.5626477254984131, 0.19227271786188993, 0.5380013952162547, 0.543566242324766, 0.497196925931511, 0.4063666860609463, 0.42967545000997154, 0.5162395997344158, 0.1614569163313646, 0.447338506665799, 0.44151425346123896, 0.43340483388040085, 0.4581482627320874, 0.46005582239867704, 0.4640824199023076, 0.029972455475486326, 0.31315888278700554, 0.42185299461877157, 0.24837035445074396, 0.26065790655450083, 0.20045820343534115, 0.2616432053290427, 0.30602122114932095, 0.34286381490583495, 0.45863612732639614, 0.40193906860571116, 0.3484161677154265, 0.40067546106572804, 0.44181405159926146, 0.2722526720681695, 0.37541314892639943, 0.42620984110014637, 0.2586049232300296, 0.32656170946579754, 0.24598760884033133, 0.30293925870117766, 0.24401893337497615, 0.36266239027047686, 0.47433025453504585, 0.39530187803305905, 0.33279546429373974, 0.3428942981162797, 0.4365288900271609, 0.3144317635914271, 0.45659270562540866, 0.4264672526863891, 0.4524881265134415, 0.47037592786947924, 0.44894325479625397, 0.4824705793229104, 0.16449558957967803, 0.3381269955082107, 0.4136188188010652, 0.3782784909183753, 0.38971773907469953, 0.3582746230434817, 0.4146328944216695, 0.05218359306492193, 0.2760709840458919, 0.6495391548845051, 0.5261025044333767, 0.3888481416625842, 0.45301773744137364, 0.5623627242480118, 0.2185160894637581, 0.5509250594402646, 0.6428870085226708, 0.6049539550296764, 0.4631796324239037, 0.500115038772012, 0.6179657588847692, 0.20923941775330512, 0.5406059488812354, 0.6131875096183871, 0.5929400601139287, 0.42359812154051923, 0.4973525735150166, 0.5855982517958186, 0.17844306315158198, 0.4864591672911196, 0.6105046230615468, 0.6617222701616737, 0.4583319560182718, 0.5730705301219498, 0.7077289848820704, 0.12105793939594356, 0.5085001175218793, 0.6312383453798722, 0.41783194704517856, 0.32321490098352545, 0.35519427146392957, 0.4688155070212968, 0.39808543539317565, 0.5210206262416938, 0.5700664510605397, 0.5338161501234254, 0.44653771530408704, 0.4726539736023263, 0.5716689196574726, 0.1385475144115066, 0.4927140204631124, 0.4830716598238072, 0.6991911570223769, 0.47392851598983254, 0.5420034347002484, 0.6462555817463077, 0.1208735005847219, 0.4714756539011713, 0.3500492198378028, 0.5563250313697595, 0.395090045988411, 0.4631453391038267, 0.5751396653886516, 0.03357232784136299, 0.36695873085349784, 0.5272063743749591, 0.6375319306998649, 0.48691088664434434, 0.5248544633688235, 0.5909154358833036, 0.15291141807869169, 0.48098172669852834, 0.5421784519211581, 0.4283184538082667, 0.3903837065967113, 0.3673628356769748, 0.4879738461987787, 0.21618247488673425, 0.3751486286971186, 0.6287885178284097, 0.5788229171789724, 0.45927633764244924, 0.5263622933262869, 0.6258448968596876, 0.15632879533173027, 0.5371328694833446, 0.5261409984570656, 0.45256612680957153, 0.367887624565409, 0.3728594385628752, 0.4949634794112794, 0.1732670944375011, 0.4438447805819036, 0.5559420999504383, 0.45939155224981576, 0.38294015215235566, 0.37502113741702503, 0.518462925218874, 0.09375856763735635, 0.4568290840696281]\n",
            "Southampton\n",
            "##################################################\n",
            "index 135\n",
            "##################################################\n",
            "Article no  9  :  Biodiversity\n",
            "Arabic page exits !\n",
            "4\n"
          ],
          "name": "stdout"
        },
        {
          "output_type": "stream",
          "text": [
            "/usr/local/lib/python3.6/dist-packages/scipy/spatial/distance.py:720: RuntimeWarning: invalid value encountered in float_scalars\n",
            "  dist = 1.0 - uv / np.sqrt(uu * vv)\n",
            "/usr/local/lib/python3.6/dist-packages/scipy/spatial/distance.py:720: RuntimeWarning: invalid value encountered in double_scalars\n",
            "  dist = 1.0 - uv / np.sqrt(uu * vv)\n"
          ],
          "name": "stderr"
        },
        {
          "output_type": "stream",
          "text": [
            "448\n",
            "[0.7701894928979839, 0.6880458366778458, 0.6749324291514909, 0.643212386144352, 0.5658867236657634, 0.617603675061374, 0.6627803107103979, 0.7019395333595587, 0.7418359461139307, 0.6764285659901551, 0.7274109131924377, 0.7089986277749968, nan, 0.21870954279526267, 0.7750384925968419, 0.6073084573401398, 0.6812900363687048, 0.48863404334528204, 0.5460556902627923, 0.621824665676291, 0.6399324448881639, 0.6406352189750117, 0.6257221821200564, 0.7034181211507405, 0.7376365709440902, 0.6499262623416893, nan, 0.3022528876999415, 0.7740635369757753, 0.6671827449838462, 0.6901510122989597, 0.5867153666036563, 0.5840795854138348, 0.6487367216809847, 0.6685561615425655, 0.6940298578867014, 0.7361783375470997, 0.6513512431166856, 0.7578614727468079, 0.6943095750464906, nan, 0.30647641203919807, 0.7484694660308343, 0.7178495609118528, 0.7533974357686073, 0.634864659997459, 0.6416781883709157, 0.6156491465770796, 0.6590956744559189, 0.7156515876277459, 0.6734174445473825, 0.7011294511512522, 0.750168868013009, 0.7587489006951387, nan, 0.2847525205470165, 0.6346989101493898, 0.7247850039381841, 0.735976952532456, 0.6746451320508174, 0.6746716530694845, 0.5618360441133857, 0.6704400229379119, 0.6491144360923649, 0.6052861426591732, 0.7761405715031179, 0.6518203529349952, 0.6974180118148933, nan, 0.20525042897422452, 0.7276192684251532, 0.6636355002758523, 0.682458902244686, 0.5714947772928476, 0.5814378590351482, 0.599455347064615, 0.6470880652827935, 0.6813348685763575, 0.64334215721122, 0.703236949205242, 0.7012228316238546, 0.6701996240641582, nan, 0.25092928658315805, 0.6863308732364388, 0.7090968835503318, 0.7447367999835667, 0.6473908277739331, 0.5952268779247322, 0.6299280829939148, 0.666357396314857, 0.7112453304933836, 0.6969852922703111, 0.7089033629202532, 0.7327174535727888, 0.7131002253906906, nan, 0.23999665783364976, 0.626562574411324, 0.6581371870227414, 0.6662860739718512, 0.6386438396840126, 0.5139183033715471, 0.5298140214745092, 0.5755614465318549, 0.6412336053241606, 0.5780034389888671, 0.7326930807168534, 0.6329967643281256, 0.6330804706575023, nan, 0.1862733317755979, 0.7064455949383128, 0.6127071073111728, 0.6754046091988014, 0.480159886410362, 0.5681006212819133, 0.6645905211704088, 0.6448859829527751, 0.6731123577326235, 0.7148380258729357, 0.7441543106512517, 0.764796522204842, 0.619790145721611, nan, 0.26653507326889325, 0.5637272839188571, 0.6667225785568462, 0.6788257336149215, 0.6845813919795392, 0.5414329563577787, 0.5438875093626705, 0.5722550059030497, 0.6226701068740553, 0.5791189791097134, 0.6607392409402763, 0.6217450243684944, 0.7014801236726408, nan, 0.15783129499083193, 0.5865159346601053, 0.6569225899114733, 0.6738180161611641, 0.6261688627514012, 0.6331351252171552, 0.4846375571654701, 0.6209575393145842, 0.5848226078126391, 0.5498261899477153, 0.6250795952124626, 0.5749857171189833, 0.7045896812900923, nan, 0.2096312825783, 0.6514549248528436, 0.5747676619751033, 0.6564786381284207, 0.5096311524407524, 0.5534771206531203, 0.5348340708001855, 0.6080019723718217, 0.6146588100884236, 0.5662219208063588, 0.7529801019457528, 0.6481510377086559, 0.5981109189975374, nan, 0.19429613607837137, 0.7468748046075674, 0.6780854815070266, 0.6803651306822855, 0.6018604530551462, 0.5557933552669436, 0.6637872620854289, 0.6626136355995547, 0.7216649468845686, 0.7619263749516906, 0.6504298769650572, 0.7392421664472728, 0.6632741911221111, nan, 0.241750933375952, 0.5380101166631894, 0.6681740916549684, 0.7068783731938497, 0.6134625281218041, 0.6147035821371272, 0.48935923727580777, 0.6043740566656317, 0.58164581639692, 0.5563644532303619, 0.6407093842702991, 0.5794394128174153, 0.7009948399536953, nan, 0.2440200869619673, 0.7524241494204785, 0.7206799294432162, 0.7410636067079122, 0.6155299498559852, 0.6247965452223629, 0.6361472756125626, 0.7142411025597738, 0.6788626471721997, 0.726366101242605, 0.6250907046553565, 0.70222558799293, 0.723961220619027, nan, 0.30513063408355323, 0.7433115172045252, 0.6686909818807647, 0.6690713031559059, 0.6051234054342213, 0.569063066624742, 0.6512131455703188, 0.6536833094045411, 0.7130578449418992, 0.70510132842732, 0.7062840232456522, 0.7367904222807109, 0.6884803043515223, nan, 0.31636404495250803, 0.7811568988215802, 0.7055489623542612, 0.7337861422678426, 0.5722788921242656, 0.6208565679523538, 0.625606750559512, 0.6990165834694462, 0.717282317892736, 0.7163047900988924, 0.7349830261595589, 0.7525436468234457, 0.6758768705017444, nan, 0.3250350149573229, 0.5184117774925975, 0.6423946558399191, 0.6730017230634354, 0.5787298497972152, 0.6632626739006224, 0.4475452713390614, 0.6080578694201082, 0.5539652993821043, 0.5311881640106598, 0.6535259267332574, 0.5415436791794984, 0.6868131921335985, nan, 0.17751653357442554, 0.7401788938807295, 0.7445045364839319, 0.7471937477144952, 0.6993395114593464, 0.6456608388104922, 0.6495408531130834, 0.6976570968275896, 0.7314011953046163, 0.7478037699411688, 0.7429192392203082, 0.7403473706677545, 0.7469073445518011, nan, 0.26451472571561085, 0.6565529244701558, 0.7086645204731086, 0.7269135509081528, 0.7044788609692535, 0.5907499255632493, 0.5763655038692153, 0.606250277427454, 0.675959478181531, 0.6252352149366027, 0.7307197816179847, 0.6659490972575656, 0.7129839474826607, nan, 0.1855950923094437, 0.7184855919929884, 0.7490021468996271, 0.7535495010124579, 0.672245797025078, 0.6413152486525744, 0.6864598468793917, 0.7421231535191903, 0.7412396351565036, 0.7656310240778447, 0.7021560516058554, 0.7470947427262783, 0.74085485651207, nan, 0.30515769616283683, 0.6060116403022241, 0.6959211234392441, 0.7518113453017519, 0.6405803456651344, 0.6965666973082432, 0.5654332091632528, 0.6713067293069396, 0.6469137313637313, 0.6159820308367004, 0.6762682429990153, 0.6642826216198869, 0.7350768828522256, nan, 0.2667334218117823, 0.7361946801949093, 0.6452535734946904, 0.6919946829720045, 0.5509908720356564, 0.5576698213643859, 0.584473983308561, 0.6085910469631896, 0.6609929074855434, 0.6857828296277919, 0.698107295650429, 0.7411592025613322, 0.641726123037776, nan, 0.26615305597903416, 0.6206257545075518, 0.5876780188089303, 0.6553702714535764, 0.5063783051654649, 0.5194144219953832, 0.577351262932418, 0.6182172868314085, 0.6357783849111596, 0.602972071688291, 0.7574052770689838, 0.6655569204383032, 0.5735416892714652, nan, 0.2144734666047161, 0.6685179072539079, 0.7332828311427408, 0.7593696547737422, 0.6840919195411218, 0.6605251713513074, 0.6214503663027751, 0.6831714971339267, 0.7077118307492064, 0.6600045414943174, 0.730620912980058, 0.6730508548356176, 0.7367004866560264, nan, 0.23218322517595857, 0.7114772515994303, 0.6765788719793174, 0.6899009981383839, 0.610908104777761, 0.5933601184238684, 0.6428282861132006, 0.6611885522183195, 0.7095922852130212, 0.7257616290824052, 0.7712365538960434, 0.7434253166150886, 0.6807143157865064, nan, 0.2406383228714899, 0.621561735211991, 0.6341757099540997, 0.6144389073190155, 0.6144916744028912, 0.5750958489740768, 0.6421566646818837, 0.6038408750042056, 0.6952213142637241, 0.6835555468496494, 0.6511388937795313, 0.6686031162683577, 0.6428162449211141, nan, 0.22631284428795062, 0.7195184607219248, 0.6884847432577936, 0.7110417047770764, 0.6176491904627975, 0.5506278699283323, 0.6189325746388984, 0.669692414704045, 0.6798024380117049, 0.7020468955954099, 0.7094222890765028, 0.7235552997152574, 0.6954286276884226, nan, 0.28029995182174017, 0.686188095000048, 0.5827931102627147, 0.6207358294520177, 0.5393857806468999, 0.4136087788890357, 0.47961992628138495, 0.5431764068617574, 0.59120987003883, 0.586606810501131, 0.6513902840662669, 0.6096059699825991, 0.573775484587114, nan, 0.19625969320874237, 0.6741710052552433, 0.6359598461974162, 0.7332100686551767, 0.4974135433767236, 0.672092864756347, 0.5352109640974678, 0.6588005807637506, 0.601244964962631, 0.5650983808090871, 0.6584970237081497, 0.657430110144946, 0.6720803451747037, nan, 0.42616371249867635, 0.7730819072091102, 0.6885364148240316, 0.7287354203779408, 0.5703580712076163, 0.627461861432522, 0.6502063676869052, 0.6771674449491071, 0.7190032034175764, 0.7421850573731066, 0.7253587498476809, 0.762620171468385, 0.6875159885157431, nan, 0.3044220747343971, 0.6685837578886434, 0.6229654880529107, 0.6502256629345186, 0.5310840054564488, 0.5678556084301265, 0.5301724692409356, 0.5768873358548702, 0.611311198024942, 0.6108666069703443, 0.6926738939598518, 0.6557724299390572, 0.6150388848356054, nan, 0.17842347984904605]\n",
            "Biodiversity\n",
            "##################################################\n",
            "index 220\n",
            "##################################################\n",
            "Article no  10  :  Gothic_architecture\n",
            "Arabic page exits !\n",
            "5\n",
            "80\n",
            "[0.7540156408333721, 0.7001191518155087, 0.6339536491158398, 0.707592442018405, 0.7659671899510065, 0.6927848251106721, 0.6246538398196613, 0.7381743447069183, 0.652420695302824, 0.5648849773755303, 0.6161931985481149, 0.6627577111600361, 0.6806225375425571, 0.6768064625688149, 0.6988808746405943, 0.7389359583099444, 0.5936853154800128, 0.6839329552588747, 0.7162369707602928, 0.6911555546895374, 0.6451877862639284, 0.755931377066696, 0.7054190284419851, 0.6781479678016645, 0.7115846614821243, 0.682122856207773, 0.6797921249247264, 0.7130027106263249, 0.6295920331038138, 0.7093508314836219, 0.6643138533785373, 0.7156268769974756, 0.6473502673505349, 0.6928915935847304, 0.6242188165100445, 0.6864939164902583, 0.6945043560155861, 0.7648382644853233, 0.5945830466597284, 0.7228779813996132, 0.547429697487972, 0.7083167275085724, 0.5286504841011288, 0.7166590877849821, 0.5905069363031585, 0.7275079093430694, 0.5121473868485156, 0.6879457191350421, 0.593639548237317, 0.7201280723650961, 0.6703093731293446, 0.6823730876064383, 0.5113974410425172, 0.6656379969726722, 0.568728451975493, 0.6953776006091966, 0.5504157589456061, 0.7276965043859532, 0.6346500941523322, 0.7683815465576593, 0.6426885085863822, 0.7480370384637929, 0.5049845717195031, 0.7010509395304036, 0.6859064527203439, 0.6451124430445236, 0.7201132320284048, 0.7358258079526938, 0.6410674645135487, 0.5958183530937161, 0.6108812003647591, 0.6984969772061292, 0.5933375264851501, 0.6415943555602777, 0.6809719611486842, 0.6881778989762602, 0.7003632968891106, 0.6921859663087592, 0.6287379131807903, 0.6402454270806696]\n",
            "Gothic_architecture\n",
            "##################################################\n",
            "index 103\n",
            "##################################################\n",
            "Article no  11  :  Chihuahua_(state)\n",
            "Arabic page do not exist\n",
            "##################################################\n",
            "index 419\n",
            "##################################################\n",
            "Article no  12  :  Party_leaders_of_the_United_States_House_of_Representatives\n",
            "Arabic page do not exist\n",
            "##################################################\n",
            "index 266\n",
            "##################################################\n",
            "Article no  13  :  A_cappella\n",
            "Arabic page exits !\n",
            "6\n",
            "161\n",
            "[0.7287505053789013, 0.7576388635566558, 0.6651198007884651, 0.7115798958928007, 0.675919785478433, 0.6105321592584005, 0.48503985027476904, 0.6434067243274597, 0.7320049212536774, 0.7060382539409564, 0.6894970745720888, 0.6613328155081214, 0.6220443460273065, 0.4822329275112661, 0.6530829376872019, 0.7751770816826279, 0.7183096178359906, 0.7375242476150636, 0.701541293927147, 0.6441857007654201, 0.5094306605306763, 0.661463365049014, 0.7919719545107433, 0.7361918668056338, 0.7211962465177147, 0.710523651256872, 0.6624059797675964, 0.555690772637159, 0.5769407843208396, 0.6656841738481649, 0.6488628251615006, 0.5970230742389702, 0.6518422848116455, 0.6298458652103792, 0.5847863710005481, 0.5424022516813435, 0.7214119409087056, 0.6973670388911895, 0.6366875529061509, 0.6074449985859339, 0.530459973088414, 0.46199428699079825, 0.5595985455748524, 0.7005612052865048, 0.6628330762423886, 0.6556180282862784, 0.6824816365931589, 0.6032467799712788, 0.48082289847182924, 0.6035890680423703, 0.7191791852152448, 0.6727982746322895, 0.6713391581192171, 0.6772170756072017, 0.6786527633251198, 0.5712209862959454, 0.6684915862141374, 0.7520946196590051, 0.6795647575009879, 0.6967981332909574, 0.684221098792001, 0.6025533734702359, 0.5331288635871756, 0.4403682698570237, 0.5798768722436697, 0.5379336627990282, 0.4123993831248507, 0.37018820312078493, 0.3278216176515223, 0.31772222548257456, 0.48704388057331927, 0.6253512079088022, 0.5864572593480477, 0.5768391602934988, 0.4980636882132665, 0.487364531121082, 0.4169888156903738, 0.720920021706749, 0.7034161366612484, 0.5636812974227764, 0.6343411925171898, 0.6762299350793717, 0.6043158668085055, 0.4869822656180459, 0.5920587525585483, 0.670332785986874, 0.6269636213728849, 0.5970322160482426, 0.5148668514745045, 0.4594378477240799, 0.4405266672182422, 0.49813851302125656, 0.5457657320343917, 0.5668610141100316, 0.5121261600326094, 0.4169649463086357, 0.38580219829893014, 0.3787992755986742, 0.5582746742433312, 0.6067215255221132, 0.5108910233056254, 0.5079325481827393, 0.4328664712341841, 0.37977250700149257, 0.4000406582457354, 0.5239526334921034, 0.643144044482803, 0.6097415815898445, 0.5729277704860798, 0.5329532600649934, 0.4919467686363106, 0.46485341289984405, 0.2907728831959491, 0.46810321601560045, 0.4730787336219102, 0.3990728564761947, 0.390766101890725, 0.3566721709294475, 0.2953860715747787, 0.6192050724734078, 0.7077375496472932, 0.6765848743611155, 0.6857511066896812, 0.6542562920081492, 0.6012667182136713, 0.4553314610717232, 0.49176357477647903, 0.6437728869973338, 0.5775215270470031, 0.49684041953199387, 0.4697927341840773, 0.43882788042786924, 0.4064571610191263, 0.3189946061870631, 0.47868457419708776, 0.5031189665306818, 0.3881810567680317, 0.3532110768610577, 0.3119670839904155, 0.3071517167870743, 0.48454483057657194, 0.5971508082623181, 0.49585060901130174, 0.4978153702658621, 0.4711198797198235, 0.4714344620810702, 0.4937402508408897, 0.6796457146548118, 0.7065781085590376, 0.5796443743960009, 0.6409386382336307, 0.571439208683831, 0.5075012180301786, 0.45954343840804024, 0.7107543634483837, 0.7350200684189785, 0.5962949803612589, 0.6509080153733808, 0.5957675061817153, 0.5485648000836532, 0.471290943283055]\n",
            "A_cappella\n",
            "##################################################\n",
            "index 72\n",
            "##################################################\n",
            "Article no  14  :  Classical_music\n",
            "Arabic page do not exist\n",
            "##################################################\n",
            "index 295\n",
            "##################################################\n",
            "Article no  15  :  Asthma\n",
            "Arabic page exits !\n",
            "big article sim\n",
            "##################################################\n",
            "index 257\n",
            "##################################################\n",
            "Article no  16  :  On_the_Origin_of_Species\n",
            "Arabic page exits !\n",
            "big article sim\n",
            "##################################################\n",
            "index 278\n",
            "##################################################\n",
            "Article no  17  :  Rule_of_law\n",
            "Arabic page exits !\n",
            "7\n",
            "240\n",
            "[0.7832225077660223, 0.7687914138762323, 0.7486988782542641, 0.8017110560294509, 0.7850437165410451, 0.8213225657677774, 0.8068626149979192, 0.8711316837542042, 0.7321510314941406, nan, 0.8378711523870678, 0.760085123104761, 0.7860422232277168, 0.8529027455954868, 0.8061204298248071, 0.7950881904535934, 0.8262849628009005, 0.8892728136234471, 0.6973709457581888, nan, 0.7743033690954465, 0.7692874997645527, 0.7506472454763226, 0.8099546706638605, 0.8099372161765401, 0.8416668710394891, 0.8213362901378461, 0.8736245174707745, 0.6885079056538601, nan, 0.7095315835271429, 0.7129862142194421, 0.7009585805454698, 0.7548628685043335, 0.7865361077101026, 0.7982247154769817, 0.7279588456647992, 0.8373924476721543, 0.6411200761795044, nan, 0.6891861864632834, 0.714840134270398, 0.7126264210842673, 0.6935629602618042, 0.7137864309379093, 0.761300433749543, 0.691776889356168, 0.7586493509720461, 0.5560982916860571, nan, 0.8075072462985097, 0.6885886311551382, 0.7471643538915221, 0.8240653372864623, 0.7902448410688039, 0.7928423546687724, 0.7178189431204695, 0.8343622295760174, 0.6826732965131659, nan, 0.8137275376139406, 0.7083032815640882, 0.741470844237351, 0.8344979665879478, 0.7743879049930682, 0.7913242401898009, 0.7572481714587109, 0.8543877105372373, 0.6823216715800725, nan, 0.8053934523076971, 0.6792778550140491, 0.7508481979286412, 0.8379304865143867, 0.7815197001654931, 0.7979572713032853, 0.7231802263903674, 0.8399981188789994, 0.6926323771476746, nan, 0.8031116029532565, 0.7074080552791849, 0.734657322354963, 0.8188035498462644, 0.7705794510246391, 0.7763752632573696, 0.7857169289713145, 0.8505526148619346, 0.6663598418235779, nan, 0.7914583004977671, 0.7544202566236653, 0.7549423941213126, 0.8275625667102182, 0.7604332076417315, 0.7794628738253631, 0.7842108813909646, 0.8501460953225196, 0.7599171832426279, nan, 0.7537577951415709, 0.6968327111640585, 0.7144538612221984, 0.7579072849385491, 0.6412186344583235, 0.6984663643202124, 0.800599956848853, 0.7938417005944781, 0.7110021900876431, nan, 0.7962040129443699, 0.7553890715216329, 0.7646554807446452, 0.8174217463841816, 0.7731279885420212, 0.8115943493977694, 0.7609856199360868, 0.8486605709850521, 0.6922810109696154, nan, 0.8151720430593736, 0.7791562025035056, 0.8054209165331032, 0.8136282337753593, 0.7958778244730168, 0.8001731064589283, 0.7770640855611001, 0.8617742046534735, 0.6606521760018211, nan, 0.7835284880174176, 0.7446096181528364, 0.7864528647061177, 0.8050799316196899, 0.7825371470547194, 0.8190460914446113, 0.7241658659575397, 0.8321814430834644, 0.6052422785611281, nan, 0.6824644416991724, 0.6308055340926384, 0.644391465382783, 0.7482110276704367, 0.6750177732381698, 0.7103361376418639, 0.7254760243993734, 0.7884843106547123, 0.7192723233725217, nan, 0.7536774125990021, 0.6906808576596426, 0.7073421670831139, 0.8071179843474438, 0.765511717606243, 0.7867399900736302, 0.8086670704791638, 0.8692328408433028, 0.7405009865760803, nan, 0.7272218548353303, 0.6969432249154643, 0.678438430305645, 0.7542277533794414, 0.6917419429164073, 0.7141480154206769, 0.7840626779425637, 0.7994672370352325, 0.7353305007845196, nan, 0.7873483321824084, 0.7320967231628587, 0.7299307376118543, 0.7907802069207485, 0.7515250001468358, 0.7611496509418215, 0.7958335663411461, 0.8304164856708494, 0.7125402022954209, nan, 0.7732046553883988, 0.7169699408897755, 0.7126438860627607, 0.7861254408854986, 0.725948138328529, 0.7487222492886861, 0.8203830637998212, 0.8243823336773279, 0.7533714304611704, nan, 0.6993824608483569, 0.7023840531413992, 0.6424043019787223, 0.6992379942897601, 0.6282996149894721, 0.6841358078682377, 0.7629152423996263, 0.7584898081371078, 0.7372287233772844, nan, 0.6724348123477907, 0.5893921088398274, 0.5987335660952814, 0.689812097962437, 0.5981792249926015, 0.6505708515013835, 0.6932906693952361, 0.7086364651571607, 0.6885720129257563, nan, 0.7973690409692785, 0.7108571964310021, 0.7465063040548757, 0.8188558925223616, 0.7479617191119717, 0.7973586510238544, 0.7915135365805699, 0.8466427141663485, 0.7416143417358398, nan, 0.7011760728275425, 0.6408338373749672, 0.64752748487971, 0.7671954498147467, 0.6856843859707287, 0.6844047152234999, 0.732608252081877, 0.7798739679097686, 0.754435259814887, nan, 0.7796319991500966, 0.7098277355998318, 0.7481395574202798, 0.7833070114828838, 0.7402998798438184, 0.7747016448551304, 0.7447950532061719, 0.805278139287451, 0.6274749636650085, nan]\n",
            "Rule_of_law\n",
            "##################################################\n",
            "index 143\n",
            "##################################################\n",
            "Article no  18  :  John,_King_of_England\n",
            "Arabic page exits !\n",
            "8\n",
            "228\n",
            "[0.5485484123449886, 0.7161636718445643, 0.7701400697305755, 0.5466405590635938, 0.7179067918614788, 0.7599368665902515, 0.6238548826611308, 0.7305883456308377, 0.7439373447718073, 0.5805217087290796, 0.7647117103189627, 0.8048900038080933, 0.4809455923958528, 0.675554390029347, 0.7754236240599561, 0.3579708149963361, 0.6097020103369084, 0.7419450412911358, 0.6527973930883556, 0.7183019104754316, 0.7246013004011019, 0.46094317228761594, 0.6425661009253848, 0.6829129729829745, 0.5235761410103027, 0.7176615472202716, 0.7979826710170727, 0.4710299130880674, 0.5971382096388473, 0.663698514419524, 0.6036702361314593, 0.7306439559214964, 0.7657193821446535, 0.46868977960669644, 0.6244945104529586, 0.6428711325540067, 0.49489313373316757, 0.7065670997328497, 0.7876052646515936, 0.5496853746432809, 0.7279472352440308, 0.8070772676778954, 0.6483953884340266, 0.6920252270509588, 0.7283056336529063, 0.49372622251009923, 0.7372409068350306, 0.8317505215852751, 0.5588601144102031, 0.7456870196068279, 0.801102313469005, 0.5417225451264673, 0.7138047902877368, 0.7968954050629378, 0.4849443871465161, 0.6872471665800153, 0.8018518246737447, 0.5162809620279061, 0.7427134434969003, 0.7959479108438541, 0.5311813957361714, 0.7477205489429546, 0.8251548070886382, 0.5788204884706237, 0.6980803820281919, 0.7549760049917614, 0.5043747262587851, 0.7119759728763037, 0.7865724365090181, 0.4919425248301169, 0.7210984794718435, 0.7946953281577018, 0.5187779751389134, 0.6345898235752907, 0.6841201761265273, 0.41104983304046816, 0.6407874035124064, 0.758776007265345, 0.39338563718705866, 0.6509859717902126, 0.7586655047543406, 0.4355155734410805, 0.6352406617503875, 0.7048522073451274, 0.5383784458838685, 0.7290858479833321, 0.7844451295073336, 0.5209012113144292, 0.7126431981385168, 0.8172599394776081, 0.506578126222007, 0.7000200312603565, 0.7641445557803997, 0.3985972961049924, 0.6505952989853314, 0.7369123440452858, 0.5032230082688615, 0.6995292669906886, 0.7990112736631306, 0.59069118136724, 0.733329910512727, 0.8086363437623805, 0.49107569497311887, 0.7436575617226667, 0.8619114625536219, 0.4458570914958282, 0.6919864750771958, 0.7953360246401933, 0.5740642418914864, 0.7133809859810752, 0.757089900258879, 0.5358018086475987, 0.6966779624029233, 0.746551754772646, 0.45233877638309594, 0.6616642207980516, 0.7795760638769496, 0.4393673316683726, 0.6409239693079587, 0.7745680174399008, 0.45198499204418296, 0.6583544020242501, 0.7608058692233286, 0.4797933583903662, 0.6404068870250323, 0.7035237106398093, 0.5763448804980167, 0.6286231597824116, 0.6678892305389962, 0.49327028825156016, 0.6478941787881287, 0.6337359187005708, 0.5714966034579598, 0.7431536446135272, 0.7927501151196245, 0.5262552339436103, 0.6859234808674507, 0.7431523508727782, 0.44585953718229465, 0.6095189871748127, 0.6610026473348549, 0.5902736708500704, 0.7462964467565355, 0.8098611755841253, 0.5679484632584663, 0.737456668905557, 0.7680552453153334, 0.4713551905039747, 0.7145881161791688, 0.7741232132426575, 0.4841477133769021, 0.7019145541536571, 0.7715605673134355, 0.40101424582369516, 0.6554324454875419, 0.7617369450792603, 0.4918312906848331, 0.7129660921604938, 0.7815452729139977, 0.42620899339733476, 0.5840799743993287, 0.643281845744852, 0.5355185259746705, 0.7005535739122122, 0.8140770359736992, 0.4620264202686326, 0.7057730826126378, 0.8002312175691725, 0.4855403141503324, 0.7031286469417133, 0.7959143178984694, 0.5106739079360811, 0.6528788222113009, 0.7144351688360406, 0.49394293145066737, 0.6604975323012297, 0.685484507064747, 0.4574799364916029, 0.6642586142314275, 0.7699131742221652, 0.6234034160046098, 0.6990910580500644, 0.7072308296652644, 0.5309528556005118, 0.6768873067416118, 0.6861930513046738, 0.5664708935613614, 0.7101929141685288, 0.7006401312968847, 0.5683257846133661, 0.7303129710919338, 0.8013293377328485, 0.31981332049438915, 0.5884263194783379, 0.7290111505162618, 0.4853944007025307, 0.6372831677685219, 0.7092240447096098, 0.5055342277533955, 0.6913009151305758, 0.7736009877926271, 0.47352278005063086, 0.7076344745874515, 0.8216056230232165, 0.44079535643173484, 0.6780034481598541, 0.7566519429657725, 0.49902289863561844, 0.6878846652278602, 0.7751058845120754, 0.5492424746676761, 0.6924838593264737, 0.6928254629776868, 0.507693405866322, 0.7061784168860414, 0.8173187232481443, 0.4217614185426338, 0.6366092644260917, 0.7696470243773403, 0.4675890225690802, 0.6452236886726498, 0.7258256298155944, 0.6309285525571572, 0.7038905171012162, 0.6598940078177377, 0.5365805521308762, 0.684327337706565, 0.728545462396181]\n",
            "John,_King_of_England\n",
            "##################################################\n",
            "index 249\n",
            "##################################################\n",
            "Article no  19  :  FA_Cup\n",
            "Arabic page do not exist\n",
            "##################################################\n"
          ],
          "name": "stdout"
        },
        {
          "output_type": "stream",
          "text": [
            "/usr/local/lib/python3.6/dist-packages/numpy/lib/histograms.py:824: RuntimeWarning: invalid value encountered in greater_equal\n",
            "  keep = (tmp_a >= first_edge)\n",
            "/usr/local/lib/python3.6/dist-packages/numpy/lib/histograms.py:825: RuntimeWarning: invalid value encountered in less_equal\n",
            "  keep &= (tmp_a <= last_edge)\n"
          ],
          "name": "stderr"
        },
        {
          "output_type": "display_data",
          "data": {
            "image/png": "[encoded data removed]",
            "text/plain": [
              "<Figure size 720x720 with 8 Axes>"
            ]
          },
          "metadata": {
            "tags": []
          }
        }
      ]
    }
  ]
}